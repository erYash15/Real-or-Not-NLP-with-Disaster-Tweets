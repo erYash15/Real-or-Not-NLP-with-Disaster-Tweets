{
  "nbformat": 4,
  "nbformat_minor": 0,
  "metadata": {
    "kernelspec": {
      "display_name": "Python 3",
      "language": "python",
      "name": "python3"
    },
    "language_info": {
      "codemirror_mode": {
        "name": "ipython",
        "version": 3
      },
      "file_extension": ".py",
      "mimetype": "text/x-python",
      "name": "python",
      "nbconvert_exporter": "python",
      "pygments_lexer": "ipython3",
      "version": "3.7.6"
    },
    "colab": {
      "name": "Real-or-Not-NLP-with-Disaster-Tweets.ipynb",
      "provenance": [],
      "collapsed_sections": [],
      "toc_visible": true,
      "include_colab_link": true
    }
  },
  "cells": [
    {
      "cell_type": "markdown",
      "metadata": {
        "id": "view-in-github",
        "colab_type": "text"
      },
      "source": [
        "<a href=\"https://colab.research.google.com/github/erYash15/Real-or-Not-NLP-with-Disaster-Tweets/blob/master/Real_or_Not_NLP_with_Disaster_Tweets.ipynb\" target=\"_parent\"><img src=\"https://colab.research.google.com/assets/colab-badge.svg\" alt=\"Open In Colab\"/></a>"
      ]
    },
    {
      "cell_type": "markdown",
      "metadata": {
        "id": "HTAaf54bE1IL"
      },
      "source": [
        "# NLP DISASTER TWEETS: EDA, NLP, TENSORFLOW, KERAS"
      ]
    },
    {
      "cell_type": "markdown",
      "metadata": {
        "id": "QmlWsK6fE1Ic"
      },
      "source": [
        "##**Table of Contents**\n",
        "\n",
        "**Introduction**<br>\n",
        "\n",
        "**Libraries**<br>\n",
        "\n",
        "**Loading Data**<br>\n",
        " \n",
        "**Exploratory Data Analysis**<br>\n",
        "  &emsp; Analyzing Labels<br>\n",
        "  &emsp; Analyzing Features<br>\n",
        "  &emsp; &emsp; Sentence Length Analysis<br>\n",
        "\n",
        "\n",
        "**Data Cleaning**<br>\n",
        "  &emsp; Remove URL<br>\n",
        "  &emsp; Handle Tags<br>\n",
        "  &emsp; Handle Emoji<br>\n",
        "  &emsp; Remove HTML Tags<br>\n",
        "  &emsp; Remove Stopwords and Stemming<br>\n",
        "  &emsp; Remove Useless Characters<br>\n",
        "  &emsp; WORLDCLOUD<br>\n",
        "\n",
        "**Final Pre-Processing Data**<br>\n",
        "\n",
        "**Machine Learning**<br>\n",
        "  &emsp; Logistic Regression<br>\n",
        "  &emsp; Navie Bayes<br>\n",
        "  &emsp; &emsp; Gaussian Naive Bayes<br>\n",
        "  &emsp; &emsp; Bernoulli Naive Bayes<br>\n",
        "  &emsp; &emsp; Complement Naive Bayes<br>\n",
        "  &emsp; &emsp; Multinomial Naive Bayes<br>\n",
        "  &emsp; Support Vector Machine (SVM)<br>\n",
        "  &emsp; &emsp; RBF kernel SVM<br>\n",
        "  &emsp; &emsp; Linear Kernel SVM<br>\n",
        "  &emsp; Random Forest<br>\n",
        "\n",
        "**Deep Learning**<br>\n",
        "&emsp; Single Layer Perceptron<br>\n",
        "&emsp; Multi Layer Perceptron<br>\n",
        "  &emsp; &emsp; Model 1 : SIGMOID + ADAM<br>\n",
        "  &emsp; &emsp; Model 2 : SIGMOID + SGD<br>\n",
        "  &emsp; &emsp; Model 3 : RELU + ADAM<br>\n",
        "  &emsp; &emsp; Model 4 : RELU + SGD<br>\n",
        "  &emsp; &emsp; Model 5 : SIGMOID + BATCH NORMALIZATION + ADAM<br>\n",
        "  &emsp; &emsp; Model 6 : SIGMOID + BATCH NORMALIZATION + SGD<br>\n",
        "  &emsp; &emsp; Model 7 : RELU + DROPOUT + ADAM<br>\n",
        "  &emsp; &emsp; Model 8 : RELU + DROPOUT + SGD<br>\n",
        "\n",
        "** Results**<br>\n",
        "\n",
        "** Conclusion**\n",
        "  "
      ]
    },
    {
      "cell_type": "markdown",
      "metadata": {
        "id": "2ulydcWQE1Ie"
      },
      "source": [
        "## **Introduction**\n",
        "\n",
        "My name is <b>Yash Gupta</b>. This project was made for <b>Natural Language Processing</b> Course. As a part of the course we came across many machine learning/ Data science aspects. I believe the Kaggle is the right place to practice with recent technologies in the area of data science and good place to refer all kinds of data science related projects. In this Kernal I have implemented Machine Learning and Deep Learning models for classification."
      ]
    },
    {
      "cell_type": "markdown",
      "metadata": {
        "id": "8mCy-TmOE1Ig"
      },
      "source": [
        "## Libraries"
      ]
    },
    {
      "cell_type": "code",
      "metadata": {
        "id": "uDUrgmTbdXsg",
        "colab": {
          "base_uri": "https://localhost:8080/"
        },
        "outputId": "8714c100-d295-481f-d10a-3f8c0cd49fa8"
      },
      "source": [
        "%tensorflow_version 1.x"
      ],
      "execution_count": 1,
      "outputs": [
        {
          "output_type": "stream",
          "text": [
            "TensorFlow 1.x selected.\n"
          ],
          "name": "stdout"
        }
      ]
    },
    {
      "cell_type": "code",
      "metadata": {
        "colab": {
          "base_uri": "https://localhost:8080/"
        },
        "id": "XO4onvQdH2LH",
        "outputId": "18312f5b-5a92-4026-8f46-6b60c1bce84f"
      },
      "source": [
        "!pip install demoji"
      ],
      "execution_count": 2,
      "outputs": [
        {
          "output_type": "stream",
          "text": [
            "Collecting demoji\n",
            "  Downloading https://files.pythonhosted.org/packages/88/6a/34379abe01c9c36fe9fddc4181dd935332e7d0159ec3fae76f712e49bcea/demoji-0.4.0-py2.py3-none-any.whl\n",
            "Requirement already satisfied: requests<3.0.0 in /usr/local/lib/python3.6/dist-packages (from demoji) (2.23.0)\n",
            "Collecting colorama\n",
            "  Downloading https://files.pythonhosted.org/packages/44/98/5b86278fbbf250d239ae0ecb724f8572af1c91f4a11edf4d36a206189440/colorama-0.4.4-py2.py3-none-any.whl\n",
            "Requirement already satisfied: idna<3,>=2.5 in /usr/local/lib/python3.6/dist-packages (from requests<3.0.0->demoji) (2.10)\n",
            "Requirement already satisfied: chardet<4,>=3.0.2 in /usr/local/lib/python3.6/dist-packages (from requests<3.0.0->demoji) (3.0.4)\n",
            "Requirement already satisfied: urllib3!=1.25.0,!=1.25.1,<1.26,>=1.21.1 in /usr/local/lib/python3.6/dist-packages (from requests<3.0.0->demoji) (1.24.3)\n",
            "Requirement already satisfied: certifi>=2017.4.17 in /usr/local/lib/python3.6/dist-packages (from requests<3.0.0->demoji) (2020.12.5)\n",
            "Installing collected packages: colorama, demoji\n",
            "Successfully installed colorama-0.4.4 demoji-0.4.0\n"
          ],
          "name": "stdout"
        }
      ]
    },
    {
      "cell_type": "code",
      "metadata": {
        "id": "mZXFlDMCE1Ih"
      },
      "source": [
        "# Data Manipulation libraries\n",
        "import numpy as np # linear algebra\n",
        "import pandas as pd # data processing, CSV file I/O (e.g. pd.read_csv)\n",
        "\n",
        "import os\n",
        "\n",
        "# NLP libraries\n",
        "import string # Library for string operations\n",
        "import nltk \n",
        "from nltk.corpus import stopwords\n",
        "from nltk.stem.snowball import SnowballStemmer\n",
        "import re # Regex library\n",
        "import demoji\n",
        "from wordcloud import WordCloud # Word Cloud library\n",
        "\n",
        "# ploting libraries\n",
        "import matplotlib.pyplot as plt\n",
        "\n",
        "# ML/AI libraries\n",
        "from sklearn.model_selection import train_test_split\n",
        "from sklearn.feature_extraction.text import TfidfVectorizer\n",
        "from sklearn.linear_model import LinearRegression\n",
        "from sklearn.linear_model import LogisticRegression\n",
        "from sklearn.naive_bayes import GaussianNB, BernoulliNB, ComplementNB, MultinomialNB\n",
        "from sklearn import svm\n",
        "from sklearn.ensemble import RandomForestClassifier\n",
        "from sklearn.metrics import accuracy_score\n",
        "from sklearn.metrics import precision_recall_fscore_support\n",
        "\n",
        "from tensorflow.keras.models import Sequential \n",
        "from tensorflow.keras.layers import Dense, Activation, BatchNormalization, Dropout \n",
        "from tensorflow.python.keras.initializers import RandomNormal"
      ],
      "execution_count": 3,
      "outputs": []
    },
    {
      "cell_type": "markdown",
      "metadata": {
        "id": "mye6dcyvE1Ik"
      },
      "source": [
        "## Loading Data"
      ]
    },
    {
      "cell_type": "code",
      "metadata": {
        "colab": {
          "base_uri": "https://localhost:8080/"
        },
        "id": "_qvMOrp0Ibja",
        "outputId": "24c52227-9e96-4cd2-d004-3986a3f289b9"
      },
      "source": [
        "from google.colab import drive\r\n",
        "drive.mount('/content/gdrive')"
      ],
      "execution_count": 4,
      "outputs": [
        {
          "output_type": "stream",
          "text": [
            "Mounted at /content/gdrive\n"
          ],
          "name": "stdout"
        }
      ]
    },
    {
      "cell_type": "code",
      "metadata": {
        "colab": {
          "base_uri": "https://localhost:8080/",
          "height": 208
        },
        "id": "CCzQ5_WYE1Il",
        "outputId": "2deaa833-82ba-44da-ea25-cfdfa5a0b550"
      },
      "source": [
        "#@title\n",
        "data = pd.read_csv(\"/content/gdrive/My Drive//Colab Notebooks/tweets.csv\")\n",
        "\n",
        "# Basic Info\n",
        "print(\"Total DataSet: \", len(data))\n",
        "print(\"Columns: \", list(data.columns))\n",
        "\n",
        "X = data[[\"id\", \"keyword\", \"location\", \"text\"]] # Features\n",
        "y = data[[\"id\",\"target\"]] #Labels\n",
        "\n",
        "X_train, X_test, y_train, y_test = train_test_split(X, y, test_size=0.2, random_state=42)\n",
        "print(\"Training Data\", len(y_train))\n",
        "print(\"Testing Data\", len(y_test))\n",
        "\n",
        "data.head(3)"
      ],
      "execution_count": 5,
      "outputs": [
        {
          "output_type": "stream",
          "text": [
            "Total DataSet:  11370\n",
            "Columns:  ['id', 'keyword', 'location', 'text', 'target']\n",
            "Training Data 9096\n",
            "Testing Data 2274\n"
          ],
          "name": "stdout"
        },
        {
          "output_type": "execute_result",
          "data": {
            "text/html": [
              "<div>\n",
              "<style scoped>\n",
              "    .dataframe tbody tr th:only-of-type {\n",
              "        vertical-align: middle;\n",
              "    }\n",
              "\n",
              "    .dataframe tbody tr th {\n",
              "        vertical-align: top;\n",
              "    }\n",
              "\n",
              "    .dataframe thead th {\n",
              "        text-align: right;\n",
              "    }\n",
              "</style>\n",
              "<table border=\"1\" class=\"dataframe\">\n",
              "  <thead>\n",
              "    <tr style=\"text-align: right;\">\n",
              "      <th></th>\n",
              "      <th>id</th>\n",
              "      <th>keyword</th>\n",
              "      <th>location</th>\n",
              "      <th>text</th>\n",
              "      <th>target</th>\n",
              "    </tr>\n",
              "  </thead>\n",
              "  <tbody>\n",
              "    <tr>\n",
              "      <th>0</th>\n",
              "      <td>0</td>\n",
              "      <td>ablaze</td>\n",
              "      <td>NaN</td>\n",
              "      <td>Communal violence in Bhainsa, Telangana. \"Ston...</td>\n",
              "      <td>1</td>\n",
              "    </tr>\n",
              "    <tr>\n",
              "      <th>1</th>\n",
              "      <td>1</td>\n",
              "      <td>ablaze</td>\n",
              "      <td>NaN</td>\n",
              "      <td>Telangana: Section 144 has been imposed in Bha...</td>\n",
              "      <td>1</td>\n",
              "    </tr>\n",
              "    <tr>\n",
              "      <th>2</th>\n",
              "      <td>2</td>\n",
              "      <td>ablaze</td>\n",
              "      <td>New York City</td>\n",
              "      <td>Arsonist sets cars ablaze at dealership https:...</td>\n",
              "      <td>1</td>\n",
              "    </tr>\n",
              "  </tbody>\n",
              "</table>\n",
              "</div>"
            ],
            "text/plain": [
              "   id keyword  ...                                               text target\n",
              "0   0  ablaze  ...  Communal violence in Bhainsa, Telangana. \"Ston...      1\n",
              "1   1  ablaze  ...  Telangana: Section 144 has been imposed in Bha...      1\n",
              "2   2  ablaze  ...  Arsonist sets cars ablaze at dealership https:...      1\n",
              "\n",
              "[3 rows x 5 columns]"
            ]
          },
          "metadata": {
            "tags": []
          },
          "execution_count": 5
        }
      ]
    },
    {
      "cell_type": "markdown",
      "metadata": {
        "id": "iXX-En2GE1Im"
      },
      "source": [
        "## Exploratory Data Analysis"
      ]
    },
    {
      "cell_type": "markdown",
      "metadata": {
        "id": "r4jovtx_E1In"
      },
      "source": [
        "### Analyzing Lables"
      ]
    },
    {
      "cell_type": "code",
      "metadata": {
        "id": "wAzcgPrBE1In"
      },
      "source": [
        "Real_len = data[data['target'] == 1].shape[0]\n",
        "Not_len = data[data['target'] == 0].shape[0]"
      ],
      "execution_count": 6,
      "outputs": []
    },
    {
      "cell_type": "code",
      "metadata": {
        "colab": {
          "base_uri": "https://localhost:8080/",
          "height": 335
        },
        "id": "P6LF_-nQA2W0",
        "outputId": "afd0596f-f771-4f73-d48c-8e804d66ba75"
      },
      "source": [
        "# bar plot of the 3 classes\r\n",
        "plt.rcParams['figure.figsize'] = (7, 5)\r\n",
        "plt.bar(10,Real_len,3, label=\"Real\", color='blue')\r\n",
        "plt.bar(15,Not_len,3, label=\"Not\", color='red')\r\n",
        "plt.legend()\r\n",
        "plt.ylabel('Number of examples')\r\n",
        "plt.title('Propertion of examples')\r\n",
        "plt.show()"
      ],
      "execution_count": 7,
      "outputs": [
        {
          "output_type": "display_data",
          "data": {
            "image/png": "[encoded data removed]",
            "text/plain": [
              "<Figure size 504x360 with 1 Axes>"
            ]
          },
          "metadata": {
            "tags": [],
            "needs_background": "light"
          }
        }
      ]
    },
    {
      "cell_type": "markdown",
      "metadata": {
        "id": "y-KzXmW8E1Io"
      },
      "source": [
        "### Analyzing Features"
      ]
    },
    {
      "cell_type": "markdown",
      "metadata": {
        "id": "kw2hHZf4E1Ip"
      },
      "source": [
        "#### Sentence length analysis"
      ]
    },
    {
      "cell_type": "code",
      "metadata": {
        "id": "LHDQnse-BqCz"
      },
      "source": [
        "def length(string):    \r\n",
        "    return len(string)\r\n",
        "data['length'] = data['text'].apply(length)"
      ],
      "execution_count": 8,
      "outputs": []
    },
    {
      "cell_type": "code",
      "metadata": {
        "colab": {
          "base_uri": "https://localhost:8080/",
          "height": 387
        },
        "id": "dy1-hrn3E1Iq",
        "outputId": "c378211e-7f67-4ee7-8bd0-0a1b6503fc89"
      },
      "source": [
        "plt.rcParams['figure.figsize'] = (18.0, 6.0)\n",
        "bins = 150\n",
        "plt.hist(data[data['target'] == 0]['length'], alpha = 0.6, bins=bins, label='Not')\n",
        "plt.hist(data[data['target'] == 1]['length'], alpha = 0.8, bins=bins, label='Real')\n",
        "plt.xlabel('length')\n",
        "plt.ylabel('numbers')\n",
        "plt.legend(loc='upper right')\n",
        "plt.xlim(0,150)\n",
        "plt.grid()\n",
        "plt.show()"
      ],
      "execution_count": 9,
      "outputs": [
        {
          "output_type": "display_data",
          "data": {
            "image/png": "[encoded data removed]",
            "text/plain": [
              "<Figure size 1296x432 with 1 Axes>"
            ]
          },
          "metadata": {
            "tags": [],
            "needs_background": "light"
          }
        }
      ]
    },
    {
      "cell_type": "code",
      "metadata": {
        "colab": {
          "base_uri": "https://localhost:8080/",
          "height": 355
        },
        "id": "nQs1LLNGB8AN",
        "outputId": "d22dd12c-bff8-4433-e9c7-ca05e6ed7c95"
      },
      "source": [
        "fig,(ax1,ax2)=plt.subplots(1,2,figsize=(10,5))\r\n",
        "tweet_len=data[data['target']==1]['text'].str.len()\r\n",
        "ax1.hist(tweet_len,color='blue')\r\n",
        "ax1.set_title('disaster tweets')\r\n",
        "tweet_len=data[data['target']==0]['text'].str.len()\r\n",
        "ax2.hist(tweet_len,color='red')\r\n",
        "ax2.set_title('Not disaster tweets')\r\n",
        "fig.suptitle('Characters in tweets')\r\n",
        "plt.show()"
      ],
      "execution_count": 10,
      "outputs": [
        {
          "output_type": "display_data",
          "data": {
            "image/png": "[encoded data removed]",
            "text/plain": [
              "<Figure size 720x360 with 2 Axes>"
            ]
          },
          "metadata": {
            "tags": [],
            "needs_background": "light"
          }
        }
      ]
    },
    {
      "cell_type": "markdown",
      "metadata": {
        "id": "N6-Y3dmbE1Is"
      },
      "source": [
        "## Data Cleaning "
      ]
    },
    {
      "cell_type": "markdown",
      "metadata": {
        "id": "fWgOst7BE1Is"
      },
      "source": [
        "Data cleaning is the process of preparing data for analysis by removing or modifying data that is incorrect, incomplete, irrelevant, duplicated, or improperly formatted.<br><br>\n",
        "Step 1. Remove Url<br>\n",
        "Step 2. Handle Tags<br>\n",
        "Step 3. Handle emoji's<br>\n",
        "Step 4. Remove HTML Tags<br>\n",
        "Step 5. Remove stopwords<br>\n",
        "Step 6. Removing Useless Characters"
      ]
    },
    {
      "cell_type": "markdown",
      "metadata": {
        "id": "sZDDQRYiE1It"
      },
      "source": [
        "### Step 1. Remove Url"
      ]
    },
    {
      "cell_type": "code",
      "metadata": {
        "id": "OmYW5LORE1It"
      },
      "source": [
        "#https://stackoverflow.com/questions/11331982/how-to-remove-any-url-within-a-string-in-python/11332580\n",
        "def Remove_Url(string):\n",
        "    return re.sub(r'(https|http)?:\\/\\/(\\w|\\.|\\/|\\?|\\=|\\&|\\%|\\-)*\\b', '', string)"
      ],
      "execution_count": 11,
      "outputs": []
    },
    {
      "cell_type": "code",
      "metadata": {
        "colab": {
          "base_uri": "https://localhost:8080/"
        },
        "id": "tiqKziW7E1Iu",
        "outputId": "588d26a3-e766-4c98-f15f-cfee2f6b0c6a"
      },
      "source": [
        "print(\"Example of text with URL: \\n\", X_train['text'][3912], end = \"\\n\\n\")\n",
        "X_train['text'] = X_train['text'].apply(Remove_Url)\n",
        "print(\"Example of text without URL: \\n\", X_train['text'][3912])"
      ],
      "execution_count": 12,
      "outputs": [
        {
          "output_type": "stream",
          "text": [
            "Example of text with URL: \n",
            " why the hell would want to join the Kenyan Cabinet? why would… https://t.co/l91GiZ6Wjr\n",
            "\n",
            "Example of text without URL: \n",
            " why the hell would want to join the Kenyan Cabinet? why would… \n"
          ],
          "name": "stdout"
        },
        {
          "output_type": "stream",
          "text": [
            "/usr/local/lib/python3.6/dist-packages/ipykernel_launcher.py:2: SettingWithCopyWarning: \n",
            "A value is trying to be set on a copy of a slice from a DataFrame.\n",
            "Try using .loc[row_indexer,col_indexer] = value instead\n",
            "\n",
            "See the caveats in the documentation: https://pandas.pydata.org/pandas-docs/stable/user_guide/indexing.html#returning-a-view-versus-a-copy\n",
            "  \n"
          ],
          "name": "stderr"
        }
      ]
    },
    {
      "cell_type": "markdown",
      "metadata": {
        "id": "N8EV4knxE1Iv"
      },
      "source": [
        "### Step 2. Handle Tags"
      ]
    },
    {
      "cell_type": "code",
      "metadata": {
        "id": "YjLiyMkfE1Iw"
      },
      "source": [
        "def Handle_Tags(string):\n",
        "    pattern = re.compile(r'[@|#][^\\s]+')\n",
        "    matches = pattern.findall(string)\n",
        "    tags = [match[1:] for match in matches]\n",
        "    # Removing tags from main string\n",
        "    string = re.sub(pattern, '', string)\n",
        "    # More weightage to tag by adding them 3 times\n",
        "    return string + ' ' + ' '.join(tags) + ' '+ ' '.join(tags) + ' ' + ' '.join(tags)"
      ],
      "execution_count": 13,
      "outputs": []
    },
    {
      "cell_type": "code",
      "metadata": {
        "colab": {
          "base_uri": "https://localhost:8080/"
        },
        "id": "g7v7lK2KE1Iw",
        "outputId": "c154d7dd-3cbe-4df3-a115-344f290e5786"
      },
      "source": [
        "print(\"Example of text without Handling Tags: \\n\", X_train['text'][3914],end = \"\\n\\n\")\n",
        "X_train['text'] = X_train['text'].apply(Handle_Tags)\n",
        "print(\"Example of text with Handling Tags: \\n\", X_train['text'][3914])"
      ],
      "execution_count": 14,
      "outputs": [
        {
          "output_type": "stream",
          "text": [
            "Example of text without Handling Tags: \n",
            " #WednesdayWisdom Those who say that they have appeared to destroy all the locos He is worshiping them as full divine Mu…\n",
            "\n",
            "Example of text with Handling Tags: \n",
            "  Those who say that they have appeared to destroy all the locos He is worshiping them as full divine Mu… WednesdayWisdom WednesdayWisdom WednesdayWisdom\n"
          ],
          "name": "stdout"
        },
        {
          "output_type": "stream",
          "text": [
            "/usr/local/lib/python3.6/dist-packages/ipykernel_launcher.py:2: SettingWithCopyWarning: \n",
            "A value is trying to be set on a copy of a slice from a DataFrame.\n",
            "Try using .loc[row_indexer,col_indexer] = value instead\n",
            "\n",
            "See the caveats in the documentation: https://pandas.pydata.org/pandas-docs/stable/user_guide/indexing.html#returning-a-view-versus-a-copy\n",
            "  \n"
          ],
          "name": "stderr"
        }
      ]
    },
    {
      "cell_type": "markdown",
      "metadata": {
        "id": "WwX3zMvAE1Iz"
      },
      "source": [
        "### Step 3. Handle emoji's"
      ]
    },
    {
      "cell_type": "code",
      "metadata": {
        "colab": {
          "base_uri": "https://localhost:8080/"
        },
        "id": "8So-uz0hE1Iz",
        "outputId": "ed202f7e-ef5b-497e-da45-ed2ad01da77a"
      },
      "source": [
        "#http://unicode.org/Public/emoji/12.0/emoji-test.txt\n",
        "demoji.download_codes()"
      ],
      "execution_count": 15,
      "outputs": [
        {
          "output_type": "stream",
          "text": [
            "Downloading emoji data ...\n",
            "... OK (Got response in 0.17 seconds)\n",
            "Writing emoji data to /root/.demoji/codes.json ...\n",
            "... OK\n"
          ],
          "name": "stdout"
        }
      ]
    },
    {
      "cell_type": "code",
      "metadata": {
        "id": "0vc6LuCTE1I0"
      },
      "source": [
        "def Handle_emoji(string):\n",
        "    return demoji.replace_with_desc(string)"
      ],
      "execution_count": 16,
      "outputs": []
    },
    {
      "cell_type": "code",
      "metadata": {
        "colab": {
          "base_uri": "https://localhost:8080/"
        },
        "id": "s0W2ubsNE1I1",
        "outputId": "45c0a53a-7b67-461b-910b-e6ad2389ed5f"
      },
      "source": [
        "print(\"Example of text without Handled Emojis: \\n\", X_train['text'][17],end = \"\\n\\n\")\n",
        "X_train['text'] = X_train['text'].apply(Handle_emoji)\n",
        "print(\"Example of text with Handled Emoji: \\n\", X_train['text'][17])\n"
      ],
      "execution_count": 17,
      "outputs": [
        {
          "output_type": "stream",
          "text": [
            "Example of text without Handled Emojis: \n",
            " Rengoku sets my heart ablaze😔❤️🔥 P.s. I missed this style of coloring I do so here it is c:   鬼滅の刃 鬼滅の刃 鬼滅の刃\n",
            "\n"
          ],
          "name": "stdout"
        },
        {
          "output_type": "stream",
          "text": [
            "/usr/local/lib/python3.6/dist-packages/ipykernel_launcher.py:2: SettingWithCopyWarning: \n",
            "A value is trying to be set on a copy of a slice from a DataFrame.\n",
            "Try using .loc[row_indexer,col_indexer] = value instead\n",
            "\n",
            "See the caveats in the documentation: https://pandas.pydata.org/pandas-docs/stable/user_guide/indexing.html#returning-a-view-versus-a-copy\n",
            "  \n"
          ],
          "name": "stderr"
        },
        {
          "output_type": "stream",
          "text": [
            "Example of text with Handled Emoji: \n",
            " Rengoku sets my heart ablaze:pensive face::red heart::fire: P.s. I missed this style of coloring I do so here it is c:   鬼滅の刃 鬼滅の刃 鬼滅の刃\n"
          ],
          "name": "stdout"
        }
      ]
    },
    {
      "cell_type": "markdown",
      "metadata": {
        "id": "hjCapL2ME1I2"
      },
      "source": [
        "### Step 4. Remove HTML Tags"
      ]
    },
    {
      "cell_type": "code",
      "metadata": {
        "id": "b-0jdMscE1I3"
      },
      "source": [
        "def Remove_html(string):\n",
        "    return re.sub(r'<.*?>|&([a-z0-9]+|#[0-9]{1,6}|#x[0-9a-f]{1,6});', '', str(string))"
      ],
      "execution_count": 18,
      "outputs": []
    },
    {
      "cell_type": "code",
      "metadata": {
        "id": "gvDJfdhLE1I3",
        "colab": {
          "base_uri": "https://localhost:8080/"
        },
        "outputId": "f6f1b061-4384-405b-9fcb-0cd0595ff64d"
      },
      "source": [
        "X_train['text'] = X_train['text'].apply(Remove_html)"
      ],
      "execution_count": 19,
      "outputs": [
        {
          "output_type": "stream",
          "text": [
            "/usr/local/lib/python3.6/dist-packages/ipykernel_launcher.py:1: SettingWithCopyWarning: \n",
            "A value is trying to be set on a copy of a slice from a DataFrame.\n",
            "Try using .loc[row_indexer,col_indexer] = value instead\n",
            "\n",
            "See the caveats in the documentation: https://pandas.pydata.org/pandas-docs/stable/user_guide/indexing.html#returning-a-view-versus-a-copy\n",
            "  \"\"\"Entry point for launching an IPython kernel.\n"
          ],
          "name": "stderr"
        }
      ]
    },
    {
      "cell_type": "markdown",
      "metadata": {
        "id": "p0y9F9VFE1I3"
      },
      "source": [
        "### Step 5. Remove Stopwords and Stemming"
      ]
    },
    {
      "cell_type": "code",
      "metadata": {
        "colab": {
          "base_uri": "https://localhost:8080/"
        },
        "id": "kx1PuCV4E1I4",
        "outputId": "8ab0b718-16c6-432e-85a6-5475bfdec24b"
      },
      "source": [
        "nltk.download('punkt')\n",
        "nltk.download('stopwords')\n",
        "stemmer  = SnowballStemmer('english')"
      ],
      "execution_count": 20,
      "outputs": [
        {
          "output_type": "stream",
          "text": [
            "[nltk_data] Downloading package punkt to /root/nltk_data...\n",
            "[nltk_data]   Unzipping tokenizers/punkt.zip.\n",
            "[nltk_data] Downloading package stopwords to /root/nltk_data...\n",
            "[nltk_data]   Unzipping corpora/stopwords.zip.\n"
          ],
          "name": "stdout"
        }
      ]
    },
    {
      "cell_type": "code",
      "metadata": {
        "id": "cjpPSpWfE1I4"
      },
      "source": [
        "stopword = stopwords.words('english')\n",
        "def Remove_StopAndStem(string):\n",
        "    string_list = string.split()\n",
        "    return ' '.join([stemmer.stem(i) for i in string_list if i not in stopword])"
      ],
      "execution_count": 21,
      "outputs": []
    },
    {
      "cell_type": "code",
      "metadata": {
        "colab": {
          "base_uri": "https://localhost:8080/"
        },
        "id": "HJdrrM19E1I5",
        "outputId": "792468ba-9b9d-468b-a821-e6492fc0688c"
      },
      "source": [
        "print(\"Example of text before Removing Stopwords: \\n\", X_train['text'][17],end = \"\\n\\n\")\n",
        "X_train['text'] = X_train['text'].apply(Remove_StopAndStem)\n",
        "print(\"Example of text after Removing Stopwords and Stemming: \\n\", X_train['text'][17])"
      ],
      "execution_count": 22,
      "outputs": [
        {
          "output_type": "stream",
          "text": [
            "Example of text before Removing Stopwords: \n",
            " Rengoku sets my heart ablaze:pensive face::red heart::fire: P.s. I missed this style of coloring I do so here it is c:   鬼滅の刃 鬼滅の刃 鬼滅の刃\n",
            "\n"
          ],
          "name": "stdout"
        },
        {
          "output_type": "stream",
          "text": [
            "/usr/local/lib/python3.6/dist-packages/ipykernel_launcher.py:2: SettingWithCopyWarning: \n",
            "A value is trying to be set on a copy of a slice from a DataFrame.\n",
            "Try using .loc[row_indexer,col_indexer] = value instead\n",
            "\n",
            "See the caveats in the documentation: https://pandas.pydata.org/pandas-docs/stable/user_guide/indexing.html#returning-a-view-versus-a-copy\n",
            "  \n"
          ],
          "name": "stderr"
        },
        {
          "output_type": "stream",
          "text": [
            "Example of text after Removing Stopwords and Stemming: \n",
            " rengoku set heart ablaze:pens face::r heart::fire: p.s. i miss style color i c: 鬼滅の刃 鬼滅の刃 鬼滅の刃\n"
          ],
          "name": "stdout"
        }
      ]
    },
    {
      "cell_type": "markdown",
      "metadata": {
        "id": "cOgqqq8zE1I6"
      },
      "source": [
        "### Step 6. Removing Useless Characters"
      ]
    },
    {
      "cell_type": "code",
      "metadata": {
        "id": "-iAdeyowE1I6"
      },
      "source": [
        "def Remove_UC(string):\n",
        "    thestring = re.sub(r'[^a-zA-Z\\s]','', string)\n",
        "    # remove word of length less than 2\n",
        "    thestring = re.sub(r'\\b\\w{1,2}\\b', '', thestring)\n",
        "    #https://www.geeksforgeeks.org/python-remove-unwanted-spaces-from-string/\n",
        "    return re.sub(' +', ' ', thestring) "
      ],
      "execution_count": 23,
      "outputs": []
    },
    {
      "cell_type": "code",
      "metadata": {
        "colab": {
          "base_uri": "https://localhost:8080/"
        },
        "id": "oNwVeGP8E1I7",
        "outputId": "b855300e-e669-4b14-f3dc-3fa7f0ac8c5f"
      },
      "source": [
        "print(\"Example of text before Removing Useless Character: \\n\", X_train['text'][17],end = \"\\n\\n\")\n",
        "X_train['text'] = X_train['text'].apply(Remove_UC)\n",
        "print(\"Example of text after Removing Useless Character: \\n\", X_train['text'][17])"
      ],
      "execution_count": 24,
      "outputs": [
        {
          "output_type": "stream",
          "text": [
            "Example of text before Removing Useless Character: \n",
            " rengoku set heart ablaze:pens face::r heart::fire: p.s. i miss style color i c: 鬼滅の刃 鬼滅の刃 鬼滅の刃\n",
            "\n"
          ],
          "name": "stdout"
        },
        {
          "output_type": "stream",
          "text": [
            "/usr/local/lib/python3.6/dist-packages/ipykernel_launcher.py:2: SettingWithCopyWarning: \n",
            "A value is trying to be set on a copy of a slice from a DataFrame.\n",
            "Try using .loc[row_indexer,col_indexer] = value instead\n",
            "\n",
            "See the caveats in the documentation: https://pandas.pydata.org/pandas-docs/stable/user_guide/indexing.html#returning-a-view-versus-a-copy\n",
            "  \n"
          ],
          "name": "stderr"
        },
        {
          "output_type": "stream",
          "text": [
            "Example of text after Removing Useless Character: \n",
            " rengoku set heart ablazepens facer heartfire miss style color \n"
          ],
          "name": "stdout"
        }
      ]
    },
    {
      "cell_type": "code",
      "metadata": {
        "id": "3voW0wLlE1I8"
      },
      "source": [
        "def merging_details(data):\n",
        "        #df = pd.DataFrame(columns=['id', 'Cleaned_data'])\n",
        "        df_list = []\n",
        "        \n",
        "        #https://www.geeksforgeeks.org/how-to-iterate-over-rows-in-pandas-dataframe/\n",
        "        for row in data.itertuples():\n",
        "            df_dict = {}\n",
        "            # Processing Keyword and location\n",
        "            keyword = re.sub(r'[^a-zA-Z\\s]','', str(row[2]))\n",
        "            location = re.sub(r'[^a-zA-Z\\s]','', str(row[3]))\n",
        "            keyword = re.sub(r'\\b\\w{1,2}\\b', '', keyword)\n",
        "            location = re.sub(r'\\b\\w{1,2}\\b', '', location)\n",
        "            # Already processed data\n",
        "            text = str(row[4])\n",
        "\n",
        "            if keyword == 'nan':\n",
        "                if location == 'nan':    \n",
        "                    prs_data = text\n",
        "                else:\n",
        "                    prs_data = location + ' ' + text\n",
        "            else:\n",
        "                if location == 'nan':    \n",
        "                    prs_data = keyword + ' ' + text\n",
        "                else:\n",
        "                    prs_data = keyword + ' ' + location + ' ' + text                \n",
        "            \n",
        "            prs_data = re.sub(' +', ' ', prs_data) \n",
        "            \n",
        "            df_dict['Cleaned_data'] = prs_data\n",
        "            \n",
        "            df_list.append(df_dict)\n",
        "                 \n",
        "        return pd.DataFrame(df_list)"
      ],
      "execution_count": 25,
      "outputs": []
    },
    {
      "cell_type": "code",
      "metadata": {
        "id": "jtbwyRzLE1I9"
      },
      "source": [
        "X_train = merging_details(X_train)"
      ],
      "execution_count": 26,
      "outputs": []
    },
    {
      "cell_type": "code",
      "metadata": {
        "colab": {
          "base_uri": "https://localhost:8080/",
          "height": 406
        },
        "id": "mkIrhvUrE1I-",
        "outputId": "2ccfc562-9673-4865-9625-c74ab5af370a"
      },
      "source": [
        "X_train"
      ],
      "execution_count": 27,
      "outputs": [
        {
          "output_type": "execute_result",
          "data": {
            "text/html": [
              "<div>\n",
              "<style scoped>\n",
              "    .dataframe tbody tr th:only-of-type {\n",
              "        vertical-align: middle;\n",
              "    }\n",
              "\n",
              "    .dataframe tbody tr th {\n",
              "        vertical-align: top;\n",
              "    }\n",
              "\n",
              "    .dataframe thead th {\n",
              "        text-align: right;\n",
              "    }\n",
              "</style>\n",
              "<table border=\"1\" class=\"dataframe\">\n",
              "  <thead>\n",
              "    <tr style=\"text-align: right;\">\n",
              "      <th></th>\n",
              "      <th>Cleaned_data</th>\n",
              "    </tr>\n",
              "  </thead>\n",
              "  <tbody>\n",
              "    <tr>\n",
              "      <th>0</th>\n",
              "      <td>destroy hell would want join kenyan cabinet would</td>\n",
              "    </tr>\n",
              "    <tr>\n",
              "      <th>1</th>\n",
              "      <td>flooding citizen unit wreak havoc democracy de...</td>\n",
              "    </tr>\n",
              "    <tr>\n",
              "      <th>2</th>\n",
              "      <td>wreckage through happi sorrow guess again live...</td>\n",
              "    </tr>\n",
              "    <tr>\n",
              "      <th>3</th>\n",
              "      <td>derailed Pittsburgh rememb cheer derail campai...</td>\n",
              "    </tr>\n",
              "    <tr>\n",
              "      <th>4</th>\n",
              "      <td>wrecked Oklahoma City first listen also whip d...</td>\n",
              "    </tr>\n",
              "    <tr>\n",
              "      <th>...</th>\n",
              "      <td>...</td>\n",
              "    </tr>\n",
              "    <tr>\n",
              "      <th>9091</th>\n",
              "      <td>wreck after caus wreck theyr like</td>\n",
              "    </tr>\n",
              "    <tr>\n",
              "      <th>9092</th>\n",
              "      <td>explosion Lagos Nigeria let get starboy subscr...</td>\n",
              "    </tr>\n",
              "    <tr>\n",
              "      <th>9093</th>\n",
              "      <td>fatalities been long day storm survey one team...</td>\n",
              "    </tr>\n",
              "    <tr>\n",
              "      <th>9094</th>\n",
              "      <td>blaze Kampala Uganda work next one lead govern...</td>\n",
              "    </tr>\n",
              "    <tr>\n",
              "      <th>9095</th>\n",
              "      <td>massmurder Edinburgh support coloni narrat bit...</td>\n",
              "    </tr>\n",
              "  </tbody>\n",
              "</table>\n",
              "<p>9096 rows × 1 columns</p>\n",
              "</div>"
            ],
            "text/plain": [
              "                                           Cleaned_data\n",
              "0     destroy hell would want join kenyan cabinet would\n",
              "1     flooding citizen unit wreak havoc democracy de...\n",
              "2     wreckage through happi sorrow guess again live...\n",
              "3     derailed Pittsburgh rememb cheer derail campai...\n",
              "4     wrecked Oklahoma City first listen also whip d...\n",
              "...                                                 ...\n",
              "9091                  wreck after caus wreck theyr like\n",
              "9092  explosion Lagos Nigeria let get starboy subscr...\n",
              "9093  fatalities been long day storm survey one team...\n",
              "9094  blaze Kampala Uganda work next one lead govern...\n",
              "9095  massmurder Edinburgh support coloni narrat bit...\n",
              "\n",
              "[9096 rows x 1 columns]"
            ]
          },
          "metadata": {
            "tags": []
          },
          "execution_count": 27
        }
      ]
    },
    {
      "cell_type": "markdown",
      "metadata": {
        "id": "btUAQHPtE1I_"
      },
      "source": [
        "###  WORDCLOUD "
      ]
    },
    {
      "cell_type": "code",
      "metadata": {
        "colab": {
          "base_uri": "https://localhost:8080/",
          "height": 406
        },
        "id": "c0opMxsLE1I_",
        "outputId": "cf90bc3b-bef8-41ab-a7af-e28cc125a9ac"
      },
      "source": [
        "%%time\n",
        "dict_of_words = {}\n",
        "for row in  X_train.itertuples():\n",
        "    for i in row[1].split():\n",
        "        try:\n",
        "            dict_of_words[i] += 1\n",
        "        except:\n",
        "            dict_of_words[i] = 1\n",
        "\n",
        "#Initializing  WordCloud\n",
        "wordcloud = WordCloud(background_color = 'black', width=1000, height=500).generate_from_frequencies(dict_of_words)\n",
        "fig = plt.figure(figsize=(10,5))\n",
        "plt.imshow(wordcloud)\n",
        "plt.tight_layout(pad=1)\n",
        "plt.show()"
      ],
      "execution_count": 28,
      "outputs": [
        {
          "output_type": "display_data",
          "data": {
            "image/png": "[encoded data removed]",
            "text/plain": [
              "<Figure size 720x360 with 1 Axes>"
            ]
          },
          "metadata": {
            "tags": [],
            "needs_background": "light"
          }
        },
        {
          "output_type": "stream",
          "text": [
            "CPU times: user 1.72 s, sys: 149 ms, total: 1.87 s\n",
            "Wall time: 1.77 s\n"
          ],
          "name": "stdout"
        }
      ]
    },
    {
      "cell_type": "markdown",
      "metadata": {
        "id": "7Y6XobDTE1JB"
      },
      "source": [
        "## Final Pre-Processing Data"
      ]
    },
    {
      "cell_type": "code",
      "metadata": {
        "id": "ziFneG_wE1JC",
        "colab": {
          "base_uri": "https://localhost:8080/"
        },
        "outputId": "d1aa571a-38f5-40ad-995b-bfffad252a05"
      },
      "source": [
        "# Step 1. Remove Url\n",
        "X_test['text'] = X_test['text'].apply(Remove_Url)\n",
        "# Step 2. Handle Tags\n",
        "X_test['text'] = X_test['text'].apply(Handle_Tags)\n",
        "# Step 3. Handle emoji's\n",
        "X_test['text'] = X_test['text'].apply(Handle_emoji)\n",
        "# Step 4. Remove HTML Tags\n",
        "X_test['text'] = X_test['text'].apply(Remove_html)\n",
        "# Step 5. Remove Stopwords and Stemming\n",
        "X_test['text'] = X_test['text'].apply(Remove_StopAndStem)\n",
        "# Step 6. Removing Useless Characters\n",
        "X_test['text'] = X_test['text'].apply(Remove_UC)\n",
        "# Step7. Merging Other Details\n",
        "X_test = merging_details(X_test)"
      ],
      "execution_count": 29,
      "outputs": [
        {
          "output_type": "stream",
          "text": [
            "/usr/local/lib/python3.6/dist-packages/ipykernel_launcher.py:2: SettingWithCopyWarning: \n",
            "A value is trying to be set on a copy of a slice from a DataFrame.\n",
            "Try using .loc[row_indexer,col_indexer] = value instead\n",
            "\n",
            "See the caveats in the documentation: https://pandas.pydata.org/pandas-docs/stable/user_guide/indexing.html#returning-a-view-versus-a-copy\n",
            "  \n",
            "/usr/local/lib/python3.6/dist-packages/ipykernel_launcher.py:4: SettingWithCopyWarning: \n",
            "A value is trying to be set on a copy of a slice from a DataFrame.\n",
            "Try using .loc[row_indexer,col_indexer] = value instead\n",
            "\n",
            "See the caveats in the documentation: https://pandas.pydata.org/pandas-docs/stable/user_guide/indexing.html#returning-a-view-versus-a-copy\n",
            "  after removing the cwd from sys.path.\n",
            "/usr/local/lib/python3.6/dist-packages/ipykernel_launcher.py:6: SettingWithCopyWarning: \n",
            "A value is trying to be set on a copy of a slice from a DataFrame.\n",
            "Try using .loc[row_indexer,col_indexer] = value instead\n",
            "\n",
            "See the caveats in the documentation: https://pandas.pydata.org/pandas-docs/stable/user_guide/indexing.html#returning-a-view-versus-a-copy\n",
            "  \n",
            "/usr/local/lib/python3.6/dist-packages/ipykernel_launcher.py:8: SettingWithCopyWarning: \n",
            "A value is trying to be set on a copy of a slice from a DataFrame.\n",
            "Try using .loc[row_indexer,col_indexer] = value instead\n",
            "\n",
            "See the caveats in the documentation: https://pandas.pydata.org/pandas-docs/stable/user_guide/indexing.html#returning-a-view-versus-a-copy\n",
            "  \n",
            "/usr/local/lib/python3.6/dist-packages/ipykernel_launcher.py:10: SettingWithCopyWarning: \n",
            "A value is trying to be set on a copy of a slice from a DataFrame.\n",
            "Try using .loc[row_indexer,col_indexer] = value instead\n",
            "\n",
            "See the caveats in the documentation: https://pandas.pydata.org/pandas-docs/stable/user_guide/indexing.html#returning-a-view-versus-a-copy\n",
            "  # Remove the CWD from sys.path while we load stuff.\n",
            "/usr/local/lib/python3.6/dist-packages/ipykernel_launcher.py:12: SettingWithCopyWarning: \n",
            "A value is trying to be set on a copy of a slice from a DataFrame.\n",
            "Try using .loc[row_indexer,col_indexer] = value instead\n",
            "\n",
            "See the caveats in the documentation: https://pandas.pydata.org/pandas-docs/stable/user_guide/indexing.html#returning-a-view-versus-a-copy\n",
            "  if sys.path[0] == '':\n"
          ],
          "name": "stderr"
        }
      ]
    },
    {
      "cell_type": "code",
      "metadata": {
        "colab": {
          "base_uri": "https://localhost:8080/",
          "height": 406
        },
        "id": "5ZvW6k3fE1JC",
        "outputId": "23f6de0b-3f55-4cbe-e2ce-68a76a8bd14f"
      },
      "source": [
        "X_test"
      ],
      "execution_count": 30,
      "outputs": [
        {
          "output_type": "execute_result",
          "data": {
            "text/html": [
              "<div>\n",
              "<style scoped>\n",
              "    .dataframe tbody tr th:only-of-type {\n",
              "        vertical-align: middle;\n",
              "    }\n",
              "\n",
              "    .dataframe tbody tr th {\n",
              "        vertical-align: top;\n",
              "    }\n",
              "\n",
              "    .dataframe thead th {\n",
              "        text-align: right;\n",
              "    }\n",
              "</style>\n",
              "<table border=\"1\" class=\"dataframe\">\n",
              "  <thead>\n",
              "    <tr style=\"text-align: right;\">\n",
              "      <th></th>\n",
              "      <th>Cleaned_data</th>\n",
              "    </tr>\n",
              "  </thead>\n",
              "  <tbody>\n",
              "    <tr>\n",
              "      <th>0</th>\n",
              "      <td>demolished Observation drone how mani illeg bu...</td>\n",
              "    </tr>\n",
              "    <tr>\n",
              "      <th>1</th>\n",
              "      <td>fatality who fatal tho</td>\n",
              "    </tr>\n",
              "    <tr>\n",
              "      <th>2</th>\n",
              "      <td>sunk London chines state media confirm iranian...</td>\n",
              "    </tr>\n",
              "    <tr>\n",
              "      <th>3</th>\n",
              "      <td>windstorm London with luck miss windstorm eith...</td>\n",
              "    </tr>\n",
              "    <tr>\n",
              "      <th>4</th>\n",
              "      <td>buildingsonfire inferno black friday deaths bu...</td>\n",
              "    </tr>\n",
              "    <tr>\n",
              "      <th>...</th>\n",
              "      <td>...</td>\n",
              "    </tr>\n",
              "    <tr>\n",
              "      <th>2269</th>\n",
              "      <td>eyewitness United States plp leader call hypoc...</td>\n",
              "    </tr>\n",
              "    <tr>\n",
              "      <th>2270</th>\n",
              "      <td>thunderstorm Pluto cant sleep open window take...</td>\n",
              "    </tr>\n",
              "    <tr>\n",
              "      <th>2271</th>\n",
              "      <td>attacked Lagos Nigeria son teenag girl arrest ...</td>\n",
              "    </tr>\n",
              "    <tr>\n",
              "      <th>2272</th>\n",
              "      <td>loudbang Michigan USA brother got bathroom hea...</td>\n",
              "    </tr>\n",
              "    <tr>\n",
              "      <th>2273</th>\n",
              "      <td>thunderstorm Sioux Falls nwsseveretstorm sever...</td>\n",
              "    </tr>\n",
              "  </tbody>\n",
              "</table>\n",
              "<p>2274 rows × 1 columns</p>\n",
              "</div>"
            ],
            "text/plain": [
              "                                           Cleaned_data\n",
              "0     demolished Observation drone how mani illeg bu...\n",
              "1                               fatality who fatal tho \n",
              "2     sunk London chines state media confirm iranian...\n",
              "3     windstorm London with luck miss windstorm eith...\n",
              "4     buildingsonfire inferno black friday deaths bu...\n",
              "...                                                 ...\n",
              "2269  eyewitness United States plp leader call hypoc...\n",
              "2270  thunderstorm Pluto cant sleep open window take...\n",
              "2271  attacked Lagos Nigeria son teenag girl arrest ...\n",
              "2272  loudbang Michigan USA brother got bathroom hea...\n",
              "2273  thunderstorm Sioux Falls nwsseveretstorm sever...\n",
              "\n",
              "[2274 rows x 1 columns]"
            ]
          },
          "metadata": {
            "tags": []
          },
          "execution_count": 30
        }
      ]
    },
    {
      "cell_type": "code",
      "metadata": {
        "id": "0gihnvb3E1JD"
      },
      "source": [
        "y_train = y_train['target']\n",
        "y_test = y_test['target']"
      ],
      "execution_count": 31,
      "outputs": []
    },
    {
      "cell_type": "code",
      "metadata": {
        "colab": {
          "base_uri": "https://localhost:8080/"
        },
        "id": "bqH747pcE1JD",
        "outputId": "baf113b6-d438-4dff-b92f-420514f999d9"
      },
      "source": [
        "%%time\n",
        "#smooth_idf=True by default so smoothing is done by defult.\n",
        "#norm is l2 by default.\n",
        "#subliner is used False by default.\n",
        "vectorizer = TfidfVectorizer(min_df = 0.0005, \n",
        "                             max_features = 100000, \n",
        "                             tokenizer = lambda x: x.split(),\n",
        "                             ngram_range = (1,4))\n",
        "\n",
        "\n",
        "X_train = vectorizer.fit_transform(X_train['Cleaned_data'])\n",
        "X_test = vectorizer.transform(X_test['Cleaned_data'])"
      ],
      "execution_count": 32,
      "outputs": [
        {
          "output_type": "stream",
          "text": [
            "CPU times: user 1.44 s, sys: 48.4 ms, total: 1.49 s\n",
            "Wall time: 1.51 s\n"
          ],
          "name": "stdout"
        }
      ]
    },
    {
      "cell_type": "code",
      "metadata": {
        "colab": {
          "base_uri": "https://localhost:8080/"
        },
        "id": "9zuNrICAE1JD",
        "outputId": "48402d7b-5c91-473a-91d7-a04909316c79"
      },
      "source": [
        "#https://stackoverflow.com/questions/16505670/generating-a-dense-matrix-from-a-sparse-matrix-in-numpy-python\n",
        "print(\"Training Points: \", len(X_train.toarray()),\"| Training Features:\" , len(X_train.toarray()[0]))\n",
        "print(\"Testing Points: \", len(X_test.toarray()),\"| Testing Features:\" , len(X_test.toarray()[0]))\n",
        "print()\n",
        "print(\"Training Points: \", len(y_train))\n",
        "print(\"Testing Points: \", len(y_test))"
      ],
      "execution_count": 33,
      "outputs": [
        {
          "output_type": "stream",
          "text": [
            "Training Points:  9096 | Training Features: 4678\n",
            "Testing Points:  2274 | Testing Features: 4678\n",
            "\n",
            "Training Points:  9096\n",
            "Testing Points:  2274\n"
          ],
          "name": "stdout"
        }
      ]
    },
    {
      "cell_type": "markdown",
      "metadata": {
        "id": "TjdxY_IbE1JD"
      },
      "source": [
        "## Machine Learning"
      ]
    },
    {
      "cell_type": "markdown",
      "metadata": {
        "id": "OiHkX47-E1JE"
      },
      "source": [
        "### Logistic Regression "
      ]
    },
    {
      "cell_type": "code",
      "metadata": {
        "colab": {
          "base_uri": "https://localhost:8080/"
        },
        "id": "35lNCisDE1JE",
        "outputId": "0b9eebe4-8721-48ad-f149-5d6aa05057ea"
      },
      "source": [
        "%%time\n",
        "\n",
        "Model = LogisticRegression(C=1,penalty='l2')\n",
        "\n",
        "Model.fit(X_train, y_train)\n",
        "\n",
        "y_pred = Model.predict(X_test)\n",
        "print(\"Acuracy\", accuracy_score(y_test, y_pred))\n",
        "print(\"Macro precision_recall_fscore_support\")\n",
        "print(precision_recall_fscore_support(y_test, y_pred, average='macro'))\n",
        "print(\"Micro precision_recall_fscore_support\")\n",
        "print(precision_recall_fscore_support(y_test, y_pred, average='micro'))\n",
        "print(\"Weighted precision_recall_fscore_support\")\n",
        "print(precision_recall_fscore_support(y_test, y_pred, average='weighted'))"
      ],
      "execution_count": 34,
      "outputs": [
        {
          "output_type": "stream",
          "text": [
            "Acuracy 0.882145998240985\n",
            "Macro precision_recall_fscore_support\n",
            "(0.8699936326010824, 0.6875221867234647, 0.7336249580396106, None)\n",
            "Micro precision_recall_fscore_support\n",
            "(0.882145998240985, 0.882145998240985, 0.8821459982409852, None)\n",
            "Weighted precision_recall_fscore_support\n",
            "(0.8794031445542358, 0.882145998240985, 0.8632528623849799, None)\n",
            "CPU times: user 169 ms, sys: 3.73 ms, total: 172 ms\n",
            "Wall time: 183 ms\n"
          ],
          "name": "stdout"
        }
      ]
    },
    {
      "cell_type": "markdown",
      "metadata": {
        "id": "iIAs2d4tE1JE"
      },
      "source": [
        "### Naive Bayes"
      ]
    },
    {
      "cell_type": "markdown",
      "metadata": {
        "id": "kA7bpbRpE1JE"
      },
      "source": [
        "#### Gaussian Naive Bayes"
      ]
    },
    {
      "cell_type": "code",
      "metadata": {
        "colab": {
          "base_uri": "https://localhost:8080/"
        },
        "id": "aLvVP4SFE1JF",
        "outputId": "a76fc741-d7e9-4812-b703-f8e75d49cd9b"
      },
      "source": [
        "%%time\n",
        "Model = GaussianNB()\n",
        "Model.fit(X_train.toarray(), y_train)\n",
        "y_pred = Model.predict(X_test.toarray())\n",
        "\n",
        "print(\"Acuracy\", accuracy_score(y_test, y_pred))\n",
        "print(\"Macro precision_recall_fscore_support\")\n",
        "print(precision_recall_fscore_support(y_test, y_pred, average='macro'))\n",
        "print(\"Micro precision_recall_fscore_support\")\n",
        "print(precision_recall_fscore_support(y_test, y_pred, average='micro'))\n",
        "print(\"Weighted precision_recall_fscore_support\")\n",
        "print(precision_recall_fscore_support(y_test, y_pred, average='weighted'))"
      ],
      "execution_count": 35,
      "outputs": [
        {
          "output_type": "stream",
          "text": [
            "Acuracy 0.6543535620052771\n",
            "Macro precision_recall_fscore_support\n",
            "(0.6183811954769804, 0.7030528931487399, 0.5947656286133786, None)\n",
            "Micro precision_recall_fscore_support\n",
            "(0.6543535620052771, 0.6543535620052771, 0.6543535620052771, None)\n",
            "Weighted precision_recall_fscore_support\n",
            "(0.8218584748469638, 0.6543535620052771, 0.696037781465206, None)\n",
            "CPU times: user 731 ms, sys: 174 ms, total: 904 ms\n",
            "Wall time: 909 ms\n"
          ],
          "name": "stdout"
        }
      ]
    },
    {
      "cell_type": "markdown",
      "metadata": {
        "id": "dPt-r8ohE1JF"
      },
      "source": [
        "#### Bernoulli Naive Bayes"
      ]
    },
    {
      "cell_type": "code",
      "metadata": {
        "colab": {
          "base_uri": "https://localhost:8080/"
        },
        "id": "OdEoGjsgE1JF",
        "outputId": "ced951fc-1569-40ba-8799-014e9e57f61d"
      },
      "source": [
        "%%time\n",
        "Model = BernoulliNB()\n",
        "Model.fit(X_train.toarray(), y_train)\n",
        "y_pred = Model.predict(X_test.toarray())\n",
        "\n",
        "print(\"Acuracy\", accuracy_score(y_test, y_pred))\n",
        "print(\"Macro precision_recall_fscore_support\")\n",
        "print(precision_recall_fscore_support(y_test, y_pred, average='macro'))\n",
        "print(\"Micro precision_recall_fscore_support\")\n",
        "print(precision_recall_fscore_support(y_test, y_pred, average='micro'))\n",
        "print(\"Weighted precision_recall_fscore_support\")\n",
        "print(precision_recall_fscore_support(y_test, y_pred, average='weighted'))"
      ],
      "execution_count": 36,
      "outputs": [
        {
          "output_type": "stream",
          "text": [
            "Acuracy 0.8948988566402815\n",
            "Macro precision_recall_fscore_support\n",
            "(0.8415110917021487, 0.7649901571626812, 0.7951047820043453, None)\n",
            "Micro precision_recall_fscore_support\n",
            "(0.8948988566402815, 0.8948988566402815, 0.8948988566402815, None)\n",
            "Weighted precision_recall_fscore_support\n",
            "(0.8882727156018607, 0.8948988566402815, 0.8882962241029322, None)\n",
            "CPU times: user 731 ms, sys: 121 ms, total: 852 ms\n",
            "Wall time: 639 ms\n"
          ],
          "name": "stdout"
        }
      ]
    },
    {
      "cell_type": "markdown",
      "metadata": {
        "id": "ihPuKeKuE1JF"
      },
      "source": [
        "#### Complement Naive Bayes"
      ]
    },
    {
      "cell_type": "code",
      "metadata": {
        "colab": {
          "base_uri": "https://localhost:8080/"
        },
        "id": "S2W4LYT-E1JG",
        "outputId": "833786bc-fab8-4b93-e453-578d8e42a7db"
      },
      "source": [
        "%%time\n",
        "Model = ComplementNB()\n",
        "Model.fit(X_train.toarray(), y_train)\n",
        "y_pred = Model.predict(X_test.toarray())\n",
        "\n",
        "print(\"Acuracy\", accuracy_score(y_test, y_pred))\n",
        "print(\"Macro precision_recall_fscore_support\")\n",
        "print(precision_recall_fscore_support(y_test, y_pred, average='macro'))\n",
        "print(\"Micro precision_recall_fscore_support\")\n",
        "print(precision_recall_fscore_support(y_test, y_pred, average='micro'))\n",
        "print(\"Weighted precision_recall_fscore_support\")\n",
        "print(precision_recall_fscore_support(y_test, y_pred, average='weighted'))"
      ],
      "execution_count": 37,
      "outputs": [
        {
          "output_type": "stream",
          "text": [
            "Acuracy 0.8570800351802991\n",
            "Macro precision_recall_fscore_support\n",
            "(0.7536186200895507, 0.795898279923839, 0.7712363575244062, None)\n",
            "Micro precision_recall_fscore_support\n",
            "(0.8570800351802991, 0.8570800351802991, 0.8570800351802991, None)\n",
            "Weighted precision_recall_fscore_support\n",
            "(0.8712028357064902, 0.8570800351802991, 0.8625646635445304, None)\n",
            "CPU times: user 427 ms, sys: 113 ms, total: 540 ms\n",
            "Wall time: 369 ms\n"
          ],
          "name": "stdout"
        }
      ]
    },
    {
      "cell_type": "markdown",
      "metadata": {
        "id": "If_BOqZiE1JG"
      },
      "source": [
        "####  Multinomial Naive Bayes"
      ]
    },
    {
      "cell_type": "code",
      "metadata": {
        "colab": {
          "base_uri": "https://localhost:8080/"
        },
        "id": "H2salOXDE1JG",
        "outputId": "98f0bca3-9582-4987-b9a9-9e7f2f28d873"
      },
      "source": [
        "%%time\n",
        "Model = MultinomialNB()\n",
        "Model.fit(X_train.toarray(), y_train)\n",
        "y_pred = Model.predict(X_test.toarray())\n",
        "\n",
        "print(\"Acuracy\", accuracy_score(y_test, y_pred))\n",
        "print(\"Macro precision_recall_fscore_support\")\n",
        "print(precision_recall_fscore_support(y_test, y_pred, average='macro'))\n",
        "print(\"Micro precision_recall_fscore_support\")\n",
        "print(precision_recall_fscore_support(y_test, y_pred, average='micro'))\n",
        "print(\"Weighted precision_recall_fscore_support\")\n",
        "print(precision_recall_fscore_support(y_test, y_pred, average='weighted'))"
      ],
      "execution_count": 38,
      "outputs": [
        {
          "output_type": "stream",
          "text": [
            "Acuracy 0.8812664907651715\n",
            "Macro precision_recall_fscore_support\n",
            "(0.878383190883191, 0.6800150062929615, 0.7267527557036657, None)\n",
            "Micro precision_recall_fscore_support\n",
            "(0.8812664907651715, 0.8812664907651715, 0.8812664907651715, None)\n",
            "Weighted precision_recall_fscore_support\n",
            "(0.880588067263529, 0.8812664907651715, 0.8606646594236373, None)\n",
            "CPU times: user 433 ms, sys: 69.5 ms, total: 502 ms\n",
            "Wall time: 352 ms\n"
          ],
          "name": "stdout"
        }
      ]
    },
    {
      "cell_type": "markdown",
      "metadata": {
        "id": "63wd4SlwE1JG"
      },
      "source": [
        "### Support Vector Machines (SVM)"
      ]
    },
    {
      "cell_type": "markdown",
      "metadata": {
        "id": "z5Dy8xogE1JG"
      },
      "source": [
        "#### RBF Kernel SVM"
      ]
    },
    {
      "cell_type": "code",
      "metadata": {
        "colab": {
          "base_uri": "https://localhost:8080/"
        },
        "id": "PQ1STkj6E1JH",
        "outputId": "54e005e2-df35-4a20-cda7-d2076aab5cf9"
      },
      "source": [
        "%%time\n",
        "Model = svm.SVC(kernel='rbf') #rbf by default svm.SVC()\n",
        "Model.fit(X_train, y_train)\n",
        "y_pred = Model.predict(X_test)\n",
        "\n",
        "print(\"Acuracy\", accuracy_score(y_test, y_pred))\n",
        "print(\"Macro precision_recall_fscore_support\")\n",
        "print(precision_recall_fscore_support(y_test, y_pred, average='macro'))\n",
        "print(\"Micro precision_recall_fscore_support\")\n",
        "print(precision_recall_fscore_support(y_test, y_pred, average='micro'))\n",
        "print(\"Weighted precision_recall_fscore_support\")\n",
        "print(precision_recall_fscore_support(y_test, y_pred, average='weighted'))"
      ],
      "execution_count": 39,
      "outputs": [
        {
          "output_type": "stream",
          "text": [
            "Acuracy 0.8913808267370272\n",
            "Macro precision_recall_fscore_support\n",
            "(0.8787831991418029, 0.7160301094007164, 0.763219564386187, None)\n",
            "Micro precision_recall_fscore_support\n",
            "(0.8913808267370272, 0.8913808267370272, 0.8913808267370272, None)\n",
            "Weighted precision_recall_fscore_support\n",
            "(0.8887991240860746, 0.8913808267370272, 0.8767491464566864, None)\n",
            "CPU times: user 10.1 s, sys: 67.7 ms, total: 10.2 s\n",
            "Wall time: 10.2 s\n"
          ],
          "name": "stdout"
        }
      ]
    },
    {
      "cell_type": "markdown",
      "metadata": {
        "id": "wtir5muzE1JH"
      },
      "source": [
        "#### Linear Kernel SVM "
      ]
    },
    {
      "cell_type": "code",
      "metadata": {
        "colab": {
          "base_uri": "https://localhost:8080/"
        },
        "id": "rVZYSYcZE1JH",
        "outputId": "b46389ee-0333-42e1-f12c-400ba9e6a94d"
      },
      "source": [
        "%%time\n",
        "Model = svm.SVC(kernel='linear') \n",
        "Model.fit(X_train, y_train)\n",
        "y_pred = Model.predict(X_test)\n",
        "\n",
        "print(\"Acuracy\", accuracy_score(y_test, y_pred))\n",
        "print(\"Macro precision_recall_fscore_support\")\n",
        "print(precision_recall_fscore_support(y_test, y_pred, average='macro'))\n",
        "print(\"Micro precision_recall_fscore_support\")\n",
        "print(precision_recall_fscore_support(y_test, y_pred, average='micro'))\n",
        "print(\"Weighted precision_recall_fscore_support\")\n",
        "print(precision_recall_fscore_support(y_test, y_pred, average='weighted'))"
      ],
      "execution_count": 40,
      "outputs": [
        {
          "output_type": "stream",
          "text": [
            "Acuracy 0.8927000879507476\n",
            "Macro precision_recall_fscore_support\n",
            "(0.8499157899593945, 0.7447276277148481, 0.78212540582312, None)\n",
            "Micro precision_recall_fscore_support\n",
            "(0.8927000879507476, 0.8927000879507476, 0.8927000879507476, None)\n",
            "Weighted precision_recall_fscore_support\n",
            "(0.8859830991876001, 0.8927000879507476, 0.8832807631769126, None)\n",
            "CPU times: user 5.76 s, sys: 18.1 ms, total: 5.77 s\n",
            "Wall time: 5.79 s\n"
          ],
          "name": "stdout"
        }
      ]
    },
    {
      "cell_type": "markdown",
      "metadata": {
        "id": "zYSvPUgYE1JH"
      },
      "source": [
        "### Random Forest "
      ]
    },
    {
      "cell_type": "code",
      "metadata": {
        "colab": {
          "base_uri": "https://localhost:8080/"
        },
        "id": "6WNSTWCQE1JH",
        "outputId": "bd549de6-2f99-4e37-b1d5-88a1dc203721"
      },
      "source": [
        "%%time\n",
        "Model = RandomForestClassifier(random_state=0)\n",
        "Model.fit(X_train, y_train)\n",
        "y_pred = Model.predict(X_test)\n",
        "\n",
        "print(\"Acuracy\", accuracy_score(y_test, y_pred))\n",
        "print(\"Macro precision_recall_fscore_support\")\n",
        "print(precision_recall_fscore_support(y_test, y_pred, average='macro'))\n",
        "print(\"Micro precision_recall_fscore_support\")\n",
        "print(precision_recall_fscore_support(y_test, y_pred, average='micro'))\n",
        "print(\"Weighted precision_recall_fscore_support\")\n",
        "print(precision_recall_fscore_support(y_test, y_pred, average='weighted'))"
      ],
      "execution_count": 41,
      "outputs": [
        {
          "output_type": "stream",
          "text": [
            "Acuracy 0.886103781882146\n",
            "Macro precision_recall_fscore_support\n",
            "(0.8497576053359361, 0.7168207635460031, 0.758488551327426, None)\n",
            "Micro precision_recall_fscore_support\n",
            "(0.886103781882146, 0.886103781882146, 0.8861037818821461, None)\n",
            "Weighted precision_recall_fscore_support\n",
            "(0.8792888737797316, 0.886103781882146, 0.8729022063075199, None)\n",
            "CPU times: user 5.87 s, sys: 4.75 ms, total: 5.87 s\n",
            "Wall time: 5.89 s\n"
          ],
          "name": "stdout"
        }
      ]
    },
    {
      "cell_type": "markdown",
      "metadata": {
        "id": "6Snmn8j4E1JI"
      },
      "source": [
        "## Deep Learning "
      ]
    },
    {
      "cell_type": "code",
      "metadata": {
        "id": "D15HtzgXE1JI"
      },
      "source": [
        "# some model parameters\r\n",
        "output_dim = 1\r\n",
        "input_dim = X_train.shape[1]\r\n",
        "\r\n",
        "batch_size = 200 \r\n",
        "nb_epoch = 100"
      ],
      "execution_count": 42,
      "outputs": []
    },
    {
      "cell_type": "markdown",
      "metadata": {
        "id": "w1O5lbin9Td0"
      },
      "source": [
        "### Single Layer Perceptron"
      ]
    },
    {
      "cell_type": "code",
      "metadata": {
        "colab": {
          "base_uri": "https://localhost:8080/"
        },
        "id": "MZUV22XSthhn",
        "outputId": "1b906428-51ee-4f5b-b7c9-9cd1a6dfb656"
      },
      "source": [
        "%%time\r\n",
        "# start building a model\r\n",
        "model = Sequential()\r\n",
        "\r\n",
        "model.add(Dense(output_dim, input_dim=input_dim, activation='softmax'))\r\n",
        "model.compile(optimizer='sgd', loss='binary_crossentropy', metrics=['accuracy'])\r\n",
        "model.fit(X_train, y_train, batch_size=batch_size, epochs=nb_epoch, verbose=1, validation_data=(X_test, y_test))\r\n",
        "model.summary()\r\n",
        "y_pred = model.predict(X_test)\r\n",
        "\r\n",
        "print(\"Acuracy\", accuracy_score(y_test, y_pred))\r\n",
        "print(\"Macro precision_recall_fscore_support\")\r\n",
        "print(precision_recall_fscore_support(y_test, y_pred, average='macro'))\r\n",
        "print(\"Micro precision_recall_fscore_support\")\r\n",
        "print(precision_recall_fscore_support(y_test, y_pred, average='micro'))\r\n",
        "print(\"Weighted precision_recall_fscore_support\")\r\n",
        "print(precision_recall_fscore_support(y_test, y_pred, average='weighted'))"
      ],
      "execution_count": 43,
      "outputs": [
        {
          "output_type": "stream",
          "text": [
            "WARNING:tensorflow:From /tensorflow-1.15.2/python3.6/tensorflow_core/python/ops/resource_variable_ops.py:1630: calling BaseResourceVariable.__init__ (from tensorflow.python.ops.resource_variable_ops) with constraint is deprecated and will be removed in a future version.\n",
            "Instructions for updating:\n",
            "If using Keras pass *_constraint arguments to layers.\n",
            "WARNING:tensorflow:From /tensorflow-1.15.2/python3.6/tensorflow_core/python/ops/math_grad.py:1424: where (from tensorflow.python.ops.array_ops) is deprecated and will be removed in a future version.\n",
            "Instructions for updating:\n",
            "Use tf.where in 2.0, which has the same broadcast rule as np.where\n",
            "Train on 9096 samples, validate on 2274 samples\n",
            "Epoch 1/100\n",
            "9096/9096 [==============================] - 1s 89us/sample - loss: 12.4372 - acc: 0.1889 - val_loss: 12.5937 - val_acc: 0.1741\n",
            "Epoch 2/100\n",
            "9096/9096 [==============================] - 0s 53us/sample - loss: 12.4372 - acc: 0.1889 - val_loss: 12.5937 - val_acc: 0.1741\n",
            "Epoch 3/100\n",
            "9096/9096 [==============================] - 0s 52us/sample - loss: 12.4372 - acc: 0.1889 - val_loss: 12.5937 - val_acc: 0.1741\n",
            "Epoch 4/100\n",
            "9096/9096 [==============================] - 0s 49us/sample - loss: 12.4372 - acc: 0.1889 - val_loss: 12.5937 - val_acc: 0.1741\n",
            "Epoch 5/100\n",
            "9096/9096 [==============================] - 0s 48us/sample - loss: 12.4372 - acc: 0.1889 - val_loss: 12.5937 - val_acc: 0.1741\n",
            "Epoch 6/100\n",
            "9096/9096 [==============================] - 0s 49us/sample - loss: 12.4372 - acc: 0.1889 - val_loss: 12.5937 - val_acc: 0.1741\n",
            "Epoch 7/100\n",
            "9096/9096 [==============================] - 0s 48us/sample - loss: 12.4372 - acc: 0.1889 - val_loss: 12.5937 - val_acc: 0.1741\n",
            "Epoch 8/100\n",
            "9096/9096 [==============================] - 0s 46us/sample - loss: 12.4372 - acc: 0.1889 - val_loss: 12.5937 - val_acc: 0.1741\n",
            "Epoch 9/100\n",
            "9096/9096 [==============================] - 0s 45us/sample - loss: 12.4372 - acc: 0.1889 - val_loss: 12.5937 - val_acc: 0.1741\n",
            "Epoch 10/100\n",
            "9096/9096 [==============================] - 0s 46us/sample - loss: 12.4372 - acc: 0.1889 - val_loss: 12.5937 - val_acc: 0.1741\n",
            "Epoch 11/100\n",
            "9096/9096 [==============================] - 0s 46us/sample - loss: 12.4372 - acc: 0.1889 - val_loss: 12.5937 - val_acc: 0.1741\n",
            "Epoch 12/100\n",
            "9096/9096 [==============================] - 0s 47us/sample - loss: 12.4372 - acc: 0.1889 - val_loss: 12.5937 - val_acc: 0.1741\n",
            "Epoch 13/100\n",
            "9096/9096 [==============================] - 0s 47us/sample - loss: 12.4372 - acc: 0.1889 - val_loss: 12.5937 - val_acc: 0.1741\n",
            "Epoch 14/100\n",
            "9096/9096 [==============================] - 0s 45us/sample - loss: 12.4372 - acc: 0.1889 - val_loss: 12.5937 - val_acc: 0.1741\n",
            "Epoch 15/100\n",
            "9096/9096 [==============================] - 0s 45us/sample - loss: 12.4372 - acc: 0.1889 - val_loss: 12.5937 - val_acc: 0.1741\n",
            "Epoch 16/100\n",
            "9096/9096 [==============================] - 0s 46us/sample - loss: 12.4372 - acc: 0.1889 - val_loss: 12.5937 - val_acc: 0.1741\n",
            "Epoch 17/100\n",
            "9096/9096 [==============================] - 0s 45us/sample - loss: 12.4372 - acc: 0.1889 - val_loss: 12.5937 - val_acc: 0.1741\n",
            "Epoch 18/100\n",
            "9096/9096 [==============================] - 0s 47us/sample - loss: 12.4372 - acc: 0.1889 - val_loss: 12.5937 - val_acc: 0.1741\n",
            "Epoch 19/100\n",
            "9096/9096 [==============================] - 0s 48us/sample - loss: 12.4372 - acc: 0.1889 - val_loss: 12.5937 - val_acc: 0.1741\n",
            "Epoch 20/100\n",
            "9096/9096 [==============================] - 0s 48us/sample - loss: 12.4372 - acc: 0.1889 - val_loss: 12.5937 - val_acc: 0.1741\n",
            "Epoch 21/100\n",
            "9096/9096 [==============================] - 0s 46us/sample - loss: 12.4372 - acc: 0.1889 - val_loss: 12.5937 - val_acc: 0.1741\n",
            "Epoch 22/100\n",
            "9096/9096 [==============================] - 0s 47us/sample - loss: 12.4372 - acc: 0.1889 - val_loss: 12.5937 - val_acc: 0.1741\n",
            "Epoch 23/100\n",
            "9096/9096 [==============================] - 0s 46us/sample - loss: 12.4372 - acc: 0.1889 - val_loss: 12.5937 - val_acc: 0.1741\n",
            "Epoch 24/100\n",
            "9096/9096 [==============================] - 0s 46us/sample - loss: 12.4372 - acc: 0.1889 - val_loss: 12.5937 - val_acc: 0.1741\n",
            "Epoch 25/100\n",
            "9096/9096 [==============================] - 0s 45us/sample - loss: 12.4372 - acc: 0.1889 - val_loss: 12.5937 - val_acc: 0.1741\n",
            "Epoch 26/100\n",
            "9096/9096 [==============================] - 0s 48us/sample - loss: 12.4372 - acc: 0.1889 - val_loss: 12.5937 - val_acc: 0.1741\n",
            "Epoch 27/100\n",
            "9096/9096 [==============================] - 0s 48us/sample - loss: 12.4372 - acc: 0.1889 - val_loss: 12.5937 - val_acc: 0.1741\n",
            "Epoch 28/100\n",
            "9096/9096 [==============================] - 0s 48us/sample - loss: 12.4372 - acc: 0.1889 - val_loss: 12.5937 - val_acc: 0.1741\n",
            "Epoch 29/100\n",
            "9096/9096 [==============================] - 0s 47us/sample - loss: 12.4372 - acc: 0.1889 - val_loss: 12.5937 - val_acc: 0.1741\n",
            "Epoch 30/100\n",
            "9096/9096 [==============================] - 0s 47us/sample - loss: 12.4372 - acc: 0.1889 - val_loss: 12.5937 - val_acc: 0.1741\n",
            "Epoch 31/100\n",
            "9096/9096 [==============================] - 0s 46us/sample - loss: 12.4372 - acc: 0.1889 - val_loss: 12.5937 - val_acc: 0.1741\n",
            "Epoch 32/100\n",
            "9096/9096 [==============================] - 0s 48us/sample - loss: 12.4372 - acc: 0.1889 - val_loss: 12.5937 - val_acc: 0.1741\n",
            "Epoch 33/100\n",
            "9096/9096 [==============================] - 0s 46us/sample - loss: 12.4372 - acc: 0.1889 - val_loss: 12.5937 - val_acc: 0.1741\n",
            "Epoch 34/100\n",
            "9096/9096 [==============================] - 0s 47us/sample - loss: 12.4372 - acc: 0.1889 - val_loss: 12.5937 - val_acc: 0.1741\n",
            "Epoch 35/100\n",
            "9096/9096 [==============================] - 0s 47us/sample - loss: 12.4372 - acc: 0.1889 - val_loss: 12.5937 - val_acc: 0.1741\n",
            "Epoch 36/100\n",
            "9096/9096 [==============================] - 0s 50us/sample - loss: 12.4372 - acc: 0.1889 - val_loss: 12.5937 - val_acc: 0.1741\n",
            "Epoch 37/100\n",
            "9096/9096 [==============================] - 0s 47us/sample - loss: 12.4372 - acc: 0.1889 - val_loss: 12.5937 - val_acc: 0.1741\n",
            "Epoch 38/100\n",
            "9096/9096 [==============================] - 0s 46us/sample - loss: 12.4372 - acc: 0.1889 - val_loss: 12.5937 - val_acc: 0.1741\n",
            "Epoch 39/100\n",
            "9096/9096 [==============================] - 0s 47us/sample - loss: 12.4372 - acc: 0.1889 - val_loss: 12.5937 - val_acc: 0.1741\n",
            "Epoch 40/100\n",
            "9096/9096 [==============================] - 0s 45us/sample - loss: 12.4372 - acc: 0.1889 - val_loss: 12.5937 - val_acc: 0.1741\n",
            "Epoch 41/100\n",
            "9096/9096 [==============================] - 0s 49us/sample - loss: 12.4372 - acc: 0.1889 - val_loss: 12.5937 - val_acc: 0.1741\n",
            "Epoch 42/100\n",
            "9096/9096 [==============================] - 0s 47us/sample - loss: 12.4372 - acc: 0.1889 - val_loss: 12.5937 - val_acc: 0.1741\n",
            "Epoch 43/100\n",
            "9096/9096 [==============================] - 0s 47us/sample - loss: 12.4372 - acc: 0.1889 - val_loss: 12.5937 - val_acc: 0.1741\n",
            "Epoch 44/100\n",
            "9096/9096 [==============================] - 0s 46us/sample - loss: 12.4372 - acc: 0.1889 - val_loss: 12.5937 - val_acc: 0.1741\n",
            "Epoch 45/100\n",
            "9096/9096 [==============================] - 0s 47us/sample - loss: 12.4372 - acc: 0.1889 - val_loss: 12.5937 - val_acc: 0.1741\n",
            "Epoch 46/100\n",
            "9096/9096 [==============================] - 0s 47us/sample - loss: 12.4372 - acc: 0.1889 - val_loss: 12.5937 - val_acc: 0.1741\n",
            "Epoch 47/100\n",
            "9096/9096 [==============================] - 0s 46us/sample - loss: 12.4372 - acc: 0.1889 - val_loss: 12.5937 - val_acc: 0.1741\n",
            "Epoch 48/100\n",
            "9096/9096 [==============================] - 0s 47us/sample - loss: 12.4372 - acc: 0.1889 - val_loss: 12.5937 - val_acc: 0.1741\n",
            "Epoch 49/100\n",
            "9096/9096 [==============================] - 0s 47us/sample - loss: 12.4372 - acc: 0.1889 - val_loss: 12.5937 - val_acc: 0.1741\n",
            "Epoch 50/100\n",
            "9096/9096 [==============================] - 0s 47us/sample - loss: 12.4372 - acc: 0.1889 - val_loss: 12.5937 - val_acc: 0.1741\n",
            "Epoch 51/100\n",
            "9096/9096 [==============================] - 0s 47us/sample - loss: 12.4372 - acc: 0.1889 - val_loss: 12.5937 - val_acc: 0.1741\n",
            "Epoch 52/100\n",
            "9096/9096 [==============================] - 0s 45us/sample - loss: 12.4372 - acc: 0.1889 - val_loss: 12.5937 - val_acc: 0.1741\n",
            "Epoch 53/100\n",
            "9096/9096 [==============================] - 0s 46us/sample - loss: 12.4372 - acc: 0.1889 - val_loss: 12.5937 - val_acc: 0.1741\n",
            "Epoch 54/100\n",
            "9096/9096 [==============================] - 0s 47us/sample - loss: 12.4372 - acc: 0.1889 - val_loss: 12.5937 - val_acc: 0.1741\n",
            "Epoch 55/100\n",
            "9096/9096 [==============================] - 0s 46us/sample - loss: 12.4372 - acc: 0.1889 - val_loss: 12.5937 - val_acc: 0.1741\n",
            "Epoch 56/100\n",
            "9096/9096 [==============================] - 0s 45us/sample - loss: 12.4372 - acc: 0.1889 - val_loss: 12.5937 - val_acc: 0.1741\n",
            "Epoch 57/100\n",
            "9096/9096 [==============================] - 0s 50us/sample - loss: 12.4372 - acc: 0.1889 - val_loss: 12.5937 - val_acc: 0.1741\n",
            "Epoch 58/100\n",
            "9096/9096 [==============================] - 0s 46us/sample - loss: 12.4372 - acc: 0.1889 - val_loss: 12.5937 - val_acc: 0.1741\n",
            "Epoch 59/100\n",
            "9096/9096 [==============================] - 0s 48us/sample - loss: 12.4372 - acc: 0.1889 - val_loss: 12.5937 - val_acc: 0.1741\n",
            "Epoch 60/100\n",
            "9096/9096 [==============================] - 0s 44us/sample - loss: 12.4372 - acc: 0.1889 - val_loss: 12.5937 - val_acc: 0.1741\n",
            "Epoch 61/100\n",
            "9096/9096 [==============================] - 0s 48us/sample - loss: 12.4372 - acc: 0.1889 - val_loss: 12.5937 - val_acc: 0.1741\n",
            "Epoch 62/100\n",
            "9096/9096 [==============================] - 0s 47us/sample - loss: 12.4372 - acc: 0.1889 - val_loss: 12.5937 - val_acc: 0.1741\n",
            "Epoch 63/100\n",
            "9096/9096 [==============================] - 0s 46us/sample - loss: 12.4372 - acc: 0.1889 - val_loss: 12.5937 - val_acc: 0.1741\n",
            "Epoch 64/100\n",
            "9096/9096 [==============================] - 0s 48us/sample - loss: 12.4372 - acc: 0.1889 - val_loss: 12.5937 - val_acc: 0.1741\n",
            "Epoch 65/100\n",
            "9096/9096 [==============================] - 0s 46us/sample - loss: 12.4372 - acc: 0.1889 - val_loss: 12.5937 - val_acc: 0.1741\n",
            "Epoch 66/100\n",
            "9096/9096 [==============================] - 0s 47us/sample - loss: 12.4372 - acc: 0.1889 - val_loss: 12.5937 - val_acc: 0.1741\n",
            "Epoch 67/100\n",
            "9096/9096 [==============================] - 0s 46us/sample - loss: 12.4372 - acc: 0.1889 - val_loss: 12.5937 - val_acc: 0.1741\n",
            "Epoch 68/100\n",
            "9096/9096 [==============================] - 0s 46us/sample - loss: 12.4372 - acc: 0.1889 - val_loss: 12.5937 - val_acc: 0.1741\n",
            "Epoch 69/100\n",
            "9096/9096 [==============================] - 0s 47us/sample - loss: 12.4372 - acc: 0.1889 - val_loss: 12.5937 - val_acc: 0.1741\n",
            "Epoch 70/100\n",
            "9096/9096 [==============================] - 0s 48us/sample - loss: 12.4372 - acc: 0.1889 - val_loss: 12.5937 - val_acc: 0.1741\n",
            "Epoch 71/100\n",
            "9096/9096 [==============================] - 0s 48us/sample - loss: 12.4372 - acc: 0.1889 - val_loss: 12.5937 - val_acc: 0.1741\n",
            "Epoch 72/100\n",
            "9096/9096 [==============================] - 0s 44us/sample - loss: 12.4372 - acc: 0.1889 - val_loss: 12.5937 - val_acc: 0.1741\n",
            "Epoch 73/100\n",
            "9096/9096 [==============================] - 0s 45us/sample - loss: 12.4372 - acc: 0.1889 - val_loss: 12.5937 - val_acc: 0.1741\n",
            "Epoch 74/100\n",
            "9096/9096 [==============================] - 0s 46us/sample - loss: 12.4372 - acc: 0.1889 - val_loss: 12.5937 - val_acc: 0.1741\n",
            "Epoch 75/100\n",
            "9096/9096 [==============================] - 0s 47us/sample - loss: 12.4372 - acc: 0.1889 - val_loss: 12.5937 - val_acc: 0.1741\n",
            "Epoch 76/100\n",
            "9096/9096 [==============================] - 0s 48us/sample - loss: 12.4372 - acc: 0.1889 - val_loss: 12.5937 - val_acc: 0.1741\n",
            "Epoch 77/100\n",
            "9096/9096 [==============================] - 0s 47us/sample - loss: 12.4372 - acc: 0.1889 - val_loss: 12.5937 - val_acc: 0.1741\n",
            "Epoch 78/100\n",
            "9096/9096 [==============================] - 0s 47us/sample - loss: 12.4372 - acc: 0.1889 - val_loss: 12.5937 - val_acc: 0.1741\n",
            "Epoch 79/100\n",
            "9096/9096 [==============================] - 0s 49us/sample - loss: 12.4372 - acc: 0.1889 - val_loss: 12.5937 - val_acc: 0.1741\n",
            "Epoch 80/100\n",
            "9096/9096 [==============================] - 0s 48us/sample - loss: 12.4372 - acc: 0.1889 - val_loss: 12.5937 - val_acc: 0.1741\n",
            "Epoch 81/100\n",
            "9096/9096 [==============================] - 0s 46us/sample - loss: 12.4372 - acc: 0.1889 - val_loss: 12.5937 - val_acc: 0.1741\n",
            "Epoch 82/100\n",
            "9096/9096 [==============================] - 0s 46us/sample - loss: 12.4372 - acc: 0.1889 - val_loss: 12.5937 - val_acc: 0.1741\n",
            "Epoch 83/100\n",
            "9096/9096 [==============================] - 0s 46us/sample - loss: 12.4372 - acc: 0.1889 - val_loss: 12.5937 - val_acc: 0.1741\n",
            "Epoch 84/100\n",
            "9096/9096 [==============================] - 0s 46us/sample - loss: 12.4372 - acc: 0.1889 - val_loss: 12.5937 - val_acc: 0.1741\n",
            "Epoch 85/100\n",
            "9096/9096 [==============================] - 0s 47us/sample - loss: 12.4372 - acc: 0.1889 - val_loss: 12.5937 - val_acc: 0.1741\n",
            "Epoch 86/100\n",
            "9096/9096 [==============================] - 0s 48us/sample - loss: 12.4372 - acc: 0.1889 - val_loss: 12.5937 - val_acc: 0.1741\n",
            "Epoch 87/100\n",
            "9096/9096 [==============================] - 0s 46us/sample - loss: 12.4372 - acc: 0.1889 - val_loss: 12.5937 - val_acc: 0.1741\n",
            "Epoch 88/100\n",
            "9096/9096 [==============================] - 0s 46us/sample - loss: 12.4372 - acc: 0.1889 - val_loss: 12.5937 - val_acc: 0.1741\n",
            "Epoch 89/100\n",
            "9096/9096 [==============================] - 0s 47us/sample - loss: 12.4372 - acc: 0.1889 - val_loss: 12.5937 - val_acc: 0.1741\n",
            "Epoch 90/100\n",
            "9096/9096 [==============================] - 0s 47us/sample - loss: 12.4372 - acc: 0.1889 - val_loss: 12.5937 - val_acc: 0.1741\n",
            "Epoch 91/100\n",
            "9096/9096 [==============================] - 0s 47us/sample - loss: 12.4372 - acc: 0.1889 - val_loss: 12.5937 - val_acc: 0.1741\n",
            "Epoch 92/100\n",
            "9096/9096 [==============================] - 0s 47us/sample - loss: 12.4372 - acc: 0.1889 - val_loss: 12.5937 - val_acc: 0.1741\n",
            "Epoch 93/100\n",
            "9096/9096 [==============================] - 0s 46us/sample - loss: 12.4372 - acc: 0.1889 - val_loss: 12.5937 - val_acc: 0.1741\n",
            "Epoch 94/100\n",
            "9096/9096 [==============================] - 0s 47us/sample - loss: 12.4372 - acc: 0.1889 - val_loss: 12.5937 - val_acc: 0.1741\n",
            "Epoch 95/100\n",
            "9096/9096 [==============================] - 0s 47us/sample - loss: 12.4372 - acc: 0.1889 - val_loss: 12.5937 - val_acc: 0.1741\n",
            "Epoch 96/100\n",
            "9096/9096 [==============================] - 0s 46us/sample - loss: 12.4372 - acc: 0.1889 - val_loss: 12.5937 - val_acc: 0.1741\n",
            "Epoch 97/100\n",
            "9096/9096 [==============================] - 0s 49us/sample - loss: 12.4372 - acc: 0.1889 - val_loss: 12.5937 - val_acc: 0.1741\n",
            "Epoch 98/100\n",
            "9096/9096 [==============================] - 0s 47us/sample - loss: 12.4372 - acc: 0.1889 - val_loss: 12.5937 - val_acc: 0.1741\n",
            "Epoch 99/100\n",
            "9096/9096 [==============================] - 0s 47us/sample - loss: 12.4372 - acc: 0.1889 - val_loss: 12.5937 - val_acc: 0.1741\n",
            "Epoch 100/100\n",
            "9096/9096 [==============================] - 0s 49us/sample - loss: 12.4372 - acc: 0.1889 - val_loss: 12.5937 - val_acc: 0.1741\n",
            "Model: \"sequential\"\n",
            "_________________________________________________________________\n",
            "Layer (type)                 Output Shape              Param #   \n",
            "=================================================================\n",
            "dense (Dense)                (None, 1)                 4679      \n",
            "=================================================================\n",
            "Total params: 4,679\n",
            "Trainable params: 4,679\n",
            "Non-trainable params: 0\n",
            "_________________________________________________________________\n",
            "Acuracy 0.1741424802110818\n",
            "Macro precision_recall_fscore_support\n"
          ],
          "name": "stdout"
        },
        {
          "output_type": "stream",
          "text": [
            "/usr/local/lib/python3.6/dist-packages/sklearn/metrics/_classification.py:1272: UndefinedMetricWarning: Precision and F-score are ill-defined and being set to 0.0 in labels with no predicted samples. Use `zero_division` parameter to control this behavior.\n",
            "  _warn_prf(average, modifier, msg_start, len(result))\n"
          ],
          "name": "stderr"
        },
        {
          "output_type": "stream",
          "text": [
            "(0.0870712401055409, 0.5, 0.14831460674157304, None)\n",
            "Micro precision_recall_fscore_support\n",
            "(0.1741424802110818, 0.1741424802110818, 0.1741424802110818, None)\n",
            "Weighted precision_recall_fscore_support\n",
            "(0.030325603414067013, 0.1741424802110818, 0.05165574693901752, None)\n",
            "CPU times: user 45.3 s, sys: 2.22 s, total: 47.5 s\n",
            "Wall time: 45.2 s\n"
          ],
          "name": "stdout"
        }
      ]
    },
    {
      "cell_type": "markdown",
      "metadata": {
        "id": "aBz-_kv5sx1t"
      },
      "source": [
        "### Multilayer perceptron"
      ]
    },
    {
      "cell_type": "markdown",
      "metadata": {
        "id": "mAcRAa64aVEX"
      },
      "source": [
        "#### Architecture"
      ]
    },
    {
      "cell_type": "markdown",
      "metadata": {
        "id": "YVI0xeefakdM"
      },
      "source": [
        "![Arch.jpeg](data:image/jpeg;base64,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)"
      ]
    },
    {
      "cell_type": "markdown",
      "metadata": {
        "id": "5CWbM84wvM5i"
      },
      "source": [
        "4678 -> 1560 -> 519 -> 173 -> 1\r\n",
        "\r\n",
        "Loss : Binary CrossEntropy\r\n",
        "\r\n",
        "Model 1 : SIGMOID + ADAM<br>\r\n",
        "Model 2 : SIGMOID + SGD<br>\r\n",
        "Model 3 : RELU + ADAM<br>\r\n",
        "Model 4 : RELU + SGD<br>\r\n",
        "Model 5 : SIGMOID + BATCH NORMALIZATION + ADAM<br>\r\n",
        "Model 6 : SIGMOID + BATCH NORMALIZATION + SGD<br>\r\n",
        "Model 7 : RELU + DROPOUT + ADAM<br>\r\n",
        "Model 8 : RELU + DROPOUT + SGD<br>\r\n",
        "\r\n",
        "\r\n"
      ]
    },
    {
      "cell_type": "code",
      "metadata": {
        "id": "oh2Tr7nO2h0C"
      },
      "source": [
        "input_dim = X_train.shape[1]\r\n",
        "hidden_layer_1 = 1560 # input_dim // 3\r\n",
        "hidden_layer_2 = 519 # hidden_layer_1 // 3\r\n",
        "hidden_layer_3 = 173 # hidden_layer_2 // 3\r\n",
        "output_dim = 1 \r\n",
        "\r\n",
        "batch_size = 200 \r\n",
        "nb_epoch = 100"
      ],
      "execution_count": 44,
      "outputs": []
    },
    {
      "cell_type": "markdown",
      "metadata": {
        "id": "BMyN2Deqh6O7"
      },
      "source": [
        "#### Model 1 : SIGMOID + ADAM"
      ]
    },
    {
      "cell_type": "code",
      "metadata": {
        "colab": {
          "base_uri": "https://localhost:8080/"
        },
        "id": "rTiZF6b_E1JI",
        "outputId": "36ed7976-8a0c-4dc9-865f-bddda53f604d"
      },
      "source": [
        "%%time\r\n",
        "# https://arxiv.org/pdf/1707.09725.pdf#page=95\r\n",
        "# for sigmoid layers # Xavior-initialization\r\n",
        "# If we sample weights from a normal distribution N(0,σ) we satisfy this condition with σ=√(2/(ni). \r\n",
        "# h1 =>  σ=√(2/(fan_in + fan_out) = 0.0179  => N(0,σ) = N(0,0.0179)\r\n",
        "# h2 =>  σ=√(2/(fan_in + fan_out) = 0.0310  => N(0,σ) = N(0,0.0310)\r\n",
        "# h3 =>  σ=√(2/(fan_in + fan_out) = 0.0537  => N(0,σ) = N(0,0.0537)\r\n",
        "# out =>  σ=√(2/(fan_in + f_out + 1) =   => N(0,σ) = N(0,0.107)\r\n",
        "\r\n",
        "\r\n",
        "model_sigmoid = Sequential()\r\n",
        "model_sigmoid.add(Dense(hidden_layer_1, activation='sigmoid', input_shape=(input_dim,), kernel_initializer=RandomNormal(mean=0.0, stddev=0.0179, seed=None)))\r\n",
        "model_sigmoid.add(Dense(hidden_layer_2, activation='sigmoid',kernel_initializer=RandomNormal(mean=0.0, stddev=0.0310, seed=None)))\r\n",
        "model_sigmoid.add(Dense(hidden_layer_3, activation='sigmoid',kernel_initializer=RandomNormal(mean=0.0, stddev=0.0537, seed=None)))\r\n",
        "model_sigmoid.add(Dense(output_dim, activation='softmax', kernel_initializer=RandomNormal(mean=0.0, stddev=0.107, seed=None)))\r\n",
        "\r\n",
        "model_sigmoid.summary()\r\n",
        "\r\n",
        "model_sigmoid.compile(optimizer='adam', loss='binary_crossentropy', metrics=['accuracy'])\r\n",
        "model_sigmoid.fit(X_train, y_train, batch_size=batch_size, epochs=nb_epoch, verbose=1, validation_data=(X_test, y_test))\r\n",
        "\r\n",
        "y_pred = model_sigmoid.predict(X_test)\r\n",
        "\r\n",
        "print(\"Acuracy\", accuracy_score(y_test, y_pred))\r\n",
        "print(\"Macro precision_recall_fscore_support\")\r\n",
        "print(precision_recall_fscore_support(y_test, y_pred, average='macro'))\r\n",
        "print(\"Micro precision_recall_fscore_support\")\r\n",
        "print(precision_recall_fscore_support(y_test, y_pred, average='micro'))\r\n",
        "print(\"Weighted precision_recall_fscore_support\")\r\n",
        "print(precision_recall_fscore_support(y_test, y_pred, average='weighted'))"
      ],
      "execution_count": 45,
      "outputs": [
        {
          "output_type": "stream",
          "text": [
            "WARNING:tensorflow:From /tensorflow-1.15.2/python3.6/tensorflow_core/python/keras/initializers.py:143: calling RandomNormal.__init__ (from tensorflow.python.ops.init_ops) with dtype is deprecated and will be removed in a future version.\n",
            "Instructions for updating:\n",
            "Call initializer instance with the dtype argument instead of passing it to the constructor\n",
            "Model: \"sequential_1\"\n",
            "_________________________________________________________________\n",
            "Layer (type)                 Output Shape              Param #   \n",
            "=================================================================\n",
            "dense_1 (Dense)              (None, 1560)              7299240   \n",
            "_________________________________________________________________\n",
            "dense_2 (Dense)              (None, 519)               810159    \n",
            "_________________________________________________________________\n",
            "dense_3 (Dense)              (None, 173)               89960     \n",
            "_________________________________________________________________\n",
            "dense_4 (Dense)              (None, 1)                 174       \n",
            "=================================================================\n",
            "Total params: 8,199,533\n",
            "Trainable params: 8,199,533\n",
            "Non-trainable params: 0\n",
            "_________________________________________________________________\n",
            "Train on 9096 samples, validate on 2274 samples\n",
            "Epoch 1/100\n",
            "9096/9096 [==============================] - 8s 897us/sample - loss: 12.4372 - acc: 0.1889 - val_loss: 12.5937 - val_acc: 0.1741\n",
            "Epoch 2/100\n",
            "9096/9096 [==============================] - 8s 886us/sample - loss: 12.4372 - acc: 0.1889 - val_loss: 12.5937 - val_acc: 0.1741\n",
            "Epoch 3/100\n",
            "9096/9096 [==============================] - 8s 883us/sample - loss: 12.4372 - acc: 0.1889 - val_loss: 12.5937 - val_acc: 0.1741\n",
            "Epoch 4/100\n",
            "9096/9096 [==============================] - 8s 886us/sample - loss: 12.4372 - acc: 0.1889 - val_loss: 12.5937 - val_acc: 0.1741\n",
            "Epoch 5/100\n",
            "9096/9096 [==============================] - 8s 888us/sample - loss: 12.4372 - acc: 0.1889 - val_loss: 12.5937 - val_acc: 0.1741\n",
            "Epoch 6/100\n",
            "9096/9096 [==============================] - 8s 887us/sample - loss: 12.4372 - acc: 0.1889 - val_loss: 12.5937 - val_acc: 0.1741\n",
            "Epoch 7/100\n",
            "9096/9096 [==============================] - 8s 887us/sample - loss: 12.4372 - acc: 0.1889 - val_loss: 12.5937 - val_acc: 0.1741\n",
            "Epoch 8/100\n",
            "9096/9096 [==============================] - 8s 883us/sample - loss: 12.4372 - acc: 0.1889 - val_loss: 12.5937 - val_acc: 0.1741\n",
            "Epoch 9/100\n",
            "9096/9096 [==============================] - 8s 886us/sample - loss: 12.4372 - acc: 0.1889 - val_loss: 12.5937 - val_acc: 0.1741\n",
            "Epoch 10/100\n",
            "9096/9096 [==============================] - 8s 886us/sample - loss: 12.4372 - acc: 0.1889 - val_loss: 12.5937 - val_acc: 0.1741\n",
            "Epoch 11/100\n",
            "9096/9096 [==============================] - 8s 888us/sample - loss: 12.4372 - acc: 0.1889 - val_loss: 12.5937 - val_acc: 0.1741\n",
            "Epoch 12/100\n",
            "9096/9096 [==============================] - 8s 889us/sample - loss: 12.4372 - acc: 0.1889 - val_loss: 12.5937 - val_acc: 0.1741\n",
            "Epoch 13/100\n",
            "9096/9096 [==============================] - 8s 888us/sample - loss: 12.4372 - acc: 0.1889 - val_loss: 12.5937 - val_acc: 0.1741\n",
            "Epoch 14/100\n",
            "9096/9096 [==============================] - 8s 887us/sample - loss: 12.4372 - acc: 0.1889 - val_loss: 12.5937 - val_acc: 0.1741\n",
            "Epoch 15/100\n",
            "9096/9096 [==============================] - 8s 892us/sample - loss: 12.4372 - acc: 0.1889 - val_loss: 12.5937 - val_acc: 0.1741\n",
            "Epoch 16/100\n",
            "9096/9096 [==============================] - 8s 885us/sample - loss: 12.4372 - acc: 0.1889 - val_loss: 12.5937 - val_acc: 0.1741\n",
            "Epoch 17/100\n",
            "9096/9096 [==============================] - 8s 883us/sample - loss: 12.4372 - acc: 0.1889 - val_loss: 12.5937 - val_acc: 0.1741\n",
            "Epoch 18/100\n",
            "9096/9096 [==============================] - 8s 882us/sample - loss: 12.4372 - acc: 0.1889 - val_loss: 12.5937 - val_acc: 0.1741\n",
            "Epoch 19/100\n",
            "9096/9096 [==============================] - 8s 885us/sample - loss: 12.4372 - acc: 0.1889 - val_loss: 12.5937 - val_acc: 0.1741\n",
            "Epoch 20/100\n",
            "9096/9096 [==============================] - 8s 888us/sample - loss: 12.4372 - acc: 0.1889 - val_loss: 12.5937 - val_acc: 0.1741\n",
            "Epoch 21/100\n",
            "9096/9096 [==============================] - 8s 888us/sample - loss: 12.4372 - acc: 0.1889 - val_loss: 12.5937 - val_acc: 0.1741\n",
            "Epoch 22/100\n",
            "9096/9096 [==============================] - 8s 885us/sample - loss: 12.4372 - acc: 0.1889 - val_loss: 12.5937 - val_acc: 0.1741\n",
            "Epoch 23/100\n",
            "9096/9096 [==============================] - 8s 883us/sample - loss: 12.4372 - acc: 0.1889 - val_loss: 12.5937 - val_acc: 0.1741\n",
            "Epoch 24/100\n",
            "9096/9096 [==============================] - 8s 885us/sample - loss: 12.4372 - acc: 0.1889 - val_loss: 12.5937 - val_acc: 0.1741\n",
            "Epoch 25/100\n",
            "9096/9096 [==============================] - 8s 901us/sample - loss: 12.4372 - acc: 0.1889 - val_loss: 12.5937 - val_acc: 0.1741\n",
            "Epoch 26/100\n",
            "9096/9096 [==============================] - 8s 901us/sample - loss: 12.4372 - acc: 0.1889 - val_loss: 12.5937 - val_acc: 0.1741\n",
            "Epoch 27/100\n",
            "9096/9096 [==============================] - 8s 898us/sample - loss: 12.4372 - acc: 0.1889 - val_loss: 12.5937 - val_acc: 0.1741\n",
            "Epoch 28/100\n",
            "9096/9096 [==============================] - 8s 883us/sample - loss: 12.4372 - acc: 0.1889 - val_loss: 12.5937 - val_acc: 0.1741\n",
            "Epoch 29/100\n",
            "9096/9096 [==============================] - 8s 884us/sample - loss: 12.4372 - acc: 0.1889 - val_loss: 12.5937 - val_acc: 0.1741\n",
            "Epoch 30/100\n",
            "9096/9096 [==============================] - 8s 885us/sample - loss: 12.4372 - acc: 0.1889 - val_loss: 12.5937 - val_acc: 0.1741\n",
            "Epoch 31/100\n",
            "9096/9096 [==============================] - 8s 881us/sample - loss: 12.4372 - acc: 0.1889 - val_loss: 12.5937 - val_acc: 0.1741\n",
            "Epoch 32/100\n",
            "9096/9096 [==============================] - 8s 882us/sample - loss: 12.4372 - acc: 0.1889 - val_loss: 12.5937 - val_acc: 0.1741\n",
            "Epoch 33/100\n",
            "9096/9096 [==============================] - 8s 899us/sample - loss: 12.4372 - acc: 0.1889 - val_loss: 12.5937 - val_acc: 0.1741\n",
            "Epoch 34/100\n",
            "9096/9096 [==============================] - 8s 888us/sample - loss: 12.4372 - acc: 0.1889 - val_loss: 12.5937 - val_acc: 0.1741\n",
            "Epoch 35/100\n",
            "9096/9096 [==============================] - 8s 882us/sample - loss: 12.4372 - acc: 0.1889 - val_loss: 12.5937 - val_acc: 0.1741\n",
            "Epoch 36/100\n",
            "9096/9096 [==============================] - 8s 875us/sample - loss: 12.4372 - acc: 0.1889 - val_loss: 12.5937 - val_acc: 0.1741\n",
            "Epoch 37/100\n",
            "9096/9096 [==============================] - 8s 875us/sample - loss: 12.4372 - acc: 0.1889 - val_loss: 12.5937 - val_acc: 0.1741\n",
            "Epoch 38/100\n",
            "9096/9096 [==============================] - 8s 874us/sample - loss: 12.4372 - acc: 0.1889 - val_loss: 12.5937 - val_acc: 0.1741\n",
            "Epoch 39/100\n",
            "9096/9096 [==============================] - 8s 880us/sample - loss: 12.4372 - acc: 0.1889 - val_loss: 12.5937 - val_acc: 0.1741\n",
            "Epoch 40/100\n",
            "9096/9096 [==============================] - 8s 880us/sample - loss: 12.4372 - acc: 0.1889 - val_loss: 12.5937 - val_acc: 0.1741\n",
            "Epoch 41/100\n",
            "9096/9096 [==============================] - 8s 880us/sample - loss: 12.4372 - acc: 0.1889 - val_loss: 12.5937 - val_acc: 0.1741\n",
            "Epoch 42/100\n",
            "9096/9096 [==============================] - 8s 875us/sample - loss: 12.4372 - acc: 0.1889 - val_loss: 12.5937 - val_acc: 0.1741\n",
            "Epoch 43/100\n",
            "9096/9096 [==============================] - 8s 881us/sample - loss: 12.4372 - acc: 0.1889 - val_loss: 12.5937 - val_acc: 0.1741\n",
            "Epoch 44/100\n",
            "9096/9096 [==============================] - 8s 880us/sample - loss: 12.4372 - acc: 0.1889 - val_loss: 12.5937 - val_acc: 0.1741\n",
            "Epoch 45/100\n",
            "9096/9096 [==============================] - 8s 879us/sample - loss: 12.4372 - acc: 0.1889 - val_loss: 12.5937 - val_acc: 0.1741\n",
            "Epoch 46/100\n",
            "9096/9096 [==============================] - 8s 877us/sample - loss: 12.4372 - acc: 0.1889 - val_loss: 12.5937 - val_acc: 0.1741\n",
            "Epoch 47/100\n",
            "9096/9096 [==============================] - 8s 876us/sample - loss: 12.4372 - acc: 0.1889 - val_loss: 12.5937 - val_acc: 0.1741\n",
            "Epoch 48/100\n",
            "9096/9096 [==============================] - 8s 878us/sample - loss: 12.4372 - acc: 0.1889 - val_loss: 12.5937 - val_acc: 0.1741\n",
            "Epoch 49/100\n",
            "9096/9096 [==============================] - 8s 877us/sample - loss: 12.4372 - acc: 0.1889 - val_loss: 12.5937 - val_acc: 0.1741\n",
            "Epoch 50/100\n",
            "9096/9096 [==============================] - 8s 878us/sample - loss: 12.4372 - acc: 0.1889 - val_loss: 12.5937 - val_acc: 0.1741\n",
            "Epoch 51/100\n",
            "9096/9096 [==============================] - 8s 876us/sample - loss: 12.4372 - acc: 0.1889 - val_loss: 12.5937 - val_acc: 0.1741\n",
            "Epoch 52/100\n",
            "9096/9096 [==============================] - 8s 883us/sample - loss: 12.4372 - acc: 0.1889 - val_loss: 12.5937 - val_acc: 0.1741\n",
            "Epoch 53/100\n",
            "9096/9096 [==============================] - 8s 881us/sample - loss: 12.4372 - acc: 0.1889 - val_loss: 12.5937 - val_acc: 0.1741\n",
            "Epoch 54/100\n",
            "9096/9096 [==============================] - 8s 883us/sample - loss: 12.4372 - acc: 0.1889 - val_loss: 12.5937 - val_acc: 0.1741\n",
            "Epoch 55/100\n",
            "9096/9096 [==============================] - 8s 880us/sample - loss: 12.4372 - acc: 0.1889 - val_loss: 12.5937 - val_acc: 0.1741\n",
            "Epoch 56/100\n",
            "9096/9096 [==============================] - 8s 883us/sample - loss: 12.4372 - acc: 0.1889 - val_loss: 12.5937 - val_acc: 0.1741\n",
            "Epoch 57/100\n",
            "9096/9096 [==============================] - 8s 877us/sample - loss: 12.4372 - acc: 0.1889 - val_loss: 12.5937 - val_acc: 0.1741\n",
            "Epoch 58/100\n",
            "9096/9096 [==============================] - 8s 882us/sample - loss: 12.4372 - acc: 0.1889 - val_loss: 12.5937 - val_acc: 0.1741\n",
            "Epoch 59/100\n",
            "9096/9096 [==============================] - 8s 877us/sample - loss: 12.4372 - acc: 0.1889 - val_loss: 12.5937 - val_acc: 0.1741\n",
            "Epoch 60/100\n",
            "9096/9096 [==============================] - 8s 884us/sample - loss: 12.4372 - acc: 0.1889 - val_loss: 12.5937 - val_acc: 0.1741\n",
            "Epoch 61/100\n",
            "9096/9096 [==============================] - 8s 882us/sample - loss: 12.4372 - acc: 0.1889 - val_loss: 12.5937 - val_acc: 0.1741\n",
            "Epoch 62/100\n",
            "9096/9096 [==============================] - 8s 888us/sample - loss: 12.4372 - acc: 0.1889 - val_loss: 12.5937 - val_acc: 0.1741\n",
            "Epoch 63/100\n",
            "9096/9096 [==============================] - 8s 882us/sample - loss: 12.4372 - acc: 0.1889 - val_loss: 12.5937 - val_acc: 0.1741\n",
            "Epoch 64/100\n",
            "9096/9096 [==============================] - 8s 887us/sample - loss: 12.4372 - acc: 0.1889 - val_loss: 12.5937 - val_acc: 0.1741\n",
            "Epoch 65/100\n",
            "9096/9096 [==============================] - 8s 897us/sample - loss: 12.4372 - acc: 0.1889 - val_loss: 12.5937 - val_acc: 0.1741\n",
            "Epoch 66/100\n",
            "9096/9096 [==============================] - 8s 897us/sample - loss: 12.4372 - acc: 0.1889 - val_loss: 12.5937 - val_acc: 0.1741\n",
            "Epoch 67/100\n",
            "9096/9096 [==============================] - 8s 892us/sample - loss: 12.4372 - acc: 0.1889 - val_loss: 12.5937 - val_acc: 0.1741\n",
            "Epoch 68/100\n",
            "9096/9096 [==============================] - 8s 881us/sample - loss: 12.4372 - acc: 0.1889 - val_loss: 12.5937 - val_acc: 0.1741\n",
            "Epoch 69/100\n",
            "9096/9096 [==============================] - 8s 882us/sample - loss: 12.4372 - acc: 0.1889 - val_loss: 12.5937 - val_acc: 0.1741\n",
            "Epoch 70/100\n",
            "9096/9096 [==============================] - 8s 884us/sample - loss: 12.4372 - acc: 0.1889 - val_loss: 12.5937 - val_acc: 0.1741\n",
            "Epoch 71/100\n",
            "9096/9096 [==============================] - 8s 903us/sample - loss: 12.4372 - acc: 0.1889 - val_loss: 12.5937 - val_acc: 0.1741\n",
            "Epoch 72/100\n",
            "9096/9096 [==============================] - 8s 887us/sample - loss: 12.4372 - acc: 0.1889 - val_loss: 12.5937 - val_acc: 0.1741\n",
            "Epoch 73/100\n",
            "9096/9096 [==============================] - 8s 887us/sample - loss: 12.4372 - acc: 0.1889 - val_loss: 12.5937 - val_acc: 0.1741\n",
            "Epoch 74/100\n",
            "9096/9096 [==============================] - 8s 884us/sample - loss: 12.4372 - acc: 0.1889 - val_loss: 12.5937 - val_acc: 0.1741\n",
            "Epoch 75/100\n",
            "9096/9096 [==============================] - 8s 883us/sample - loss: 12.4372 - acc: 0.1889 - val_loss: 12.5937 - val_acc: 0.1741\n",
            "Epoch 76/100\n",
            "9096/9096 [==============================] - 8s 883us/sample - loss: 12.4372 - acc: 0.1889 - val_loss: 12.5937 - val_acc: 0.1741\n",
            "Epoch 77/100\n",
            "9096/9096 [==============================] - 8s 882us/sample - loss: 12.4372 - acc: 0.1889 - val_loss: 12.5937 - val_acc: 0.1741\n",
            "Epoch 78/100\n",
            "9096/9096 [==============================] - 8s 885us/sample - loss: 12.4372 - acc: 0.1889 - val_loss: 12.5937 - val_acc: 0.1741\n",
            "Epoch 79/100\n",
            "9096/9096 [==============================] - 8s 884us/sample - loss: 12.4372 - acc: 0.1889 - val_loss: 12.5937 - val_acc: 0.1741\n",
            "Epoch 80/100\n",
            "9096/9096 [==============================] - 8s 880us/sample - loss: 12.4372 - acc: 0.1889 - val_loss: 12.5937 - val_acc: 0.1741\n",
            "Epoch 81/100\n",
            "9096/9096 [==============================] - 8s 886us/sample - loss: 12.4372 - acc: 0.1889 - val_loss: 12.5937 - val_acc: 0.1741\n",
            "Epoch 82/100\n",
            "9096/9096 [==============================] - 8s 883us/sample - loss: 12.4372 - acc: 0.1889 - val_loss: 12.5937 - val_acc: 0.1741\n",
            "Epoch 83/100\n",
            "9096/9096 [==============================] - 8s 882us/sample - loss: 12.4372 - acc: 0.1889 - val_loss: 12.5937 - val_acc: 0.1741\n",
            "Epoch 84/100\n",
            "9096/9096 [==============================] - 8s 883us/sample - loss: 12.4372 - acc: 0.1889 - val_loss: 12.5937 - val_acc: 0.1741\n",
            "Epoch 85/100\n",
            "9096/9096 [==============================] - 8s 880us/sample - loss: 12.4372 - acc: 0.1889 - val_loss: 12.5937 - val_acc: 0.1741\n",
            "Epoch 86/100\n",
            "9096/9096 [==============================] - 8s 887us/sample - loss: 12.4372 - acc: 0.1889 - val_loss: 12.5937 - val_acc: 0.1741\n",
            "Epoch 87/100\n",
            "9096/9096 [==============================] - 8s 883us/sample - loss: 12.4372 - acc: 0.1889 - val_loss: 12.5937 - val_acc: 0.1741\n",
            "Epoch 88/100\n",
            "9096/9096 [==============================] - 8s 885us/sample - loss: 12.4372 - acc: 0.1889 - val_loss: 12.5937 - val_acc: 0.1741\n",
            "Epoch 89/100\n",
            "9096/9096 [==============================] - 8s 883us/sample - loss: 12.4372 - acc: 0.1889 - val_loss: 12.5937 - val_acc: 0.1741\n",
            "Epoch 90/100\n",
            "9096/9096 [==============================] - 8s 884us/sample - loss: 12.4372 - acc: 0.1889 - val_loss: 12.5937 - val_acc: 0.1741\n",
            "Epoch 91/100\n",
            "9096/9096 [==============================] - 8s 884us/sample - loss: 12.4372 - acc: 0.1889 - val_loss: 12.5937 - val_acc: 0.1741\n",
            "Epoch 92/100\n",
            "9096/9096 [==============================] - 8s 885us/sample - loss: 12.4372 - acc: 0.1889 - val_loss: 12.5937 - val_acc: 0.1741\n",
            "Epoch 93/100\n",
            "9096/9096 [==============================] - 8s 881us/sample - loss: 12.4372 - acc: 0.1889 - val_loss: 12.5937 - val_acc: 0.1741\n",
            "Epoch 94/100\n",
            "9096/9096 [==============================] - 8s 885us/sample - loss: 12.4372 - acc: 0.1889 - val_loss: 12.5937 - val_acc: 0.1741\n",
            "Epoch 95/100\n",
            "9096/9096 [==============================] - 8s 884us/sample - loss: 12.4372 - acc: 0.1889 - val_loss: 12.5937 - val_acc: 0.1741\n",
            "Epoch 96/100\n",
            "9096/9096 [==============================] - 8s 886us/sample - loss: 12.4372 - acc: 0.1889 - val_loss: 12.5937 - val_acc: 0.1741\n",
            "Epoch 97/100\n",
            "9096/9096 [==============================] - 8s 883us/sample - loss: 12.4372 - acc: 0.1889 - val_loss: 12.5937 - val_acc: 0.1741\n",
            "Epoch 98/100\n",
            "9096/9096 [==============================] - 8s 886us/sample - loss: 12.4372 - acc: 0.1889 - val_loss: 12.5937 - val_acc: 0.1741\n",
            "Epoch 99/100\n",
            "9096/9096 [==============================] - 8s 885us/sample - loss: 12.4372 - acc: 0.1889 - val_loss: 12.5937 - val_acc: 0.1741\n",
            "Epoch 100/100\n",
            "9096/9096 [==============================] - 8s 882us/sample - loss: 12.4372 - acc: 0.1889 - val_loss: 12.5937 - val_acc: 0.1741\n",
            "Acuracy 0.1741424802110818\n",
            "Macro precision_recall_fscore_support\n"
          ],
          "name": "stdout"
        },
        {
          "output_type": "stream",
          "text": [
            "/usr/local/lib/python3.6/dist-packages/sklearn/metrics/_classification.py:1272: UndefinedMetricWarning: Precision and F-score are ill-defined and being set to 0.0 in labels with no predicted samples. Use `zero_division` parameter to control this behavior.\n",
            "  _warn_prf(average, modifier, msg_start, len(result))\n"
          ],
          "name": "stderr"
        },
        {
          "output_type": "stream",
          "text": [
            "(0.0870712401055409, 0.5, 0.14831460674157304, None)\n",
            "Micro precision_recall_fscore_support\n",
            "(0.1741424802110818, 0.1741424802110818, 0.1741424802110818, None)\n",
            "Weighted precision_recall_fscore_support\n",
            "(0.030325603414067013, 0.1741424802110818, 0.05165574693901752, None)\n",
            "CPU times: user 24min 7s, sys: 12.5 s, total: 24min 20s\n",
            "Wall time: 13min 27s\n"
          ],
          "name": "stdout"
        }
      ]
    },
    {
      "cell_type": "markdown",
      "metadata": {
        "id": "z_IZSv6LH32T"
      },
      "source": [
        "#### Model 2 : SIGMOID + SGD"
      ]
    },
    {
      "cell_type": "code",
      "metadata": {
        "colab": {
          "base_uri": "https://localhost:8080/"
        },
        "id": "Op52vR1BE1JJ",
        "outputId": "4d13ba21-178e-48b4-86e8-7ab6f39fca7c"
      },
      "source": [
        "%%time\r\n",
        "model_sigmoid = Sequential()\r\n",
        "model_sigmoid.add(Dense(hidden_layer_1, activation='sigmoid', input_shape=(input_dim,)))\r\n",
        "model_sigmoid.add(Dense(hidden_layer_2, activation='sigmoid'))\r\n",
        "model_sigmoid.add(Dense(hidden_layer_3, activation='sigmoid'))\r\n",
        "model_sigmoid.add(Dense(output_dim, activation='softmax'))\r\n",
        "\r\n",
        "model_sigmoid.summary()\r\n",
        "\r\n",
        "model_sigmoid.compile(optimizer='sgd', loss='binary_crossentropy', metrics=['accuracy'])\r\n",
        "model_sigmoid.fit(X_train, y_train, batch_size=batch_size, epochs=nb_epoch, verbose=1, validation_data=(X_test, y_test))\r\n",
        "\r\n",
        "y_pred = model_sigmoid.predict(X_test)\r\n",
        "\r\n",
        "print(\"Acuracy\", accuracy_score(y_test, y_pred))\r\n",
        "print(\"Macro precision_recall_fscore_support\")\r\n",
        "print(precision_recall_fscore_support(y_test, y_pred, average='macro'))\r\n",
        "print(\"Micro precision_recall_fscore_support\")\r\n",
        "print(precision_recall_fscore_support(y_test, y_pred, average='micro'))\r\n",
        "print(\"Weighted precision_recall_fscore_support\")\r\n",
        "print(precision_recall_fscore_support(y_test, y_pred, average='weighted'))"
      ],
      "execution_count": 46,
      "outputs": [
        {
          "output_type": "stream",
          "text": [
            "Model: \"sequential_2\"\n",
            "_________________________________________________________________\n",
            "Layer (type)                 Output Shape              Param #   \n",
            "=================================================================\n",
            "dense_5 (Dense)              (None, 1560)              7299240   \n",
            "_________________________________________________________________\n",
            "dense_6 (Dense)              (None, 519)               810159    \n",
            "_________________________________________________________________\n",
            "dense_7 (Dense)              (None, 173)               89960     \n",
            "_________________________________________________________________\n",
            "dense_8 (Dense)              (None, 1)                 174       \n",
            "=================================================================\n",
            "Total params: 8,199,533\n",
            "Trainable params: 8,199,533\n",
            "Non-trainable params: 0\n",
            "_________________________________________________________________\n",
            "Train on 9096 samples, validate on 2274 samples\n",
            "Epoch 1/100\n",
            "9096/9096 [==============================] - 8s 826us/sample - loss: 12.4372 - acc: 0.1889 - val_loss: 12.5937 - val_acc: 0.1741\n",
            "Epoch 2/100\n",
            "9096/9096 [==============================] - 8s 831us/sample - loss: 12.4372 - acc: 0.1889 - val_loss: 12.5937 - val_acc: 0.1741\n",
            "Epoch 3/100\n",
            "9096/9096 [==============================] - 7s 818us/sample - loss: 12.4372 - acc: 0.1889 - val_loss: 12.5937 - val_acc: 0.1741\n",
            "Epoch 4/100\n",
            "9096/9096 [==============================] - 7s 815us/sample - loss: 12.4372 - acc: 0.1889 - val_loss: 12.5937 - val_acc: 0.1741\n",
            "Epoch 5/100\n",
            "9096/9096 [==============================] - 7s 824us/sample - loss: 12.4372 - acc: 0.1889 - val_loss: 12.5937 - val_acc: 0.1741\n",
            "Epoch 6/100\n",
            "9096/9096 [==============================] - 7s 817us/sample - loss: 12.4372 - acc: 0.1889 - val_loss: 12.5937 - val_acc: 0.1741\n",
            "Epoch 7/100\n",
            "9096/9096 [==============================] - 7s 808us/sample - loss: 12.4372 - acc: 0.1889 - val_loss: 12.5937 - val_acc: 0.1741\n",
            "Epoch 8/100\n",
            "9096/9096 [==============================] - 7s 809us/sample - loss: 12.4372 - acc: 0.1889 - val_loss: 12.5937 - val_acc: 0.1741\n",
            "Epoch 9/100\n",
            "9096/9096 [==============================] - 7s 808us/sample - loss: 12.4372 - acc: 0.1889 - val_loss: 12.5937 - val_acc: 0.1741\n",
            "Epoch 10/100\n",
            "9096/9096 [==============================] - 7s 824us/sample - loss: 12.4372 - acc: 0.1889 - val_loss: 12.5937 - val_acc: 0.1741\n",
            "Epoch 11/100\n",
            "9096/9096 [==============================] - 7s 812us/sample - loss: 12.4372 - acc: 0.1889 - val_loss: 12.5937 - val_acc: 0.1741\n",
            "Epoch 12/100\n",
            "9096/9096 [==============================] - 7s 806us/sample - loss: 12.4372 - acc: 0.1889 - val_loss: 12.5937 - val_acc: 0.1741\n",
            "Epoch 13/100\n",
            "9096/9096 [==============================] - 7s 809us/sample - loss: 12.4372 - acc: 0.1889 - val_loss: 12.5937 - val_acc: 0.1741\n",
            "Epoch 14/100\n",
            "9096/9096 [==============================] - 7s 808us/sample - loss: 12.4372 - acc: 0.1889 - val_loss: 12.5937 - val_acc: 0.1741\n",
            "Epoch 15/100\n",
            "9096/9096 [==============================] - 7s 812us/sample - loss: 12.4372 - acc: 0.1889 - val_loss: 12.5937 - val_acc: 0.1741\n",
            "Epoch 16/100\n",
            "9096/9096 [==============================] - 7s 806us/sample - loss: 12.4372 - acc: 0.1889 - val_loss: 12.5937 - val_acc: 0.1741\n",
            "Epoch 17/100\n",
            "9096/9096 [==============================] - 7s 810us/sample - loss: 12.4372 - acc: 0.1889 - val_loss: 12.5937 - val_acc: 0.1741\n",
            "Epoch 18/100\n",
            "9096/9096 [==============================] - 7s 807us/sample - loss: 12.4372 - acc: 0.1889 - val_loss: 12.5937 - val_acc: 0.1741\n",
            "Epoch 19/100\n",
            "9096/9096 [==============================] - 7s 809us/sample - loss: 12.4372 - acc: 0.1889 - val_loss: 12.5937 - val_acc: 0.1741\n",
            "Epoch 20/100\n",
            "9096/9096 [==============================] - 7s 809us/sample - loss: 12.4372 - acc: 0.1889 - val_loss: 12.5937 - val_acc: 0.1741\n",
            "Epoch 21/100\n",
            "9096/9096 [==============================] - 7s 807us/sample - loss: 12.4372 - acc: 0.1889 - val_loss: 12.5937 - val_acc: 0.1741\n",
            "Epoch 22/100\n",
            "9096/9096 [==============================] - 7s 809us/sample - loss: 12.4372 - acc: 0.1889 - val_loss: 12.5937 - val_acc: 0.1741\n",
            "Epoch 23/100\n",
            "9096/9096 [==============================] - 7s 807us/sample - loss: 12.4372 - acc: 0.1889 - val_loss: 12.5937 - val_acc: 0.1741\n",
            "Epoch 24/100\n",
            "9096/9096 [==============================] - 7s 809us/sample - loss: 12.4372 - acc: 0.1889 - val_loss: 12.5937 - val_acc: 0.1741\n",
            "Epoch 25/100\n",
            "9096/9096 [==============================] - 7s 812us/sample - loss: 12.4372 - acc: 0.1889 - val_loss: 12.5937 - val_acc: 0.1741\n",
            "Epoch 26/100\n",
            "9096/9096 [==============================] - 7s 808us/sample - loss: 12.4372 - acc: 0.1889 - val_loss: 12.5937 - val_acc: 0.1741\n",
            "Epoch 27/100\n",
            "9096/9096 [==============================] - 7s 807us/sample - loss: 12.4372 - acc: 0.1889 - val_loss: 12.5937 - val_acc: 0.1741\n",
            "Epoch 28/100\n",
            "9096/9096 [==============================] - 7s 807us/sample - loss: 12.4372 - acc: 0.1889 - val_loss: 12.5937 - val_acc: 0.1741\n",
            "Epoch 29/100\n",
            "9096/9096 [==============================] - 7s 809us/sample - loss: 12.4372 - acc: 0.1889 - val_loss: 12.5937 - val_acc: 0.1741\n",
            "Epoch 30/100\n",
            "9096/9096 [==============================] - 7s 809us/sample - loss: 12.4372 - acc: 0.1889 - val_loss: 12.5937 - val_acc: 0.1741\n",
            "Epoch 31/100\n",
            "9096/9096 [==============================] - 7s 809us/sample - loss: 12.4372 - acc: 0.1889 - val_loss: 12.5937 - val_acc: 0.1741\n",
            "Epoch 32/100\n",
            "9096/9096 [==============================] - 7s 809us/sample - loss: 12.4372 - acc: 0.1889 - val_loss: 12.5937 - val_acc: 0.1741\n",
            "Epoch 33/100\n",
            "9096/9096 [==============================] - 7s 816us/sample - loss: 12.4372 - acc: 0.1889 - val_loss: 12.5937 - val_acc: 0.1741\n",
            "Epoch 34/100\n",
            "9096/9096 [==============================] - 7s 810us/sample - loss: 12.4372 - acc: 0.1889 - val_loss: 12.5937 - val_acc: 0.1741\n",
            "Epoch 35/100\n",
            "9096/9096 [==============================] - 7s 814us/sample - loss: 12.4372 - acc: 0.1889 - val_loss: 12.5937 - val_acc: 0.1741\n",
            "Epoch 36/100\n",
            "9096/9096 [==============================] - 7s 811us/sample - loss: 12.4372 - acc: 0.1889 - val_loss: 12.5937 - val_acc: 0.1741\n",
            "Epoch 37/100\n",
            "9096/9096 [==============================] - 7s 809us/sample - loss: 12.4372 - acc: 0.1889 - val_loss: 12.5937 - val_acc: 0.1741\n",
            "Epoch 38/100\n",
            "9096/9096 [==============================] - 7s 806us/sample - loss: 12.4372 - acc: 0.1889 - val_loss: 12.5937 - val_acc: 0.1741\n",
            "Epoch 39/100\n",
            "9096/9096 [==============================] - 7s 810us/sample - loss: 12.4372 - acc: 0.1889 - val_loss: 12.5937 - val_acc: 0.1741\n",
            "Epoch 40/100\n",
            "9096/9096 [==============================] - 7s 805us/sample - loss: 12.4372 - acc: 0.1889 - val_loss: 12.5937 - val_acc: 0.1741\n",
            "Epoch 41/100\n",
            "9096/9096 [==============================] - 7s 808us/sample - loss: 12.4372 - acc: 0.1889 - val_loss: 12.5937 - val_acc: 0.1741\n",
            "Epoch 42/100\n",
            "9096/9096 [==============================] - 7s 804us/sample - loss: 12.4372 - acc: 0.1889 - val_loss: 12.5937 - val_acc: 0.1741\n",
            "Epoch 43/100\n",
            "9096/9096 [==============================] - 7s 809us/sample - loss: 12.4372 - acc: 0.1889 - val_loss: 12.5937 - val_acc: 0.1741\n",
            "Epoch 44/100\n",
            "9096/9096 [==============================] - 7s 815us/sample - loss: 12.4372 - acc: 0.1889 - val_loss: 12.5937 - val_acc: 0.1741\n",
            "Epoch 45/100\n",
            "9096/9096 [==============================] - 7s 808us/sample - loss: 12.4372 - acc: 0.1889 - val_loss: 12.5937 - val_acc: 0.1741\n",
            "Epoch 46/100\n",
            "9096/9096 [==============================] - 7s 810us/sample - loss: 12.4372 - acc: 0.1889 - val_loss: 12.5937 - val_acc: 0.1741\n",
            "Epoch 47/100\n",
            "9096/9096 [==============================] - 7s 821us/sample - loss: 12.4372 - acc: 0.1889 - val_loss: 12.5937 - val_acc: 0.1741\n",
            "Epoch 48/100\n",
            "9096/9096 [==============================] - 8s 829us/sample - loss: 12.4372 - acc: 0.1889 - val_loss: 12.5937 - val_acc: 0.1741\n",
            "Epoch 49/100\n",
            "9096/9096 [==============================] - 8s 825us/sample - loss: 12.4372 - acc: 0.1889 - val_loss: 12.5937 - val_acc: 0.1741\n",
            "Epoch 50/100\n",
            "9096/9096 [==============================] - 7s 820us/sample - loss: 12.4372 - acc: 0.1889 - val_loss: 12.5937 - val_acc: 0.1741\n",
            "Epoch 51/100\n",
            "9096/9096 [==============================] - 8s 825us/sample - loss: 12.4372 - acc: 0.1889 - val_loss: 12.5937 - val_acc: 0.1741\n",
            "Epoch 52/100\n",
            "9096/9096 [==============================] - 8s 830us/sample - loss: 12.4372 - acc: 0.1889 - val_loss: 12.5937 - val_acc: 0.1741\n",
            "Epoch 53/100\n",
            "9096/9096 [==============================] - 7s 808us/sample - loss: 12.4372 - acc: 0.1889 - val_loss: 12.5937 - val_acc: 0.1741\n",
            "Epoch 54/100\n",
            "9096/9096 [==============================] - 7s 810us/sample - loss: 12.4372 - acc: 0.1889 - val_loss: 12.5937 - val_acc: 0.1741\n",
            "Epoch 55/100\n",
            "9096/9096 [==============================] - 7s 807us/sample - loss: 12.4372 - acc: 0.1889 - val_loss: 12.5937 - val_acc: 0.1741\n",
            "Epoch 56/100\n",
            "9096/9096 [==============================] - 7s 810us/sample - loss: 12.4372 - acc: 0.1889 - val_loss: 12.5937 - val_acc: 0.1741\n",
            "Epoch 57/100\n",
            "9096/9096 [==============================] - 7s 811us/sample - loss: 12.4372 - acc: 0.1889 - val_loss: 12.5937 - val_acc: 0.1741\n",
            "Epoch 58/100\n",
            "9096/9096 [==============================] - 7s 812us/sample - loss: 12.4372 - acc: 0.1889 - val_loss: 12.5937 - val_acc: 0.1741\n",
            "Epoch 59/100\n",
            "9096/9096 [==============================] - 7s 811us/sample - loss: 12.4372 - acc: 0.1889 - val_loss: 12.5937 - val_acc: 0.1741\n",
            "Epoch 60/100\n",
            "9096/9096 [==============================] - 7s 818us/sample - loss: 12.4372 - acc: 0.1889 - val_loss: 12.5937 - val_acc: 0.1741\n",
            "Epoch 61/100\n",
            "9096/9096 [==============================] - 7s 812us/sample - loss: 12.4372 - acc: 0.1889 - val_loss: 12.5937 - val_acc: 0.1741\n",
            "Epoch 62/100\n",
            "9096/9096 [==============================] - 7s 812us/sample - loss: 12.4372 - acc: 0.1889 - val_loss: 12.5937 - val_acc: 0.1741\n",
            "Epoch 63/100\n",
            "9096/9096 [==============================] - 7s 813us/sample - loss: 12.4372 - acc: 0.1889 - val_loss: 12.5937 - val_acc: 0.1741\n",
            "Epoch 64/100\n",
            "9096/9096 [==============================] - 7s 819us/sample - loss: 12.4372 - acc: 0.1889 - val_loss: 12.5937 - val_acc: 0.1741\n",
            "Epoch 65/100\n",
            "9096/9096 [==============================] - 7s 820us/sample - loss: 12.4372 - acc: 0.1889 - val_loss: 12.5937 - val_acc: 0.1741\n",
            "Epoch 66/100\n",
            "9096/9096 [==============================] - 7s 820us/sample - loss: 12.4372 - acc: 0.1889 - val_loss: 12.5937 - val_acc: 0.1741\n",
            "Epoch 67/100\n",
            "9096/9096 [==============================] - 7s 815us/sample - loss: 12.4372 - acc: 0.1889 - val_loss: 12.5937 - val_acc: 0.1741\n",
            "Epoch 68/100\n",
            "9096/9096 [==============================] - 7s 813us/sample - loss: 12.4372 - acc: 0.1889 - val_loss: 12.5937 - val_acc: 0.1741\n",
            "Epoch 69/100\n",
            "9096/9096 [==============================] - 7s 807us/sample - loss: 12.4372 - acc: 0.1889 - val_loss: 12.5937 - val_acc: 0.1741\n",
            "Epoch 70/100\n",
            "9096/9096 [==============================] - 7s 811us/sample - loss: 12.4372 - acc: 0.1889 - val_loss: 12.5937 - val_acc: 0.1741\n",
            "Epoch 71/100\n",
            "9096/9096 [==============================] - 7s 808us/sample - loss: 12.4372 - acc: 0.1889 - val_loss: 12.5937 - val_acc: 0.1741\n",
            "Epoch 72/100\n",
            "9096/9096 [==============================] - 7s 809us/sample - loss: 12.4372 - acc: 0.1889 - val_loss: 12.5937 - val_acc: 0.1741\n",
            "Epoch 73/100\n",
            "9096/9096 [==============================] - 7s 810us/sample - loss: 12.4372 - acc: 0.1889 - val_loss: 12.5937 - val_acc: 0.1741\n",
            "Epoch 74/100\n",
            "9096/9096 [==============================] - 7s 815us/sample - loss: 12.4372 - acc: 0.1889 - val_loss: 12.5937 - val_acc: 0.1741\n",
            "Epoch 75/100\n",
            "9096/9096 [==============================] - 7s 808us/sample - loss: 12.4372 - acc: 0.1889 - val_loss: 12.5937 - val_acc: 0.1741\n",
            "Epoch 76/100\n",
            "9096/9096 [==============================] - 7s 816us/sample - loss: 12.4372 - acc: 0.1889 - val_loss: 12.5937 - val_acc: 0.1741\n",
            "Epoch 77/100\n",
            "9096/9096 [==============================] - 7s 809us/sample - loss: 12.4372 - acc: 0.1889 - val_loss: 12.5937 - val_acc: 0.1741\n",
            "Epoch 78/100\n",
            "9096/9096 [==============================] - 7s 811us/sample - loss: 12.4372 - acc: 0.1889 - val_loss: 12.5937 - val_acc: 0.1741\n",
            "Epoch 79/100\n",
            "9096/9096 [==============================] - 7s 809us/sample - loss: 12.4372 - acc: 0.1889 - val_loss: 12.5937 - val_acc: 0.1741\n",
            "Epoch 80/100\n",
            "9096/9096 [==============================] - 7s 806us/sample - loss: 12.4372 - acc: 0.1889 - val_loss: 12.5937 - val_acc: 0.1741\n",
            "Epoch 81/100\n",
            "9096/9096 [==============================] - 7s 812us/sample - loss: 12.4372 - acc: 0.1889 - val_loss: 12.5937 - val_acc: 0.1741\n",
            "Epoch 82/100\n",
            "9096/9096 [==============================] - 7s 814us/sample - loss: 12.4372 - acc: 0.1889 - val_loss: 12.5937 - val_acc: 0.1741\n",
            "Epoch 83/100\n",
            "9096/9096 [==============================] - 7s 812us/sample - loss: 12.4372 - acc: 0.1889 - val_loss: 12.5937 - val_acc: 0.1741\n",
            "Epoch 84/100\n",
            "9096/9096 [==============================] - 7s 810us/sample - loss: 12.4372 - acc: 0.1889 - val_loss: 12.5937 - val_acc: 0.1741\n",
            "Epoch 85/100\n",
            "9096/9096 [==============================] - 7s 812us/sample - loss: 12.4372 - acc: 0.1889 - val_loss: 12.5937 - val_acc: 0.1741\n",
            "Epoch 86/100\n",
            "9096/9096 [==============================] - 7s 815us/sample - loss: 12.4372 - acc: 0.1889 - val_loss: 12.5937 - val_acc: 0.1741\n",
            "Epoch 87/100\n",
            "9096/9096 [==============================] - 7s 810us/sample - loss: 12.4372 - acc: 0.1889 - val_loss: 12.5937 - val_acc: 0.1741\n",
            "Epoch 88/100\n",
            "9096/9096 [==============================] - 7s 813us/sample - loss: 12.4372 - acc: 0.1889 - val_loss: 12.5937 - val_acc: 0.1741\n",
            "Epoch 89/100\n",
            "9096/9096 [==============================] - 7s 816us/sample - loss: 12.4372 - acc: 0.1889 - val_loss: 12.5937 - val_acc: 0.1741\n",
            "Epoch 90/100\n",
            "9096/9096 [==============================] - 7s 818us/sample - loss: 12.4372 - acc: 0.1889 - val_loss: 12.5937 - val_acc: 0.1741\n",
            "Epoch 91/100\n",
            "9096/9096 [==============================] - 8s 832us/sample - loss: 12.4372 - acc: 0.1889 - val_loss: 12.5937 - val_acc: 0.1741\n",
            "Epoch 92/100\n",
            "9096/9096 [==============================] - 8s 839us/sample - loss: 12.4372 - acc: 0.1889 - val_loss: 12.5937 - val_acc: 0.1741\n",
            "Epoch 93/100\n",
            "9096/9096 [==============================] - 8s 925us/sample - loss: 12.4372 - acc: 0.1889 - val_loss: 12.5937 - val_acc: 0.1741\n",
            "Epoch 94/100\n",
            "9096/9096 [==============================] - 7s 814us/sample - loss: 12.4372 - acc: 0.1889 - val_loss: 12.5937 - val_acc: 0.1741\n",
            "Epoch 95/100\n",
            "9096/9096 [==============================] - 7s 810us/sample - loss: 12.4372 - acc: 0.1889 - val_loss: 12.5937 - val_acc: 0.1741\n",
            "Epoch 96/100\n",
            "9096/9096 [==============================] - 7s 812us/sample - loss: 12.4372 - acc: 0.1889 - val_loss: 12.5937 - val_acc: 0.1741\n",
            "Epoch 97/100\n",
            "9096/9096 [==============================] - 7s 812us/sample - loss: 12.4372 - acc: 0.1889 - val_loss: 12.5937 - val_acc: 0.1741\n",
            "Epoch 98/100\n",
            "9096/9096 [==============================] - 7s 811us/sample - loss: 12.4372 - acc: 0.1889 - val_loss: 12.5937 - val_acc: 0.1741\n",
            "Epoch 99/100\n",
            "9096/9096 [==============================] - 7s 809us/sample - loss: 12.4372 - acc: 0.1889 - val_loss: 12.5937 - val_acc: 0.1741\n",
            "Epoch 100/100\n",
            "9096/9096 [==============================] - 7s 814us/sample - loss: 12.4372 - acc: 0.1889 - val_loss: 12.5937 - val_acc: 0.1741\n",
            "Acuracy 0.1741424802110818\n",
            "Macro precision_recall_fscore_support\n"
          ],
          "name": "stdout"
        },
        {
          "output_type": "stream",
          "text": [
            "/usr/local/lib/python3.6/dist-packages/sklearn/metrics/_classification.py:1272: UndefinedMetricWarning: Precision and F-score are ill-defined and being set to 0.0 in labels with no predicted samples. Use `zero_division` parameter to control this behavior.\n",
            "  _warn_prf(average, modifier, msg_start, len(result))\n"
          ],
          "name": "stderr"
        },
        {
          "output_type": "stream",
          "text": [
            "(0.0870712401055409, 0.5, 0.14831460674157304, None)\n",
            "Micro precision_recall_fscore_support\n",
            "(0.1741424802110818, 0.1741424802110818, 0.1741424802110818, None)\n",
            "Weighted precision_recall_fscore_support\n",
            "(0.030325603414067013, 0.1741424802110818, 0.05165574693901752, None)\n",
            "CPU times: user 22min 2s, sys: 11.9 s, total: 22min 14s\n",
            "Wall time: 12min 23s\n"
          ],
          "name": "stdout"
        }
      ]
    },
    {
      "cell_type": "markdown",
      "metadata": {
        "id": "bc_BBxuajt6o"
      },
      "source": [
        "#### Model 3 : RELU + ADAM"
      ]
    },
    {
      "cell_type": "code",
      "metadata": {
        "colab": {
          "base_uri": "https://localhost:8080/"
        },
        "id": "YpWTWaUYE1JJ",
        "outputId": "637abe53-1100-4139-91c9-8819935eeeba"
      },
      "source": [
        "%%time\r\n",
        "# https://arxiv.org/pdf/1707.09725.pdf#page=95\r\n",
        "# for relu layers # he-initialization\r\n",
        "# If we sample weights from a normal distribution N(0,σ) we satisfy this condition with σ=√(2/(ni). \r\n",
        "# h1 =>  σ=√(2/(fan_in) = 0.0206  => N(0,σ) = N(0,0.0206)\r\n",
        "# h2 =>  σ=√(2/(fan_in) = 0.0358  => N(0,σ) = N(0,0.0358)\r\n",
        "# h3 =>  σ=√(2/(fan_in) = 0.0620  => N(0,σ) = N(0,0.0620)\r\n",
        "# out =>  σ=√(2/(fan_in+1) = 0.107  => N(0,σ) = N(0,0.107)\r\n",
        "\r\n",
        "model_relu = Sequential()\r\n",
        "model_relu.add(Dense(hidden_layer_1, activation='relu', input_shape=(input_dim,), kernel_initializer=RandomNormal(mean=0.0, stddev=0.0358, seed=None)))\r\n",
        "model_relu.add(Dense(hidden_layer_2, activation='relu', kernel_initializer=RandomNormal(mean=0.0, stddev=0.0358, seed=None)))\r\n",
        "model_relu.add(Dense(hidden_layer_3, activation='relu', kernel_initializer=RandomNormal(mean=0.0, stddev=0.0620, seed=None)))\r\n",
        "model_relu.add(Dense(1, activation='relu', kernel_initializer=RandomNormal(mean=0.0, stddev=0.107, seed=None)))\r\n",
        "\r\n",
        "model_relu.summary()\r\n",
        "\r\n",
        "model_relu.compile(optimizer='adam', loss='binary_crossentropy', metrics=['accuracy'])\r\n",
        "model_relu.fit(X_train, y_train, batch_size=batch_size, epochs=nb_epoch, verbose=1, validation_data=(X_test, y_test))\r\n",
        "\r\n",
        "y_pred = model_relu.predict(X_test)\r\n",
        "\r\n",
        "for i in range(len(y_pred)):\r\n",
        "  if y_pred[i][0] >= 0.5:\r\n",
        "    y_pred[i][0] = 1\r\n",
        "  else:\r\n",
        "    y_pred[i][0] = 0\r\n",
        "\r\n",
        "print(\"Acuracy\", accuracy_score(y_test, y_pred))\r\n",
        "print(\"Macro precision_recall_fscore_support\")\r\n",
        "print(precision_recall_fscore_support(y_test, y_pred, average='macro'))\r\n",
        "print(\"Micro precision_recall_fscore_support\")\r\n",
        "print(precision_recall_fscore_support(y_test, y_pred, average='micro'))\r\n",
        "print(\"Weighted precision_recall_fscore_support\")\r\n",
        "print(precision_recall_fscore_support(y_test, y_pred, average='weighted'))"
      ],
      "execution_count": 47,
      "outputs": [
        {
          "output_type": "stream",
          "text": [
            "Model: \"sequential_3\"\n",
            "_________________________________________________________________\n",
            "Layer (type)                 Output Shape              Param #   \n",
            "=================================================================\n",
            "dense_9 (Dense)              (None, 1560)              7299240   \n",
            "_________________________________________________________________\n",
            "dense_10 (Dense)             (None, 519)               810159    \n",
            "_________________________________________________________________\n",
            "dense_11 (Dense)             (None, 173)               89960     \n",
            "_________________________________________________________________\n",
            "dense_12 (Dense)             (None, 1)                 174       \n",
            "=================================================================\n",
            "Total params: 8,199,533\n",
            "Trainable params: 8,199,533\n",
            "Non-trainable params: 0\n",
            "_________________________________________________________________\n",
            "Train on 9096 samples, validate on 2274 samples\n",
            "Epoch 1/100\n",
            "9096/9096 [==============================] - 8s 892us/sample - loss: 0.4457 - acc: 0.8461 - val_loss: 0.3344 - val_acc: 0.8883\n",
            "Epoch 2/100\n",
            "9096/9096 [==============================] - 8s 871us/sample - loss: 0.2388 - acc: 0.9243 - val_loss: 0.4093 - val_acc: 0.8874\n",
            "Epoch 3/100\n",
            "9096/9096 [==============================] - 8s 872us/sample - loss: 0.1291 - acc: 0.9631 - val_loss: 0.4689 - val_acc: 0.8914\n",
            "Epoch 4/100\n",
            "9096/9096 [==============================] - 8s 871us/sample - loss: 0.0705 - acc: 0.9904 - val_loss: 0.9381 - val_acc: 0.8892\n",
            "Epoch 5/100\n",
            "9096/9096 [==============================] - 8s 894us/sample - loss: 0.0516 - acc: 0.9956 - val_loss: 0.9548 - val_acc: 0.8883\n",
            "Epoch 6/100\n",
            "9096/9096 [==============================] - 8s 873us/sample - loss: 0.0477 - acc: 0.9964 - val_loss: 0.9937 - val_acc: 0.8874\n",
            "Epoch 7/100\n",
            "9096/9096 [==============================] - 8s 871us/sample - loss: 0.0497 - acc: 0.9967 - val_loss: 1.0083 - val_acc: 0.8892\n",
            "Epoch 8/100\n",
            "9096/9096 [==============================] - 8s 872us/sample - loss: 0.0494 - acc: 0.9966 - val_loss: 1.0336 - val_acc: 0.8865\n",
            "Epoch 9/100\n",
            "9096/9096 [==============================] - 8s 875us/sample - loss: 0.0491 - acc: 0.9968 - val_loss: 1.0387 - val_acc: 0.8883\n",
            "Epoch 10/100\n",
            "9096/9096 [==============================] - 8s 873us/sample - loss: 0.0491 - acc: 0.9968 - val_loss: 1.0409 - val_acc: 0.8870\n",
            "Epoch 11/100\n",
            "9096/9096 [==============================] - 8s 878us/sample - loss: 0.0491 - acc: 0.9968 - val_loss: 1.0346 - val_acc: 0.8874\n",
            "Epoch 12/100\n",
            "9096/9096 [==============================] - 8s 872us/sample - loss: 0.0491 - acc: 0.9968 - val_loss: 1.0384 - val_acc: 0.8861\n",
            "Epoch 13/100\n",
            "9096/9096 [==============================] - 8s 880us/sample - loss: 0.0491 - acc: 0.9968 - val_loss: 1.0368 - val_acc: 0.8870\n",
            "Epoch 14/100\n",
            "9096/9096 [==============================] - 8s 881us/sample - loss: 0.0490 - acc: 0.9968 - val_loss: 1.0369 - val_acc: 0.8883\n",
            "Epoch 15/100\n",
            "9096/9096 [==============================] - 8s 880us/sample - loss: 0.0490 - acc: 0.9968 - val_loss: 1.0369 - val_acc: 0.8883\n",
            "Epoch 16/100\n",
            "9096/9096 [==============================] - 8s 876us/sample - loss: 0.0490 - acc: 0.9968 - val_loss: 1.0369 - val_acc: 0.8883\n",
            "Epoch 17/100\n",
            "9096/9096 [==============================] - 8s 881us/sample - loss: 0.0490 - acc: 0.9968 - val_loss: 1.0369 - val_acc: 0.8883\n",
            "Epoch 18/100\n",
            "9096/9096 [==============================] - 8s 884us/sample - loss: 0.0490 - acc: 0.9968 - val_loss: 1.0369 - val_acc: 0.8883\n",
            "Epoch 19/100\n",
            "9096/9096 [==============================] - 8s 879us/sample - loss: 0.0490 - acc: 0.9968 - val_loss: 1.0369 - val_acc: 0.8883\n",
            "Epoch 20/100\n",
            "9096/9096 [==============================] - 8s 883us/sample - loss: 0.0490 - acc: 0.9968 - val_loss: 1.0369 - val_acc: 0.8883\n",
            "Epoch 21/100\n",
            "9096/9096 [==============================] - 8s 877us/sample - loss: 0.0490 - acc: 0.9968 - val_loss: 1.0369 - val_acc: 0.8883\n",
            "Epoch 22/100\n",
            "9096/9096 [==============================] - 8s 881us/sample - loss: 0.0490 - acc: 0.9968 - val_loss: 1.0369 - val_acc: 0.8883\n",
            "Epoch 23/100\n",
            "9096/9096 [==============================] - 8s 876us/sample - loss: 0.0490 - acc: 0.9968 - val_loss: 1.0369 - val_acc: 0.8883\n",
            "Epoch 24/100\n",
            "9096/9096 [==============================] - 8s 876us/sample - loss: 0.0490 - acc: 0.9968 - val_loss: 1.0369 - val_acc: 0.8883\n",
            "Epoch 25/100\n",
            "9096/9096 [==============================] - 8s 878us/sample - loss: 0.0490 - acc: 0.9968 - val_loss: 1.0369 - val_acc: 0.8883\n",
            "Epoch 26/100\n",
            "9096/9096 [==============================] - 8s 880us/sample - loss: 0.0490 - acc: 0.9968 - val_loss: 1.0369 - val_acc: 0.8883\n",
            "Epoch 27/100\n",
            "9096/9096 [==============================] - 8s 875us/sample - loss: 0.0490 - acc: 0.9968 - val_loss: 1.0369 - val_acc: 0.8883\n",
            "Epoch 28/100\n",
            "9096/9096 [==============================] - 8s 880us/sample - loss: 0.0490 - acc: 0.9968 - val_loss: 1.0369 - val_acc: 0.8883\n",
            "Epoch 29/100\n",
            "9096/9096 [==============================] - 8s 877us/sample - loss: 0.0490 - acc: 0.9968 - val_loss: 1.0369 - val_acc: 0.8883\n",
            "Epoch 30/100\n",
            "9096/9096 [==============================] - 8s 880us/sample - loss: 0.0490 - acc: 0.9968 - val_loss: 1.0369 - val_acc: 0.8883\n",
            "Epoch 31/100\n",
            "9096/9096 [==============================] - 8s 901us/sample - loss: 0.0490 - acc: 0.9968 - val_loss: 1.0369 - val_acc: 0.8883\n",
            "Epoch 32/100\n",
            "9096/9096 [==============================] - 8s 933us/sample - loss: 0.0490 - acc: 0.9968 - val_loss: 1.0369 - val_acc: 0.8883\n",
            "Epoch 33/100\n",
            "9096/9096 [==============================] - 8s 885us/sample - loss: 0.0490 - acc: 0.9968 - val_loss: 1.0369 - val_acc: 0.8883\n",
            "Epoch 34/100\n",
            "9096/9096 [==============================] - 8s 877us/sample - loss: 0.0490 - acc: 0.9968 - val_loss: 1.0369 - val_acc: 0.8883\n",
            "Epoch 35/100\n",
            "9096/9096 [==============================] - 8s 879us/sample - loss: 0.0490 - acc: 0.9968 - val_loss: 1.0369 - val_acc: 0.8883\n",
            "Epoch 36/100\n",
            "9096/9096 [==============================] - 8s 878us/sample - loss: 0.0490 - acc: 0.9968 - val_loss: 1.0369 - val_acc: 0.8883\n",
            "Epoch 37/100\n",
            "9096/9096 [==============================] - 8s 878us/sample - loss: 0.0490 - acc: 0.9968 - val_loss: 1.0369 - val_acc: 0.8883\n",
            "Epoch 38/100\n",
            "9096/9096 [==============================] - 8s 876us/sample - loss: 0.0490 - acc: 0.9968 - val_loss: 1.0369 - val_acc: 0.8883\n",
            "Epoch 39/100\n",
            "9096/9096 [==============================] - 8s 877us/sample - loss: 0.0490 - acc: 0.9968 - val_loss: 1.0369 - val_acc: 0.8883\n",
            "Epoch 40/100\n",
            "9096/9096 [==============================] - 8s 877us/sample - loss: 0.0490 - acc: 0.9968 - val_loss: 1.0369 - val_acc: 0.8883\n",
            "Epoch 41/100\n",
            "9096/9096 [==============================] - 8s 879us/sample - loss: 0.0490 - acc: 0.9968 - val_loss: 1.0369 - val_acc: 0.8883\n",
            "Epoch 42/100\n",
            "9096/9096 [==============================] - 8s 877us/sample - loss: 0.0490 - acc: 0.9968 - val_loss: 1.0369 - val_acc: 0.8883\n",
            "Epoch 43/100\n",
            "9096/9096 [==============================] - 8s 880us/sample - loss: 0.0490 - acc: 0.9968 - val_loss: 1.0369 - val_acc: 0.8883\n",
            "Epoch 44/100\n",
            "9096/9096 [==============================] - 8s 875us/sample - loss: 0.0490 - acc: 0.9968 - val_loss: 1.0369 - val_acc: 0.8883\n",
            "Epoch 45/100\n",
            "9096/9096 [==============================] - 8s 886us/sample - loss: 0.0490 - acc: 0.9968 - val_loss: 1.0369 - val_acc: 0.8883\n",
            "Epoch 46/100\n",
            "9096/9096 [==============================] - 8s 880us/sample - loss: 0.0490 - acc: 0.9968 - val_loss: 1.0369 - val_acc: 0.8883\n",
            "Epoch 47/100\n",
            "9096/9096 [==============================] - 8s 876us/sample - loss: 0.0490 - acc: 0.9968 - val_loss: 1.0369 - val_acc: 0.8883\n",
            "Epoch 48/100\n",
            "9096/9096 [==============================] - 8s 875us/sample - loss: 0.0490 - acc: 0.9968 - val_loss: 1.0369 - val_acc: 0.8883\n",
            "Epoch 49/100\n",
            "9096/9096 [==============================] - 8s 879us/sample - loss: 0.0490 - acc: 0.9968 - val_loss: 1.0369 - val_acc: 0.8883\n",
            "Epoch 50/100\n",
            "9096/9096 [==============================] - 8s 877us/sample - loss: 0.0490 - acc: 0.9968 - val_loss: 1.0369 - val_acc: 0.8883\n",
            "Epoch 51/100\n",
            "9096/9096 [==============================] - 8s 869us/sample - loss: 0.0490 - acc: 0.9968 - val_loss: 1.0369 - val_acc: 0.8883\n",
            "Epoch 52/100\n",
            "9096/9096 [==============================] - 8s 879us/sample - loss: 0.0490 - acc: 0.9968 - val_loss: 1.0369 - val_acc: 0.8883\n",
            "Epoch 53/100\n",
            "9096/9096 [==============================] - 8s 880us/sample - loss: 0.0490 - acc: 0.9968 - val_loss: 1.0369 - val_acc: 0.8883\n",
            "Epoch 54/100\n",
            "9096/9096 [==============================] - 8s 884us/sample - loss: 0.0490 - acc: 0.9968 - val_loss: 1.0369 - val_acc: 0.8883\n",
            "Epoch 55/100\n",
            "9096/9096 [==============================] - 8s 879us/sample - loss: 0.0490 - acc: 0.9968 - val_loss: 1.0369 - val_acc: 0.8883\n",
            "Epoch 56/100\n",
            "9096/9096 [==============================] - 8s 884us/sample - loss: 0.0490 - acc: 0.9968 - val_loss: 1.0369 - val_acc: 0.8883\n",
            "Epoch 57/100\n",
            "9096/9096 [==============================] - 8s 883us/sample - loss: 0.0490 - acc: 0.9968 - val_loss: 1.0369 - val_acc: 0.8883\n",
            "Epoch 58/100\n",
            "9096/9096 [==============================] - 8s 884us/sample - loss: 0.0490 - acc: 0.9968 - val_loss: 1.0369 - val_acc: 0.8883\n",
            "Epoch 59/100\n",
            "9096/9096 [==============================] - 8s 881us/sample - loss: 0.0490 - acc: 0.9968 - val_loss: 1.0369 - val_acc: 0.8883\n",
            "Epoch 60/100\n",
            "9096/9096 [==============================] - 8s 888us/sample - loss: 0.0490 - acc: 0.9968 - val_loss: 1.0369 - val_acc: 0.8883\n",
            "Epoch 61/100\n",
            "9096/9096 [==============================] - 8s 885us/sample - loss: 0.0490 - acc: 0.9968 - val_loss: 1.0369 - val_acc: 0.8883\n",
            "Epoch 62/100\n",
            "9096/9096 [==============================] - 8s 886us/sample - loss: 0.0490 - acc: 0.9968 - val_loss: 1.0369 - val_acc: 0.8883\n",
            "Epoch 63/100\n",
            "9096/9096 [==============================] - 8s 883us/sample - loss: 0.0490 - acc: 0.9968 - val_loss: 1.0369 - val_acc: 0.8883\n",
            "Epoch 64/100\n",
            "9096/9096 [==============================] - 8s 879us/sample - loss: 0.0490 - acc: 0.9968 - val_loss: 1.0369 - val_acc: 0.8883\n",
            "Epoch 65/100\n",
            "9096/9096 [==============================] - 8s 880us/sample - loss: 0.0490 - acc: 0.9968 - val_loss: 1.0369 - val_acc: 0.8883\n",
            "Epoch 66/100\n",
            "9096/9096 [==============================] - 8s 883us/sample - loss: 0.0490 - acc: 0.9968 - val_loss: 1.0369 - val_acc: 0.8883\n",
            "Epoch 67/100\n",
            "9096/9096 [==============================] - 8s 881us/sample - loss: 0.0490 - acc: 0.9968 - val_loss: 1.0369 - val_acc: 0.8883\n",
            "Epoch 68/100\n",
            "9096/9096 [==============================] - 8s 880us/sample - loss: 0.0490 - acc: 0.9968 - val_loss: 1.0369 - val_acc: 0.8883\n",
            "Epoch 69/100\n",
            "9096/9096 [==============================] - 8s 887us/sample - loss: 0.0490 - acc: 0.9968 - val_loss: 1.0369 - val_acc: 0.8883\n",
            "Epoch 70/100\n",
            "9096/9096 [==============================] - 8s 918us/sample - loss: 0.0490 - acc: 0.9968 - val_loss: 1.0369 - val_acc: 0.8883\n",
            "Epoch 71/100\n",
            "9096/9096 [==============================] - 8s 890us/sample - loss: 0.0490 - acc: 0.9968 - val_loss: 1.0369 - val_acc: 0.8883\n",
            "Epoch 72/100\n",
            "9096/9096 [==============================] - 8s 912us/sample - loss: 0.0490 - acc: 0.9968 - val_loss: 1.0369 - val_acc: 0.8883\n",
            "Epoch 73/100\n",
            "9096/9096 [==============================] - 8s 892us/sample - loss: 0.0490 - acc: 0.9968 - val_loss: 1.0369 - val_acc: 0.8883\n",
            "Epoch 74/100\n",
            "9096/9096 [==============================] - 8s 891us/sample - loss: 0.0490 - acc: 0.9968 - val_loss: 1.0369 - val_acc: 0.8883\n",
            "Epoch 75/100\n",
            "9096/9096 [==============================] - 8s 891us/sample - loss: 0.0490 - acc: 0.9968 - val_loss: 1.0369 - val_acc: 0.8883\n",
            "Epoch 76/100\n",
            "9096/9096 [==============================] - 8s 893us/sample - loss: 0.0490 - acc: 0.9968 - val_loss: 1.0369 - val_acc: 0.8883\n",
            "Epoch 77/100\n",
            "9096/9096 [==============================] - 8s 886us/sample - loss: 0.0490 - acc: 0.9968 - val_loss: 1.0369 - val_acc: 0.8883\n",
            "Epoch 78/100\n",
            "9096/9096 [==============================] - 8s 887us/sample - loss: 0.0490 - acc: 0.9968 - val_loss: 1.0369 - val_acc: 0.8883\n",
            "Epoch 79/100\n",
            "9096/9096 [==============================] - 8s 886us/sample - loss: 0.0490 - acc: 0.9968 - val_loss: 1.0369 - val_acc: 0.8883\n",
            "Epoch 80/100\n",
            "9096/9096 [==============================] - 8s 886us/sample - loss: 0.0490 - acc: 0.9968 - val_loss: 1.0369 - val_acc: 0.8883\n",
            "Epoch 81/100\n",
            "9096/9096 [==============================] - 8s 880us/sample - loss: 0.0490 - acc: 0.9968 - val_loss: 1.0369 - val_acc: 0.8883\n",
            "Epoch 82/100\n",
            "9096/9096 [==============================] - 8s 882us/sample - loss: 0.0490 - acc: 0.9968 - val_loss: 1.0369 - val_acc: 0.8883\n",
            "Epoch 83/100\n",
            "9096/9096 [==============================] - 8s 883us/sample - loss: 0.0490 - acc: 0.9968 - val_loss: 1.0369 - val_acc: 0.8883\n",
            "Epoch 84/100\n",
            "9096/9096 [==============================] - 8s 883us/sample - loss: 0.0490 - acc: 0.9968 - val_loss: 1.0369 - val_acc: 0.8883\n",
            "Epoch 85/100\n",
            "9096/9096 [==============================] - 8s 882us/sample - loss: 0.0490 - acc: 0.9968 - val_loss: 1.0369 - val_acc: 0.8883\n",
            "Epoch 86/100\n",
            "9096/9096 [==============================] - 8s 886us/sample - loss: 0.0490 - acc: 0.9968 - val_loss: 1.0369 - val_acc: 0.8883\n",
            "Epoch 87/100\n",
            "9096/9096 [==============================] - 8s 886us/sample - loss: 0.0490 - acc: 0.9968 - val_loss: 1.0369 - val_acc: 0.8883\n",
            "Epoch 88/100\n",
            "9096/9096 [==============================] - 8s 887us/sample - loss: 0.0490 - acc: 0.9968 - val_loss: 1.0369 - val_acc: 0.8883\n",
            "Epoch 89/100\n",
            "9096/9096 [==============================] - 8s 884us/sample - loss: 0.0490 - acc: 0.9968 - val_loss: 1.0369 - val_acc: 0.8883\n",
            "Epoch 90/100\n",
            "9096/9096 [==============================] - 8s 881us/sample - loss: 0.0490 - acc: 0.9968 - val_loss: 1.0369 - val_acc: 0.8883\n",
            "Epoch 91/100\n",
            "9096/9096 [==============================] - 8s 883us/sample - loss: 0.0490 - acc: 0.9968 - val_loss: 1.0369 - val_acc: 0.8883\n",
            "Epoch 92/100\n",
            "9096/9096 [==============================] - 8s 882us/sample - loss: 0.0490 - acc: 0.9968 - val_loss: 1.0369 - val_acc: 0.8883\n",
            "Epoch 93/100\n",
            "9096/9096 [==============================] - 8s 881us/sample - loss: 0.0490 - acc: 0.9968 - val_loss: 1.0369 - val_acc: 0.8883\n",
            "Epoch 94/100\n",
            "9096/9096 [==============================] - 8s 873us/sample - loss: 0.0490 - acc: 0.9968 - val_loss: 1.0369 - val_acc: 0.8883\n",
            "Epoch 95/100\n",
            "9096/9096 [==============================] - 8s 884us/sample - loss: 0.0490 - acc: 0.9968 - val_loss: 1.0369 - val_acc: 0.8883\n",
            "Epoch 96/100\n",
            "9096/9096 [==============================] - 8s 882us/sample - loss: 0.0490 - acc: 0.9968 - val_loss: 1.0369 - val_acc: 0.8883\n",
            "Epoch 97/100\n",
            "9096/9096 [==============================] - 8s 883us/sample - loss: 0.0490 - acc: 0.9968 - val_loss: 1.0369 - val_acc: 0.8883\n",
            "Epoch 98/100\n",
            "9096/9096 [==============================] - 8s 882us/sample - loss: 0.0490 - acc: 0.9968 - val_loss: 1.0369 - val_acc: 0.8883\n",
            "Epoch 99/100\n",
            "9096/9096 [==============================] - 8s 883us/sample - loss: 0.0490 - acc: 0.9968 - val_loss: 1.0369 - val_acc: 0.8883\n",
            "Epoch 100/100\n",
            "9096/9096 [==============================] - 8s 883us/sample - loss: 0.0490 - acc: 0.9968 - val_loss: 1.0369 - val_acc: 0.8883\n",
            "Acuracy 0.8883025505716798\n",
            "Macro precision_recall_fscore_support\n",
            "(0.8187164150460594, 0.7679712460063898, 0.7894837359023105, None)\n",
            "Micro precision_recall_fscore_support\n",
            "(0.8883025505716798, 0.8883025505716798, 0.88830255057168, None)\n",
            "Weighted precision_recall_fscore_support\n",
            "(0.8818294216855757, 0.8883025505716798, 0.8834821205878082, None)\n",
            "CPU times: user 24min 4s, sys: 12.9 s, total: 24min 17s\n",
            "Wall time: 13min 25s\n"
          ],
          "name": "stdout"
        }
      ]
    },
    {
      "cell_type": "markdown",
      "metadata": {
        "id": "ANszZUAy0Tdr"
      },
      "source": [
        "#### Model 4 : RELU + SGD"
      ]
    },
    {
      "cell_type": "code",
      "metadata": {
        "colab": {
          "base_uri": "https://localhost:8080/"
        },
        "id": "_oOm1EieE1JJ",
        "outputId": "e1bc9d08-3c79-45d1-b630-3f144e2b26d5"
      },
      "source": [
        "%%time\r\n",
        "# https://arxiv.org/pdf/1707.09725.pdf#page=95\r\n",
        "# for relu layers # he-initialization\r\n",
        "# If we sample weights from a normal distribution N(0,σ) we satisfy this condition with σ=√(2/(ni). \r\n",
        "# h1 =>  σ=√(2/(fan_in) = 0.0206  => N(0,σ) = N(0,0.0206)\r\n",
        "# h2 =>  σ=√(2/(fan_in) = 0.0358  => N(0,σ) = N(0,0.0358)\r\n",
        "# h3 =>  σ=√(2/(fan_in) = 0.0620  => N(0,σ) = N(0,0.0620)\r\n",
        "# out =>  σ=√(2/(fan_in+1) = 1  => N(0,σ) = N(0,1)\r\n",
        "\r\n",
        "model_relu = Sequential()\r\n",
        "model_relu.add(Dense(hidden_layer_1, activation='relu', input_shape=(input_dim,), kernel_initializer=RandomNormal(mean=0.0, stddev=0.0358, seed=None)))\r\n",
        "model_relu.add(Dense(hidden_layer_2, activation='relu', kernel_initializer=RandomNormal(mean=0.0, stddev=0.0358, seed=None)))\r\n",
        "model_relu.add(Dense(hidden_layer_3, activation='relu', kernel_initializer=RandomNormal(mean=0.0, stddev=0.0620, seed=None)))\r\n",
        "model_relu.add(Dense(1, activation='relu', kernel_initializer=RandomNormal(mean=0.0, stddev=1, seed=None)))\r\n",
        "\r\n",
        "model_relu.summary()\r\n",
        "\r\n",
        "model_relu.compile(optimizer='sgd', loss='binary_crossentropy', metrics=['accuracy'])\r\n",
        "model_relu.fit(X_train, y_train, batch_size=batch_size, epochs=nb_epoch, verbose=1, validation_data=(X_test, y_test))\r\n",
        "\r\n",
        "y_pred = model_relu.predict_classes(X_test)\r\n",
        "\r\n",
        "print(\"Acuracy\", accuracy_score(y_test, y_pred))\r\n",
        "print(\"Macro precision_recall_fscore_support\")\r\n",
        "print(precision_recall_fscore_support(y_test, y_pred, average='macro'))\r\n",
        "print(\"Micro precision_recall_fscore_support\")\r\n",
        "print(precision_recall_fscore_support(y_test, y_pred, average='micro'))\r\n",
        "print(\"Weighted precision_recall_fscore_support\")\r\n",
        "print(precision_recall_fscore_support(y_test, y_pred, average='weighted'))"
      ],
      "execution_count": 48,
      "outputs": [
        {
          "output_type": "stream",
          "text": [
            "Model: \"sequential_4\"\n",
            "_________________________________________________________________\n",
            "Layer (type)                 Output Shape              Param #   \n",
            "=================================================================\n",
            "dense_13 (Dense)             (None, 1560)              7299240   \n",
            "_________________________________________________________________\n",
            "dense_14 (Dense)             (None, 519)               810159    \n",
            "_________________________________________________________________\n",
            "dense_15 (Dense)             (None, 173)               89960     \n",
            "_________________________________________________________________\n",
            "dense_16 (Dense)             (None, 1)                 174       \n",
            "=================================================================\n",
            "Total params: 8,199,533\n",
            "Trainable params: 8,199,533\n",
            "Non-trainable params: 0\n",
            "_________________________________________________________________\n",
            "Train on 9096 samples, validate on 2274 samples\n",
            "Epoch 1/100\n",
            "9096/9096 [==============================] - 8s 835us/sample - loss: 11.9779 - acc: 0.2161 - val_loss: 12.5937 - val_acc: 0.1741\n",
            "Epoch 2/100\n",
            "9096/9096 [==============================] - 7s 817us/sample - loss: 12.4372 - acc: 0.1889 - val_loss: 12.5937 - val_acc: 0.1741\n",
            "Epoch 3/100\n",
            "9096/9096 [==============================] - 7s 816us/sample - loss: 12.4372 - acc: 0.1889 - val_loss: 12.5937 - val_acc: 0.1741\n",
            "Epoch 4/100\n",
            "9096/9096 [==============================] - 8s 838us/sample - loss: 12.4372 - acc: 0.1889 - val_loss: 12.5937 - val_acc: 0.1741\n",
            "Epoch 5/100\n",
            "9096/9096 [==============================] - 7s 821us/sample - loss: 12.4372 - acc: 0.1889 - val_loss: 12.5937 - val_acc: 0.1741\n",
            "Epoch 6/100\n",
            "9096/9096 [==============================] - 7s 821us/sample - loss: 12.4372 - acc: 0.1889 - val_loss: 12.5937 - val_acc: 0.1741\n",
            "Epoch 7/100\n",
            "9096/9096 [==============================] - 7s 817us/sample - loss: 12.4372 - acc: 0.1889 - val_loss: 12.5937 - val_acc: 0.1741\n",
            "Epoch 8/100\n",
            "9096/9096 [==============================] - 8s 832us/sample - loss: 12.4372 - acc: 0.1889 - val_loss: 12.5937 - val_acc: 0.1741\n",
            "Epoch 9/100\n",
            "9096/9096 [==============================] - 8s 826us/sample - loss: 12.4372 - acc: 0.1889 - val_loss: 12.5937 - val_acc: 0.1741\n",
            "Epoch 10/100\n",
            "9096/9096 [==============================] - 8s 828us/sample - loss: 12.4372 - acc: 0.1889 - val_loss: 12.5937 - val_acc: 0.1741\n",
            "Epoch 11/100\n",
            "9096/9096 [==============================] - 8s 844us/sample - loss: 12.4372 - acc: 0.1889 - val_loss: 12.5937 - val_acc: 0.1741\n",
            "Epoch 12/100\n",
            "9096/9096 [==============================] - 8s 838us/sample - loss: 12.4372 - acc: 0.1889 - val_loss: 12.5937 - val_acc: 0.1741\n",
            "Epoch 13/100\n",
            "9096/9096 [==============================] - 8s 837us/sample - loss: 12.4372 - acc: 0.1889 - val_loss: 12.5937 - val_acc: 0.1741\n",
            "Epoch 14/100\n",
            "9096/9096 [==============================] - 8s 826us/sample - loss: 12.4372 - acc: 0.1889 - val_loss: 12.5937 - val_acc: 0.1741\n",
            "Epoch 15/100\n",
            "9096/9096 [==============================] - 8s 829us/sample - loss: 12.4372 - acc: 0.1889 - val_loss: 12.5937 - val_acc: 0.1741\n",
            "Epoch 16/100\n",
            "9096/9096 [==============================] - 8s 829us/sample - loss: 12.4372 - acc: 0.1889 - val_loss: 12.5937 - val_acc: 0.1741\n",
            "Epoch 17/100\n",
            "9096/9096 [==============================] - 8s 830us/sample - loss: 12.4372 - acc: 0.1889 - val_loss: 12.5937 - val_acc: 0.1741\n",
            "Epoch 18/100\n",
            "9096/9096 [==============================] - 8s 831us/sample - loss: 12.4372 - acc: 0.1889 - val_loss: 12.5937 - val_acc: 0.1741\n",
            "Epoch 19/100\n",
            "9096/9096 [==============================] - 7s 823us/sample - loss: 12.4372 - acc: 0.1889 - val_loss: 12.5937 - val_acc: 0.1741\n",
            "Epoch 20/100\n",
            "9096/9096 [==============================] - 8s 825us/sample - loss: 12.4372 - acc: 0.1889 - val_loss: 12.5937 - val_acc: 0.1741\n",
            "Epoch 21/100\n",
            "9096/9096 [==============================] - 7s 824us/sample - loss: 12.4372 - acc: 0.1889 - val_loss: 12.5937 - val_acc: 0.1741\n",
            "Epoch 22/100\n",
            "9096/9096 [==============================] - 8s 826us/sample - loss: 12.4372 - acc: 0.1889 - val_loss: 12.5937 - val_acc: 0.1741\n",
            "Epoch 23/100\n",
            "9096/9096 [==============================] - 8s 825us/sample - loss: 12.4372 - acc: 0.1889 - val_loss: 12.5937 - val_acc: 0.1741\n",
            "Epoch 24/100\n",
            "9096/9096 [==============================] - 8s 825us/sample - loss: 12.4372 - acc: 0.1889 - val_loss: 12.5937 - val_acc: 0.1741\n",
            "Epoch 25/100\n",
            "9096/9096 [==============================] - 8s 828us/sample - loss: 12.4372 - acc: 0.1889 - val_loss: 12.5937 - val_acc: 0.1741\n",
            "Epoch 26/100\n",
            "9096/9096 [==============================] - 8s 831us/sample - loss: 12.4372 - acc: 0.1889 - val_loss: 12.5937 - val_acc: 0.1741\n",
            "Epoch 27/100\n",
            "9096/9096 [==============================] - 7s 823us/sample - loss: 12.4372 - acc: 0.1889 - val_loss: 12.5937 - val_acc: 0.1741\n",
            "Epoch 28/100\n",
            "9096/9096 [==============================] - 7s 823us/sample - loss: 12.4372 - acc: 0.1889 - val_loss: 12.5937 - val_acc: 0.1741\n",
            "Epoch 29/100\n",
            "9096/9096 [==============================] - 7s 822us/sample - loss: 12.4372 - acc: 0.1889 - val_loss: 12.5937 - val_acc: 0.1741\n",
            "Epoch 30/100\n",
            "9096/9096 [==============================] - 8s 827us/sample - loss: 12.4372 - acc: 0.1889 - val_loss: 12.5937 - val_acc: 0.1741\n",
            "Epoch 31/100\n",
            "9096/9096 [==============================] - 7s 822us/sample - loss: 12.4372 - acc: 0.1889 - val_loss: 12.5937 - val_acc: 0.1741\n",
            "Epoch 32/100\n",
            "9096/9096 [==============================] - 7s 824us/sample - loss: 12.4372 - acc: 0.1889 - val_loss: 12.5937 - val_acc: 0.1741\n",
            "Epoch 33/100\n",
            "9096/9096 [==============================] - 7s 824us/sample - loss: 12.4372 - acc: 0.1889 - val_loss: 12.5937 - val_acc: 0.1741\n",
            "Epoch 34/100\n",
            "9096/9096 [==============================] - 8s 827us/sample - loss: 12.4372 - acc: 0.1889 - val_loss: 12.5937 - val_acc: 0.1741\n",
            "Epoch 35/100\n",
            "9096/9096 [==============================] - 7s 822us/sample - loss: 12.4372 - acc: 0.1889 - val_loss: 12.5937 - val_acc: 0.1741\n",
            "Epoch 36/100\n",
            "9096/9096 [==============================] - 7s 822us/sample - loss: 12.4372 - acc: 0.1889 - val_loss: 12.5937 - val_acc: 0.1741\n",
            "Epoch 37/100\n",
            "9096/9096 [==============================] - 8s 827us/sample - loss: 12.4372 - acc: 0.1889 - val_loss: 12.5937 - val_acc: 0.1741\n",
            "Epoch 38/100\n",
            "9096/9096 [==============================] - 8s 825us/sample - loss: 12.4372 - acc: 0.1889 - val_loss: 12.5937 - val_acc: 0.1741\n",
            "Epoch 39/100\n",
            "9096/9096 [==============================] - 7s 818us/sample - loss: 12.4372 - acc: 0.1889 - val_loss: 12.5937 - val_acc: 0.1741\n",
            "Epoch 40/100\n",
            "9096/9096 [==============================] - 7s 821us/sample - loss: 12.4372 - acc: 0.1889 - val_loss: 12.5937 - val_acc: 0.1741\n",
            "Epoch 41/100\n",
            "9096/9096 [==============================] - 7s 818us/sample - loss: 12.4372 - acc: 0.1889 - val_loss: 12.5937 - val_acc: 0.1741\n",
            "Epoch 42/100\n",
            "9096/9096 [==============================] - 7s 825us/sample - loss: 12.4372 - acc: 0.1889 - val_loss: 12.5937 - val_acc: 0.1741\n",
            "Epoch 43/100\n",
            "9096/9096 [==============================] - 7s 824us/sample - loss: 12.4372 - acc: 0.1889 - val_loss: 12.5937 - val_acc: 0.1741\n",
            "Epoch 44/100\n",
            "9096/9096 [==============================] - 7s 824us/sample - loss: 12.4372 - acc: 0.1889 - val_loss: 12.5937 - val_acc: 0.1741\n",
            "Epoch 45/100\n",
            "9096/9096 [==============================] - 7s 821us/sample - loss: 12.4372 - acc: 0.1889 - val_loss: 12.5937 - val_acc: 0.1741\n",
            "Epoch 46/100\n",
            "9096/9096 [==============================] - 7s 824us/sample - loss: 12.4372 - acc: 0.1889 - val_loss: 12.5937 - val_acc: 0.1741\n",
            "Epoch 47/100\n",
            "9096/9096 [==============================] - 7s 820us/sample - loss: 12.4372 - acc: 0.1889 - val_loss: 12.5937 - val_acc: 0.1741\n",
            "Epoch 48/100\n",
            "9096/9096 [==============================] - 7s 821us/sample - loss: 12.4372 - acc: 0.1889 - val_loss: 12.5937 - val_acc: 0.1741\n",
            "Epoch 49/100\n",
            "9096/9096 [==============================] - 8s 843us/sample - loss: 12.4372 - acc: 0.1889 - val_loss: 12.5937 - val_acc: 0.1741\n",
            "Epoch 50/100\n",
            "9096/9096 [==============================] - 8s 834us/sample - loss: 12.4372 - acc: 0.1889 - val_loss: 12.5937 - val_acc: 0.1741\n",
            "Epoch 51/100\n",
            "9096/9096 [==============================] - 7s 821us/sample - loss: 12.4372 - acc: 0.1889 - val_loss: 12.5937 - val_acc: 0.1741\n",
            "Epoch 52/100\n",
            "9096/9096 [==============================] - 7s 824us/sample - loss: 12.4372 - acc: 0.1889 - val_loss: 12.5937 - val_acc: 0.1741\n",
            "Epoch 53/100\n",
            "9096/9096 [==============================] - 8s 825us/sample - loss: 12.4372 - acc: 0.1889 - val_loss: 12.5937 - val_acc: 0.1741\n",
            "Epoch 54/100\n",
            "9096/9096 [==============================] - 8s 841us/sample - loss: 12.4372 - acc: 0.1889 - val_loss: 12.5937 - val_acc: 0.1741\n",
            "Epoch 55/100\n",
            "9096/9096 [==============================] - 8s 832us/sample - loss: 12.4372 - acc: 0.1889 - val_loss: 12.5937 - val_acc: 0.1741\n",
            "Epoch 56/100\n",
            "9096/9096 [==============================] - 8s 834us/sample - loss: 12.4372 - acc: 0.1889 - val_loss: 12.5937 - val_acc: 0.1741\n",
            "Epoch 57/100\n",
            "9096/9096 [==============================] - 7s 821us/sample - loss: 12.4372 - acc: 0.1889 - val_loss: 12.5937 - val_acc: 0.1741\n",
            "Epoch 58/100\n",
            "9096/9096 [==============================] - 8s 828us/sample - loss: 12.4372 - acc: 0.1889 - val_loss: 12.5937 - val_acc: 0.1741\n",
            "Epoch 59/100\n",
            "9096/9096 [==============================] - 7s 824us/sample - loss: 12.4372 - acc: 0.1889 - val_loss: 12.5937 - val_acc: 0.1741\n",
            "Epoch 60/100\n",
            "9096/9096 [==============================] - 8s 825us/sample - loss: 12.4372 - acc: 0.1889 - val_loss: 12.5937 - val_acc: 0.1741\n",
            "Epoch 61/100\n",
            "9096/9096 [==============================] - 8s 825us/sample - loss: 12.4372 - acc: 0.1889 - val_loss: 12.5937 - val_acc: 0.1741\n",
            "Epoch 62/100\n",
            "9096/9096 [==============================] - 8s 829us/sample - loss: 12.4372 - acc: 0.1889 - val_loss: 12.5937 - val_acc: 0.1741\n",
            "Epoch 63/100\n",
            "9096/9096 [==============================] - 8s 828us/sample - loss: 12.4372 - acc: 0.1889 - val_loss: 12.5937 - val_acc: 0.1741\n",
            "Epoch 64/100\n",
            "9096/9096 [==============================] - 7s 823us/sample - loss: 12.4372 - acc: 0.1889 - val_loss: 12.5937 - val_acc: 0.1741\n",
            "Epoch 65/100\n",
            "9096/9096 [==============================] - 7s 821us/sample - loss: 12.4372 - acc: 0.1889 - val_loss: 12.5937 - val_acc: 0.1741\n",
            "Epoch 66/100\n",
            "9096/9096 [==============================] - 7s 823us/sample - loss: 12.4372 - acc: 0.1889 - val_loss: 12.5937 - val_acc: 0.1741\n",
            "Epoch 67/100\n",
            "9096/9096 [==============================] - 8s 826us/sample - loss: 12.4372 - acc: 0.1889 - val_loss: 12.5937 - val_acc: 0.1741\n",
            "Epoch 68/100\n",
            "9096/9096 [==============================] - 8s 832us/sample - loss: 12.4372 - acc: 0.1889 - val_loss: 12.5937 - val_acc: 0.1741\n",
            "Epoch 69/100\n",
            "9096/9096 [==============================] - 7s 824us/sample - loss: 12.4372 - acc: 0.1889 - val_loss: 12.5937 - val_acc: 0.1741\n",
            "Epoch 70/100\n",
            "9096/9096 [==============================] - 8s 831us/sample - loss: 12.4372 - acc: 0.1889 - val_loss: 12.5937 - val_acc: 0.1741\n",
            "Epoch 71/100\n",
            "9096/9096 [==============================] - 7s 821us/sample - loss: 12.4372 - acc: 0.1889 - val_loss: 12.5937 - val_acc: 0.1741\n",
            "Epoch 72/100\n",
            "9096/9096 [==============================] - 8s 829us/sample - loss: 12.4372 - acc: 0.1889 - val_loss: 12.5937 - val_acc: 0.1741\n",
            "Epoch 73/100\n",
            "9096/9096 [==============================] - 7s 815us/sample - loss: 12.4372 - acc: 0.1889 - val_loss: 12.5937 - val_acc: 0.1741\n",
            "Epoch 74/100\n",
            "9096/9096 [==============================] - 7s 819us/sample - loss: 12.4372 - acc: 0.1889 - val_loss: 12.5937 - val_acc: 0.1741\n",
            "Epoch 75/100\n",
            "9096/9096 [==============================] - 8s 825us/sample - loss: 12.4372 - acc: 0.1889 - val_loss: 12.5937 - val_acc: 0.1741\n",
            "Epoch 76/100\n",
            "9096/9096 [==============================] - 7s 820us/sample - loss: 12.4372 - acc: 0.1889 - val_loss: 12.5937 - val_acc: 0.1741\n",
            "Epoch 77/100\n",
            "9096/9096 [==============================] - 7s 819us/sample - loss: 12.4372 - acc: 0.1889 - val_loss: 12.5937 - val_acc: 0.1741\n",
            "Epoch 78/100\n",
            "9096/9096 [==============================] - 8s 825us/sample - loss: 12.4372 - acc: 0.1889 - val_loss: 12.5937 - val_acc: 0.1741\n",
            "Epoch 79/100\n",
            "9096/9096 [==============================] - 7s 820us/sample - loss: 12.4372 - acc: 0.1889 - val_loss: 12.5937 - val_acc: 0.1741\n",
            "Epoch 80/100\n",
            "9096/9096 [==============================] - 7s 819us/sample - loss: 12.4372 - acc: 0.1889 - val_loss: 12.5937 - val_acc: 0.1741\n",
            "Epoch 81/100\n",
            "9096/9096 [==============================] - 7s 821us/sample - loss: 12.4372 - acc: 0.1889 - val_loss: 12.5937 - val_acc: 0.1741\n",
            "Epoch 82/100\n",
            "9096/9096 [==============================] - 7s 817us/sample - loss: 12.4372 - acc: 0.1889 - val_loss: 12.5937 - val_acc: 0.1741\n",
            "Epoch 83/100\n",
            "9096/9096 [==============================] - 7s 816us/sample - loss: 12.4372 - acc: 0.1889 - val_loss: 12.5937 - val_acc: 0.1741\n",
            "Epoch 84/100\n",
            "9096/9096 [==============================] - 8s 827us/sample - loss: 12.4372 - acc: 0.1889 - val_loss: 12.5937 - val_acc: 0.1741\n",
            "Epoch 85/100\n",
            "9096/9096 [==============================] - 7s 822us/sample - loss: 12.4372 - acc: 0.1889 - val_loss: 12.5937 - val_acc: 0.1741\n",
            "Epoch 86/100\n",
            "9096/9096 [==============================] - 7s 815us/sample - loss: 12.4372 - acc: 0.1889 - val_loss: 12.5937 - val_acc: 0.1741\n",
            "Epoch 87/100\n",
            "9096/9096 [==============================] - 7s 822us/sample - loss: 12.4372 - acc: 0.1889 - val_loss: 12.5937 - val_acc: 0.1741\n",
            "Epoch 88/100\n",
            "9096/9096 [==============================] - 7s 822us/sample - loss: 12.4372 - acc: 0.1889 - val_loss: 12.5937 - val_acc: 0.1741\n",
            "Epoch 89/100\n",
            "9096/9096 [==============================] - 7s 823us/sample - loss: 12.4372 - acc: 0.1889 - val_loss: 12.5937 - val_acc: 0.1741\n",
            "Epoch 90/100\n",
            "9096/9096 [==============================] - 8s 839us/sample - loss: 12.4372 - acc: 0.1889 - val_loss: 12.5937 - val_acc: 0.1741\n",
            "Epoch 91/100\n",
            "9096/9096 [==============================] - 7s 820us/sample - loss: 12.4372 - acc: 0.1889 - val_loss: 12.5937 - val_acc: 0.1741\n",
            "Epoch 92/100\n",
            "9096/9096 [==============================] - 7s 818us/sample - loss: 12.4372 - acc: 0.1889 - val_loss: 12.5937 - val_acc: 0.1741\n",
            "Epoch 93/100\n",
            "9096/9096 [==============================] - 7s 822us/sample - loss: 12.4372 - acc: 0.1889 - val_loss: 12.5937 - val_acc: 0.1741\n",
            "Epoch 94/100\n",
            "9096/9096 [==============================] - 7s 821us/sample - loss: 12.4372 - acc: 0.1889 - val_loss: 12.5937 - val_acc: 0.1741\n",
            "Epoch 95/100\n",
            "9096/9096 [==============================] - 7s 820us/sample - loss: 12.4372 - acc: 0.1889 - val_loss: 12.5937 - val_acc: 0.1741\n",
            "Epoch 96/100\n",
            "9096/9096 [==============================] - 8s 826us/sample - loss: 12.4372 - acc: 0.1889 - val_loss: 12.5937 - val_acc: 0.1741\n",
            "Epoch 97/100\n",
            "9096/9096 [==============================] - 8s 827us/sample - loss: 12.4372 - acc: 0.1889 - val_loss: 12.5937 - val_acc: 0.1741\n",
            "Epoch 98/100\n",
            "9096/9096 [==============================] - 8s 831us/sample - loss: 12.4372 - acc: 0.1889 - val_loss: 12.5937 - val_acc: 0.1741\n",
            "Epoch 99/100\n",
            "9096/9096 [==============================] - 8s 826us/sample - loss: 12.4372 - acc: 0.1889 - val_loss: 12.5937 - val_acc: 0.1741\n",
            "Epoch 100/100\n",
            "9096/9096 [==============================] - 7s 823us/sample - loss: 12.4372 - acc: 0.1889 - val_loss: 12.5937 - val_acc: 0.1741\n",
            "Acuracy 0.1741424802110818\n",
            "Macro precision_recall_fscore_support\n"
          ],
          "name": "stdout"
        },
        {
          "output_type": "stream",
          "text": [
            "/usr/local/lib/python3.6/dist-packages/sklearn/metrics/_classification.py:1272: UndefinedMetricWarning: Precision and F-score are ill-defined and being set to 0.0 in labels with no predicted samples. Use `zero_division` parameter to control this behavior.\n",
            "  _warn_prf(average, modifier, msg_start, len(result))\n"
          ],
          "name": "stderr"
        },
        {
          "output_type": "stream",
          "text": [
            "(0.0870712401055409, 0.5, 0.14831460674157304, None)\n",
            "Micro precision_recall_fscore_support\n",
            "(0.1741424802110818, 0.1741424802110818, 0.1741424802110818, None)\n",
            "Weighted precision_recall_fscore_support\n",
            "(0.030325603414067013, 0.1741424802110818, 0.05165574693901752, None)\n",
            "CPU times: user 22min 22s, sys: 13.1 s, total: 22min 35s\n",
            "Wall time: 12min 33s\n"
          ],
          "name": "stdout"
        }
      ]
    },
    {
      "cell_type": "markdown",
      "metadata": {
        "id": "kHYJHZJq1NMv"
      },
      "source": [
        "#### Model 5 : SIGMOID + BATCH NORMALIZATION + ADAM"
      ]
    },
    {
      "cell_type": "code",
      "metadata": {
        "colab": {
          "base_uri": "https://localhost:8080/"
        },
        "id": "-3On7lKC6pO3",
        "outputId": "eddfcbd4-7d95-48ca-acac-a8e50e7e9654"
      },
      "source": [
        "%%time\r\n",
        "\r\n",
        "# https://arxiv.org/pdf/1707.09725.pdf#page=95\r\n",
        "# for sigmoid layers # Xavior-initialization\r\n",
        "# If we sample weights from a normal distribution N(0,σ) we satisfy this condition with σ=√(2/(ni). \r\n",
        "# h1 =>  σ=√(2/(fan_in + fan_out) = 0.0179  => N(0,σ) = N(0,0.0179)\r\n",
        "# h2 =>  σ=√(2/(fan_in + fan_out) = 0.0310  => N(0,σ) = N(0,0.0310)\r\n",
        "# h3 =>  σ=√(2/(fan_in + fan_out) = 0.0537  => N(0,σ) = N(0,0.0537)\r\n",
        "# out =>  σ=√(2/(fan_in + f_out + 1) =   => N(0,σ) = N(0,0.107)\r\n",
        "\r\n",
        "\r\n",
        "model_sigmoid = Sequential()\r\n",
        "model_sigmoid.add(Dense(hidden_layer_1, activation='sigmoid', input_shape=(input_dim,), kernel_initializer=RandomNormal(mean=0.0, stddev=0.0179, seed=None)))\r\n",
        "model_sigmoid.add(BatchNormalization())\r\n",
        "model_sigmoid.add(Dense(hidden_layer_2, activation='sigmoid',kernel_initializer=RandomNormal(mean=0.0, stddev=0.0310, seed=None)))\r\n",
        "model_sigmoid.add(BatchNormalization())\r\n",
        "model_sigmoid.add(Dense(hidden_layer_3, activation='sigmoid',kernel_initializer=RandomNormal(mean=0.0, stddev=0.0537, seed=None)))\r\n",
        "model_sigmoid.add(BatchNormalization())\r\n",
        "model_sigmoid.add(Dense(output_dim, activation='softmax', kernel_initializer=RandomNormal(mean=0.0, stddev=0.107, seed=None)))\r\n",
        "\r\n",
        "model_sigmoid.summary()\r\n",
        "\r\n",
        "model_sigmoid.compile(optimizer='adam', loss='binary_crossentropy', metrics=['accuracy'])\r\n",
        "model_sigmoid.fit(X_train, y_train, batch_size=batch_size, epochs=nb_epoch, verbose=1, validation_data=(X_test, y_test))\r\n",
        "\r\n",
        "y_pred = model_sigmoid.predict(X_test)\r\n",
        "\r\n",
        "print(\"Acuracy\", accuracy_score(y_test, y_pred))\r\n",
        "print(\"Macro precision_recall_fscore_support\")\r\n",
        "print(precision_recall_fscore_support(y_test, y_pred, average='macro'))\r\n",
        "print(\"Micro precision_recall_fscore_support\")\r\n",
        "print(precision_recall_fscore_support(y_test, y_pred, average='micro'))\r\n",
        "print(\"Weighted precision_recall_fscore_support\")\r\n",
        "print(precision_recall_fscore_support(y_test, y_pred, average='weighted'))"
      ],
      "execution_count": 49,
      "outputs": [
        {
          "output_type": "stream",
          "text": [
            "Model: \"sequential_5\"\n",
            "_________________________________________________________________\n",
            "Layer (type)                 Output Shape              Param #   \n",
            "=================================================================\n",
            "dense_17 (Dense)             (None, 1560)              7299240   \n",
            "_________________________________________________________________\n",
            "batch_normalization (BatchNo (None, 1560)              6240      \n",
            "_________________________________________________________________\n",
            "dense_18 (Dense)             (None, 519)               810159    \n",
            "_________________________________________________________________\n",
            "batch_normalization_1 (Batch (None, 519)               2076      \n",
            "_________________________________________________________________\n",
            "dense_19 (Dense)             (None, 173)               89960     \n",
            "_________________________________________________________________\n",
            "batch_normalization_2 (Batch (None, 173)               692       \n",
            "_________________________________________________________________\n",
            "dense_20 (Dense)             (None, 1)                 174       \n",
            "=================================================================\n",
            "Total params: 8,208,541\n",
            "Trainable params: 8,204,037\n",
            "Non-trainable params: 4,504\n",
            "_________________________________________________________________\n",
            "Train on 9096 samples, validate on 2274 samples\n",
            "Epoch 1/100\n",
            "9096/9096 [==============================] - 9s 962us/sample - loss: 12.4372 - acc: 0.1889 - val_loss: 12.5937 - val_acc: 0.1741\n",
            "Epoch 2/100\n",
            "9096/9096 [==============================] - 8s 902us/sample - loss: 12.4372 - acc: 0.1889 - val_loss: 12.5937 - val_acc: 0.1741\n",
            "Epoch 3/100\n",
            "9096/9096 [==============================] - 8s 924us/sample - loss: 12.4372 - acc: 0.1889 - val_loss: 12.5937 - val_acc: 0.1741\n",
            "Epoch 4/100\n",
            "9096/9096 [==============================] - 8s 904us/sample - loss: 12.4372 - acc: 0.1889 - val_loss: 12.5937 - val_acc: 0.1741\n",
            "Epoch 5/100\n",
            "9096/9096 [==============================] - 8s 902us/sample - loss: 12.4372 - acc: 0.1889 - val_loss: 12.5937 - val_acc: 0.1741\n",
            "Epoch 6/100\n",
            "9096/9096 [==============================] - 8s 900us/sample - loss: 12.4372 - acc: 0.1889 - val_loss: 12.5937 - val_acc: 0.1741\n",
            "Epoch 7/100\n",
            "9096/9096 [==============================] - 8s 908us/sample - loss: 12.4372 - acc: 0.1889 - val_loss: 12.5937 - val_acc: 0.1741\n",
            "Epoch 8/100\n",
            "9096/9096 [==============================] - 8s 905us/sample - loss: 12.4372 - acc: 0.1889 - val_loss: 12.5937 - val_acc: 0.1741\n",
            "Epoch 9/100\n",
            "9096/9096 [==============================] - 8s 906us/sample - loss: 12.4372 - acc: 0.1889 - val_loss: 12.5937 - val_acc: 0.1741\n",
            "Epoch 10/100\n",
            "9096/9096 [==============================] - 8s 905us/sample - loss: 12.4372 - acc: 0.1889 - val_loss: 12.5937 - val_acc: 0.1741\n",
            "Epoch 11/100\n",
            "9096/9096 [==============================] - 8s 907us/sample - loss: 12.4372 - acc: 0.1889 - val_loss: 12.5937 - val_acc: 0.1741\n",
            "Epoch 12/100\n",
            "9096/9096 [==============================] - 8s 910us/sample - loss: 12.4372 - acc: 0.1889 - val_loss: 12.5937 - val_acc: 0.1741\n",
            "Epoch 13/100\n",
            "9096/9096 [==============================] - 8s 908us/sample - loss: 12.4372 - acc: 0.1889 - val_loss: 12.5937 - val_acc: 0.1741\n",
            "Epoch 14/100\n",
            "9096/9096 [==============================] - 8s 907us/sample - loss: 12.4372 - acc: 0.1889 - val_loss: 12.5937 - val_acc: 0.1741\n",
            "Epoch 15/100\n",
            "9096/9096 [==============================] - 8s 907us/sample - loss: 12.4372 - acc: 0.1889 - val_loss: 12.5937 - val_acc: 0.1741\n",
            "Epoch 16/100\n",
            "9096/9096 [==============================] - 8s 901us/sample - loss: 12.4372 - acc: 0.1889 - val_loss: 12.5937 - val_acc: 0.1741\n",
            "Epoch 17/100\n",
            "9096/9096 [==============================] - 8s 901us/sample - loss: 12.4372 - acc: 0.1889 - val_loss: 12.5937 - val_acc: 0.1741\n",
            "Epoch 18/100\n",
            "9096/9096 [==============================] - 8s 902us/sample - loss: 12.4372 - acc: 0.1889 - val_loss: 12.5937 - val_acc: 0.1741\n",
            "Epoch 19/100\n",
            "9096/9096 [==============================] - 8s 904us/sample - loss: 12.4372 - acc: 0.1889 - val_loss: 12.5937 - val_acc: 0.1741\n",
            "Epoch 20/100\n",
            "9096/9096 [==============================] - 8s 899us/sample - loss: 12.4372 - acc: 0.1889 - val_loss: 12.5937 - val_acc: 0.1741\n",
            "Epoch 21/100\n",
            "9096/9096 [==============================] - 8s 902us/sample - loss: 12.4372 - acc: 0.1889 - val_loss: 12.5937 - val_acc: 0.1741\n",
            "Epoch 22/100\n",
            "9096/9096 [==============================] - 8s 906us/sample - loss: 12.4372 - acc: 0.1889 - val_loss: 12.5937 - val_acc: 0.1741\n",
            "Epoch 23/100\n",
            "9096/9096 [==============================] - 8s 902us/sample - loss: 12.4372 - acc: 0.1889 - val_loss: 12.5937 - val_acc: 0.1741\n",
            "Epoch 24/100\n",
            "9096/9096 [==============================] - 8s 901us/sample - loss: 12.4372 - acc: 0.1889 - val_loss: 12.5937 - val_acc: 0.1741\n",
            "Epoch 25/100\n",
            "9096/9096 [==============================] - 8s 906us/sample - loss: 12.4372 - acc: 0.1889 - val_loss: 12.5937 - val_acc: 0.1741\n",
            "Epoch 26/100\n",
            "9096/9096 [==============================] - 8s 912us/sample - loss: 12.4372 - acc: 0.1889 - val_loss: 12.5937 - val_acc: 0.1741\n",
            "Epoch 27/100\n",
            "9096/9096 [==============================] - 8s 909us/sample - loss: 12.4372 - acc: 0.1889 - val_loss: 12.5937 - val_acc: 0.1741\n",
            "Epoch 28/100\n",
            "9096/9096 [==============================] - 8s 928us/sample - loss: 12.4372 - acc: 0.1889 - val_loss: 12.5937 - val_acc: 0.1741\n",
            "Epoch 29/100\n",
            "9096/9096 [==============================] - 8s 910us/sample - loss: 12.4372 - acc: 0.1889 - val_loss: 12.5937 - val_acc: 0.1741\n",
            "Epoch 30/100\n",
            "9096/9096 [==============================] - 8s 908us/sample - loss: 12.4372 - acc: 0.1889 - val_loss: 12.5937 - val_acc: 0.1741\n",
            "Epoch 31/100\n",
            "9096/9096 [==============================] - 8s 903us/sample - loss: 12.4372 - acc: 0.1889 - val_loss: 12.5937 - val_acc: 0.1741\n",
            "Epoch 32/100\n",
            "9096/9096 [==============================] - 8s 906us/sample - loss: 12.4372 - acc: 0.1889 - val_loss: 12.5937 - val_acc: 0.1741\n",
            "Epoch 33/100\n",
            "9096/9096 [==============================] - 8s 912us/sample - loss: 12.4372 - acc: 0.1889 - val_loss: 12.5937 - val_acc: 0.1741\n",
            "Epoch 34/100\n",
            "9096/9096 [==============================] - 8s 909us/sample - loss: 12.4372 - acc: 0.1889 - val_loss: 12.5937 - val_acc: 0.1741\n",
            "Epoch 35/100\n",
            "9096/9096 [==============================] - 8s 903us/sample - loss: 12.4372 - acc: 0.1889 - val_loss: 12.5937 - val_acc: 0.1741\n",
            "Epoch 36/100\n",
            "9096/9096 [==============================] - 8s 924us/sample - loss: 12.4372 - acc: 0.1889 - val_loss: 12.5937 - val_acc: 0.1741\n",
            "Epoch 37/100\n",
            "9096/9096 [==============================] - 8s 906us/sample - loss: 12.4372 - acc: 0.1889 - val_loss: 12.5937 - val_acc: 0.1741\n",
            "Epoch 38/100\n",
            "9096/9096 [==============================] - 8s 904us/sample - loss: 12.4372 - acc: 0.1889 - val_loss: 12.5937 - val_acc: 0.1741\n",
            "Epoch 39/100\n",
            "9096/9096 [==============================] - 8s 903us/sample - loss: 12.4372 - acc: 0.1889 - val_loss: 12.5937 - val_acc: 0.1741\n",
            "Epoch 40/100\n",
            "9096/9096 [==============================] - 8s 907us/sample - loss: 12.4372 - acc: 0.1889 - val_loss: 12.5937 - val_acc: 0.1741\n",
            "Epoch 41/100\n",
            "9096/9096 [==============================] - 8s 911us/sample - loss: 12.4372 - acc: 0.1889 - val_loss: 12.5937 - val_acc: 0.1741\n",
            "Epoch 42/100\n",
            "9096/9096 [==============================] - 8s 905us/sample - loss: 12.4372 - acc: 0.1889 - val_loss: 12.5937 - val_acc: 0.1741\n",
            "Epoch 43/100\n",
            "9096/9096 [==============================] - 8s 912us/sample - loss: 12.4372 - acc: 0.1889 - val_loss: 12.5937 - val_acc: 0.1741\n",
            "Epoch 44/100\n",
            "9096/9096 [==============================] - 8s 909us/sample - loss: 12.4372 - acc: 0.1889 - val_loss: 12.5937 - val_acc: 0.1741\n",
            "Epoch 45/100\n",
            "9096/9096 [==============================] - 8s 909us/sample - loss: 12.4372 - acc: 0.1889 - val_loss: 12.5937 - val_acc: 0.1741\n",
            "Epoch 46/100\n",
            "9096/9096 [==============================] - 8s 903us/sample - loss: 12.4372 - acc: 0.1889 - val_loss: 12.5937 - val_acc: 0.1741\n",
            "Epoch 47/100\n",
            "9096/9096 [==============================] - 8s 912us/sample - loss: 12.4372 - acc: 0.1889 - val_loss: 12.5937 - val_acc: 0.1741\n",
            "Epoch 48/100\n",
            "9096/9096 [==============================] - 8s 913us/sample - loss: 12.4372 - acc: 0.1889 - val_loss: 12.5937 - val_acc: 0.1741\n",
            "Epoch 49/100\n",
            "9096/9096 [==============================] - 8s 906us/sample - loss: 12.4372 - acc: 0.1889 - val_loss: 12.5937 - val_acc: 0.1741\n",
            "Epoch 50/100\n",
            "9096/9096 [==============================] - 8s 907us/sample - loss: 12.4372 - acc: 0.1889 - val_loss: 12.5937 - val_acc: 0.1741\n",
            "Epoch 51/100\n",
            "9096/9096 [==============================] - 8s 912us/sample - loss: 12.4372 - acc: 0.1889 - val_loss: 12.5937 - val_acc: 0.1741\n",
            "Epoch 52/100\n",
            "9096/9096 [==============================] - 8s 908us/sample - loss: 12.4372 - acc: 0.1889 - val_loss: 12.5937 - val_acc: 0.1741\n",
            "Epoch 53/100\n",
            "9096/9096 [==============================] - 8s 903us/sample - loss: 12.4372 - acc: 0.1889 - val_loss: 12.5937 - val_acc: 0.1741\n",
            "Epoch 54/100\n",
            "9096/9096 [==============================] - 8s 910us/sample - loss: 12.4372 - acc: 0.1889 - val_loss: 12.5937 - val_acc: 0.1741\n",
            "Epoch 55/100\n",
            "9096/9096 [==============================] - 8s 908us/sample - loss: 12.4372 - acc: 0.1889 - val_loss: 12.5937 - val_acc: 0.1741\n",
            "Epoch 56/100\n",
            "9096/9096 [==============================] - 8s 908us/sample - loss: 12.4372 - acc: 0.1889 - val_loss: 12.5937 - val_acc: 0.1741\n",
            "Epoch 57/100\n",
            "9096/9096 [==============================] - 8s 909us/sample - loss: 12.4372 - acc: 0.1889 - val_loss: 12.5937 - val_acc: 0.1741\n",
            "Epoch 58/100\n",
            "9096/9096 [==============================] - 8s 911us/sample - loss: 12.4372 - acc: 0.1889 - val_loss: 12.5937 - val_acc: 0.1741\n",
            "Epoch 59/100\n",
            "9096/9096 [==============================] - 8s 911us/sample - loss: 12.4372 - acc: 0.1889 - val_loss: 12.5937 - val_acc: 0.1741\n",
            "Epoch 60/100\n",
            "9096/9096 [==============================] - 8s 908us/sample - loss: 12.4372 - acc: 0.1889 - val_loss: 12.5937 - val_acc: 0.1741\n",
            "Epoch 61/100\n",
            "9096/9096 [==============================] - 8s 914us/sample - loss: 12.4372 - acc: 0.1889 - val_loss: 12.5937 - val_acc: 0.1741\n",
            "Epoch 62/100\n",
            "9096/9096 [==============================] - 8s 917us/sample - loss: 12.4372 - acc: 0.1889 - val_loss: 12.5937 - val_acc: 0.1741\n",
            "Epoch 63/100\n",
            "9096/9096 [==============================] - 8s 910us/sample - loss: 12.4372 - acc: 0.1889 - val_loss: 12.5937 - val_acc: 0.1741\n",
            "Epoch 64/100\n",
            "9096/9096 [==============================] - 8s 908us/sample - loss: 12.4372 - acc: 0.1889 - val_loss: 12.5937 - val_acc: 0.1741\n",
            "Epoch 65/100\n",
            "9096/9096 [==============================] - 9s 939us/sample - loss: 12.4372 - acc: 0.1889 - val_loss: 12.5937 - val_acc: 0.1741\n",
            "Epoch 66/100\n",
            "9096/9096 [==============================] - 8s 913us/sample - loss: 12.4372 - acc: 0.1889 - val_loss: 12.5937 - val_acc: 0.1741\n",
            "Epoch 67/100\n",
            "9096/9096 [==============================] - 8s 909us/sample - loss: 12.4372 - acc: 0.1889 - val_loss: 12.5937 - val_acc: 0.1741\n",
            "Epoch 68/100\n",
            "9096/9096 [==============================] - 8s 918us/sample - loss: 12.4372 - acc: 0.1889 - val_loss: 12.5937 - val_acc: 0.1741\n",
            "Epoch 69/100\n",
            "9096/9096 [==============================] - 8s 919us/sample - loss: 12.4372 - acc: 0.1889 - val_loss: 12.5937 - val_acc: 0.1741\n",
            "Epoch 70/100\n",
            "9096/9096 [==============================] - 8s 921us/sample - loss: 12.4372 - acc: 0.1889 - val_loss: 12.5937 - val_acc: 0.1741\n",
            "Epoch 71/100\n",
            "9096/9096 [==============================] - 8s 909us/sample - loss: 12.4372 - acc: 0.1889 - val_loss: 12.5937 - val_acc: 0.1741\n",
            "Epoch 72/100\n",
            "9096/9096 [==============================] - 8s 912us/sample - loss: 12.4372 - acc: 0.1889 - val_loss: 12.5937 - val_acc: 0.1741\n",
            "Epoch 73/100\n",
            "9096/9096 [==============================] - 9s 936us/sample - loss: 12.4372 - acc: 0.1889 - val_loss: 12.5937 - val_acc: 0.1741\n",
            "Epoch 74/100\n",
            "9096/9096 [==============================] - 8s 930us/sample - loss: 12.4372 - acc: 0.1889 - val_loss: 12.5937 - val_acc: 0.1741\n",
            "Epoch 75/100\n",
            "9096/9096 [==============================] - 8s 927us/sample - loss: 12.4372 - acc: 0.1889 - val_loss: 12.5937 - val_acc: 0.1741\n",
            "Epoch 76/100\n",
            "9096/9096 [==============================] - 8s 906us/sample - loss: 12.4372 - acc: 0.1889 - val_loss: 12.5937 - val_acc: 0.1741\n",
            "Epoch 77/100\n",
            "9096/9096 [==============================] - 8s 912us/sample - loss: 12.4372 - acc: 0.1889 - val_loss: 12.5937 - val_acc: 0.1741\n",
            "Epoch 78/100\n",
            "9096/9096 [==============================] - 8s 909us/sample - loss: 12.4372 - acc: 0.1889 - val_loss: 12.5937 - val_acc: 0.1741\n",
            "Epoch 79/100\n",
            "9096/9096 [==============================] - 8s 915us/sample - loss: 12.4372 - acc: 0.1889 - val_loss: 12.5937 - val_acc: 0.1741\n",
            "Epoch 80/100\n",
            "9096/9096 [==============================] - 8s 914us/sample - loss: 12.4372 - acc: 0.1889 - val_loss: 12.5937 - val_acc: 0.1741\n",
            "Epoch 81/100\n",
            "9096/9096 [==============================] - 8s 903us/sample - loss: 12.4372 - acc: 0.1889 - val_loss: 12.5937 - val_acc: 0.1741\n",
            "Epoch 82/100\n",
            "9096/9096 [==============================] - 8s 907us/sample - loss: 12.4372 - acc: 0.1889 - val_loss: 12.5937 - val_acc: 0.1741\n",
            "Epoch 83/100\n",
            "9096/9096 [==============================] - 8s 911us/sample - loss: 12.4372 - acc: 0.1889 - val_loss: 12.5937 - val_acc: 0.1741\n",
            "Epoch 84/100\n",
            "9096/9096 [==============================] - 8s 908us/sample - loss: 12.4372 - acc: 0.1889 - val_loss: 12.5937 - val_acc: 0.1741\n",
            "Epoch 85/100\n",
            "9096/9096 [==============================] - 8s 911us/sample - loss: 12.4372 - acc: 0.1889 - val_loss: 12.5937 - val_acc: 0.1741\n",
            "Epoch 86/100\n",
            "9096/9096 [==============================] - 8s 905us/sample - loss: 12.4372 - acc: 0.1889 - val_loss: 12.5937 - val_acc: 0.1741\n",
            "Epoch 87/100\n",
            "9096/9096 [==============================] - 8s 916us/sample - loss: 12.4372 - acc: 0.1889 - val_loss: 12.5937 - val_acc: 0.1741\n",
            "Epoch 88/100\n",
            "9096/9096 [==============================] - 8s 912us/sample - loss: 12.4372 - acc: 0.1889 - val_loss: 12.5937 - val_acc: 0.1741\n",
            "Epoch 89/100\n",
            "9096/9096 [==============================] - 8s 905us/sample - loss: 12.4372 - acc: 0.1889 - val_loss: 12.5937 - val_acc: 0.1741\n",
            "Epoch 90/100\n",
            "9096/9096 [==============================] - 8s 907us/sample - loss: 12.4372 - acc: 0.1889 - val_loss: 12.5937 - val_acc: 0.1741\n",
            "Epoch 91/100\n",
            "9096/9096 [==============================] - 8s 905us/sample - loss: 12.4372 - acc: 0.1889 - val_loss: 12.5937 - val_acc: 0.1741\n",
            "Epoch 92/100\n",
            "9096/9096 [==============================] - 8s 911us/sample - loss: 12.4372 - acc: 0.1889 - val_loss: 12.5937 - val_acc: 0.1741\n",
            "Epoch 93/100\n",
            "9096/9096 [==============================] - 8s 906us/sample - loss: 12.4372 - acc: 0.1889 - val_loss: 12.5937 - val_acc: 0.1741\n",
            "Epoch 94/100\n",
            "9096/9096 [==============================] - 8s 909us/sample - loss: 12.4372 - acc: 0.1889 - val_loss: 12.5937 - val_acc: 0.1741\n",
            "Epoch 95/100\n",
            "9096/9096 [==============================] - 8s 906us/sample - loss: 12.4372 - acc: 0.1889 - val_loss: 12.5937 - val_acc: 0.1741\n",
            "Epoch 96/100\n",
            "9096/9096 [==============================] - 8s 911us/sample - loss: 12.4372 - acc: 0.1889 - val_loss: 12.5937 - val_acc: 0.1741\n",
            "Epoch 97/100\n",
            "9096/9096 [==============================] - 8s 908us/sample - loss: 12.4372 - acc: 0.1889 - val_loss: 12.5937 - val_acc: 0.1741\n",
            "Epoch 98/100\n",
            "9096/9096 [==============================] - 8s 908us/sample - loss: 12.4372 - acc: 0.1889 - val_loss: 12.5937 - val_acc: 0.1741\n",
            "Epoch 99/100\n",
            "9096/9096 [==============================] - 8s 910us/sample - loss: 12.4372 - acc: 0.1889 - val_loss: 12.5937 - val_acc: 0.1741\n",
            "Epoch 100/100\n",
            "9096/9096 [==============================] - 8s 915us/sample - loss: 12.4372 - acc: 0.1889 - val_loss: 12.5937 - val_acc: 0.1741\n",
            "Acuracy 0.1741424802110818\n",
            "Macro precision_recall_fscore_support\n"
          ],
          "name": "stdout"
        },
        {
          "output_type": "stream",
          "text": [
            "/usr/local/lib/python3.6/dist-packages/sklearn/metrics/_classification.py:1272: UndefinedMetricWarning: Precision and F-score are ill-defined and being set to 0.0 in labels with no predicted samples. Use `zero_division` parameter to control this behavior.\n",
            "  _warn_prf(average, modifier, msg_start, len(result))\n"
          ],
          "name": "stderr"
        },
        {
          "output_type": "stream",
          "text": [
            "(0.0870712401055409, 0.5, 0.14831460674157304, None)\n",
            "Micro precision_recall_fscore_support\n",
            "(0.1741424802110818, 0.1741424802110818, 0.1741424802110818, None)\n",
            "Weighted precision_recall_fscore_support\n",
            "(0.030325603414067013, 0.1741424802110818, 0.05165574693901752, None)\n",
            "CPU times: user 24min 50s, sys: 18.6 s, total: 25min 8s\n",
            "Wall time: 13min 52s\n"
          ],
          "name": "stdout"
        }
      ]
    },
    {
      "cell_type": "markdown",
      "metadata": {
        "id": "n2w1_Pj-6XmX"
      },
      "source": [
        "#### Model 6 : SIGMOID + BATCH NORMALIZATION + SGD"
      ]
    },
    {
      "cell_type": "code",
      "metadata": {
        "id": "uJ0mRKXc6psU",
        "colab": {
          "base_uri": "https://localhost:8080/"
        },
        "outputId": "be77fc16-7573-41d7-c0ab-31711c99e8d5"
      },
      "source": [
        "%%time\r\n",
        "\r\n",
        "# https://arxiv.org/pdf/1707.09725.pdf#page=95\r\n",
        "# for sigmoid layers # Xavior-initialization\r\n",
        "# If we sample weights from a normal distribution N(0,σ) we satisfy this condition with σ=√(2/(ni). \r\n",
        "# h1 =>  σ=√(2/(fan_in + fan_out) = 0.0179  => N(0,σ) = N(0,0.0179)\r\n",
        "# h2 =>  σ=√(2/(fan_in + fan_out) = 0.0310  => N(0,σ) = N(0,0.0310)\r\n",
        "# h3 =>  σ=√(2/(fan_in + fan_out) = 0.0537  => N(0,σ) = N(0,0.0537)\r\n",
        "# out =>  σ=√(2/(fan_in + f_out + 1) =   => N(0,σ) = N(0,0.107)\r\n",
        "\r\n",
        "\r\n",
        "model_sigmoid = Sequential()\r\n",
        "model_sigmoid.add(Dense(hidden_layer_1, activation='sigmoid', input_shape=(input_dim,), kernel_initializer=RandomNormal(mean=0.0, stddev=0.0179, seed=None)))\r\n",
        "model_sigmoid.add(BatchNormalization())\r\n",
        "model_sigmoid.add(Dense(hidden_layer_2, activation='sigmoid',kernel_initializer=RandomNormal(mean=0.0, stddev=0.0310, seed=None)))\r\n",
        "model_sigmoid.add(BatchNormalization())\r\n",
        "model_sigmoid.add(Dense(hidden_layer_3, activation='sigmoid',kernel_initializer=RandomNormal(mean=0.0, stddev=0.0537, seed=None)))\r\n",
        "model_sigmoid.add(BatchNormalization())\r\n",
        "model_sigmoid.add(Dense(output_dim, activation='softmax', kernel_initializer=RandomNormal(mean=0.0, stddev=0.107, seed=None)))\r\n",
        "\r\n",
        "model_sigmoid.summary()\r\n",
        "\r\n",
        "model_sigmoid.compile(optimizer='sgd', loss='binary_crossentropy', metrics=['accuracy'])\r\n",
        "model_sigmoid.fit(X_train, y_train, batch_size=batch_size, epochs=nb_epoch, verbose=1, validation_data=(X_test, y_test))\r\n",
        "\r\n",
        "y_pred = model_sigmoid.predict(X_test)\r\n",
        "\r\n",
        "print(\"Acuracy\", accuracy_score(y_test, y_pred))\r\n",
        "print(\"Macro precision_recall_fscore_support\")\r\n",
        "print(precision_recall_fscore_support(y_test, y_pred, average='macro'))\r\n",
        "print(\"Micro precision_recall_fscore_support\")\r\n",
        "print(precision_recall_fscore_support(y_test, y_pred, average='micro'))\r\n",
        "print(\"Weighted precision_recall_fscore_support\")\r\n",
        "print(precision_recall_fscore_support(y_test, y_pred, average='weighted'))"
      ],
      "execution_count": 50,
      "outputs": [
        {
          "output_type": "stream",
          "text": [
            "Model: \"sequential_6\"\n",
            "_________________________________________________________________\n",
            "Layer (type)                 Output Shape              Param #   \n",
            "=================================================================\n",
            "dense_21 (Dense)             (None, 1560)              7299240   \n",
            "_________________________________________________________________\n",
            "batch_normalization_3 (Batch (None, 1560)              6240      \n",
            "_________________________________________________________________\n",
            "dense_22 (Dense)             (None, 519)               810159    \n",
            "_________________________________________________________________\n",
            "batch_normalization_4 (Batch (None, 519)               2076      \n",
            "_________________________________________________________________\n",
            "dense_23 (Dense)             (None, 173)               89960     \n",
            "_________________________________________________________________\n",
            "batch_normalization_5 (Batch (None, 173)               692       \n",
            "_________________________________________________________________\n",
            "dense_24 (Dense)             (None, 1)                 174       \n",
            "=================================================================\n",
            "Total params: 8,208,541\n",
            "Trainable params: 8,204,037\n",
            "Non-trainable params: 4,504\n",
            "_________________________________________________________________\n",
            "Train on 9096 samples, validate on 2274 samples\n",
            "Epoch 1/100\n",
            "9096/9096 [==============================] - 8s 912us/sample - loss: 12.4372 - acc: 0.1889 - val_loss: 12.5937 - val_acc: 0.1741\n",
            "Epoch 2/100\n",
            "9096/9096 [==============================] - 8s 891us/sample - loss: 12.4372 - acc: 0.1889 - val_loss: 12.5937 - val_acc: 0.1741\n",
            "Epoch 3/100\n",
            "9096/9096 [==============================] - 8s 854us/sample - loss: 12.4372 - acc: 0.1889 - val_loss: 12.5937 - val_acc: 0.1741\n",
            "Epoch 4/100\n",
            "9096/9096 [==============================] - 8s 858us/sample - loss: 12.4372 - acc: 0.1889 - val_loss: 12.5937 - val_acc: 0.1741\n",
            "Epoch 5/100\n",
            "9096/9096 [==============================] - 8s 856us/sample - loss: 12.4372 - acc: 0.1889 - val_loss: 12.5937 - val_acc: 0.1741\n",
            "Epoch 6/100\n",
            "9096/9096 [==============================] - 8s 859us/sample - loss: 12.4372 - acc: 0.1889 - val_loss: 12.5937 - val_acc: 0.1741\n",
            "Epoch 7/100\n",
            "9096/9096 [==============================] - 8s 854us/sample - loss: 12.4372 - acc: 0.1889 - val_loss: 12.5937 - val_acc: 0.1741\n",
            "Epoch 8/100\n",
            "9096/9096 [==============================] - 8s 861us/sample - loss: 12.4372 - acc: 0.1889 - val_loss: 12.5937 - val_acc: 0.1741\n",
            "Epoch 9/100\n",
            "9096/9096 [==============================] - 8s 861us/sample - loss: 12.4372 - acc: 0.1889 - val_loss: 12.5937 - val_acc: 0.1741\n",
            "Epoch 10/100\n",
            "9096/9096 [==============================] - 8s 853us/sample - loss: 12.4372 - acc: 0.1889 - val_loss: 12.5937 - val_acc: 0.1741\n",
            "Epoch 11/100\n",
            "9096/9096 [==============================] - 8s 860us/sample - loss: 12.4372 - acc: 0.1889 - val_loss: 12.5937 - val_acc: 0.1741\n",
            "Epoch 12/100\n",
            "9096/9096 [==============================] - 8s 871us/sample - loss: 12.4372 - acc: 0.1889 - val_loss: 12.5937 - val_acc: 0.1741\n",
            "Epoch 13/100\n",
            "9096/9096 [==============================] - 8s 880us/sample - loss: 12.4372 - acc: 0.1889 - val_loss: 12.5937 - val_acc: 0.1741\n",
            "Epoch 14/100\n",
            "9096/9096 [==============================] - 8s 889us/sample - loss: 12.4372 - acc: 0.1889 - val_loss: 12.5937 - val_acc: 0.1741\n",
            "Epoch 15/100\n",
            "9096/9096 [==============================] - 8s 857us/sample - loss: 12.4372 - acc: 0.1889 - val_loss: 12.5937 - val_acc: 0.1741\n",
            "Epoch 16/100\n",
            "9096/9096 [==============================] - 8s 861us/sample - loss: 12.4372 - acc: 0.1889 - val_loss: 12.5937 - val_acc: 0.1741\n",
            "Epoch 17/100\n",
            "9096/9096 [==============================] - 8s 854us/sample - loss: 12.4372 - acc: 0.1889 - val_loss: 12.5937 - val_acc: 0.1741\n",
            "Epoch 18/100\n",
            "9096/9096 [==============================] - 8s 854us/sample - loss: 12.4372 - acc: 0.1889 - val_loss: 12.5937 - val_acc: 0.1741\n",
            "Epoch 19/100\n",
            "9096/9096 [==============================] - 8s 850us/sample - loss: 12.4372 - acc: 0.1889 - val_loss: 12.5937 - val_acc: 0.1741\n",
            "Epoch 20/100\n",
            "9096/9096 [==============================] - 8s 853us/sample - loss: 12.4372 - acc: 0.1889 - val_loss: 12.5937 - val_acc: 0.1741\n",
            "Epoch 21/100\n",
            "9096/9096 [==============================] - 8s 859us/sample - loss: 12.4372 - acc: 0.1889 - val_loss: 12.5937 - val_acc: 0.1741\n",
            "Epoch 22/100\n",
            "9096/9096 [==============================] - 8s 862us/sample - loss: 12.4372 - acc: 0.1889 - val_loss: 12.5937 - val_acc: 0.1741\n",
            "Epoch 23/100\n",
            "9096/9096 [==============================] - 8s 853us/sample - loss: 12.4372 - acc: 0.1889 - val_loss: 12.5937 - val_acc: 0.1741\n",
            "Epoch 24/100\n",
            "9096/9096 [==============================] - 8s 864us/sample - loss: 12.4372 - acc: 0.1889 - val_loss: 12.5937 - val_acc: 0.1741\n",
            "Epoch 25/100\n",
            "9096/9096 [==============================] - 8s 864us/sample - loss: 12.4372 - acc: 0.1889 - val_loss: 12.5937 - val_acc: 0.1741\n",
            "Epoch 26/100\n",
            "9096/9096 [==============================] - 8s 861us/sample - loss: 12.4372 - acc: 0.1889 - val_loss: 12.5937 - val_acc: 0.1741\n",
            "Epoch 27/100\n",
            "9096/9096 [==============================] - 8s 854us/sample - loss: 12.4372 - acc: 0.1889 - val_loss: 12.5937 - val_acc: 0.1741\n",
            "Epoch 28/100\n",
            "9096/9096 [==============================] - 8s 863us/sample - loss: 12.4372 - acc: 0.1889 - val_loss: 12.5937 - val_acc: 0.1741\n",
            "Epoch 29/100\n",
            "9096/9096 [==============================] - 8s 873us/sample - loss: 12.4372 - acc: 0.1889 - val_loss: 12.5937 - val_acc: 0.1741\n",
            "Epoch 30/100\n",
            "9096/9096 [==============================] - 8s 863us/sample - loss: 12.4372 - acc: 0.1889 - val_loss: 12.5937 - val_acc: 0.1741\n",
            "Epoch 31/100\n",
            "9096/9096 [==============================] - 8s 864us/sample - loss: 12.4372 - acc: 0.1889 - val_loss: 12.5937 - val_acc: 0.1741\n",
            "Epoch 32/100\n",
            "9096/9096 [==============================] - 8s 865us/sample - loss: 12.4372 - acc: 0.1889 - val_loss: 12.5937 - val_acc: 0.1741\n",
            "Epoch 33/100\n",
            "9096/9096 [==============================] - 8s 866us/sample - loss: 12.4372 - acc: 0.1889 - val_loss: 12.5937 - val_acc: 0.1741\n",
            "Epoch 34/100\n",
            "9096/9096 [==============================] - 8s 861us/sample - loss: 12.4372 - acc: 0.1889 - val_loss: 12.5937 - val_acc: 0.1741\n",
            "Epoch 35/100\n",
            "9096/9096 [==============================] - 8s 858us/sample - loss: 12.4372 - acc: 0.1889 - val_loss: 12.5937 - val_acc: 0.1741\n",
            "Epoch 36/100\n",
            "9096/9096 [==============================] - 8s 859us/sample - loss: 12.4372 - acc: 0.1889 - val_loss: 12.5937 - val_acc: 0.1741\n",
            "Epoch 37/100\n",
            "9096/9096 [==============================] - 8s 869us/sample - loss: 12.4372 - acc: 0.1889 - val_loss: 12.5937 - val_acc: 0.1741\n",
            "Epoch 38/100\n",
            "9096/9096 [==============================] - 8s 865us/sample - loss: 12.4372 - acc: 0.1889 - val_loss: 12.5937 - val_acc: 0.1741\n",
            "Epoch 39/100\n",
            "9096/9096 [==============================] - 8s 867us/sample - loss: 12.4372 - acc: 0.1889 - val_loss: 12.5937 - val_acc: 0.1741\n",
            "Epoch 40/100\n",
            "9096/9096 [==============================] - 8s 860us/sample - loss: 12.4372 - acc: 0.1889 - val_loss: 12.5937 - val_acc: 0.1741\n",
            "Epoch 41/100\n",
            "9096/9096 [==============================] - 8s 906us/sample - loss: 12.4372 - acc: 0.1889 - val_loss: 12.5937 - val_acc: 0.1741\n",
            "Epoch 42/100\n",
            "9096/9096 [==============================] - 8s 860us/sample - loss: 12.4372 - acc: 0.1889 - val_loss: 12.5937 - val_acc: 0.1741\n",
            "Epoch 43/100\n",
            "9096/9096 [==============================] - 8s 869us/sample - loss: 12.4372 - acc: 0.1889 - val_loss: 12.5937 - val_acc: 0.1741\n",
            "Epoch 44/100\n",
            "9096/9096 [==============================] - 8s 871us/sample - loss: 12.4372 - acc: 0.1889 - val_loss: 12.5937 - val_acc: 0.1741\n",
            "Epoch 45/100\n",
            "9096/9096 [==============================] - 8s 866us/sample - loss: 12.4372 - acc: 0.1889 - val_loss: 12.5937 - val_acc: 0.1741\n",
            "Epoch 46/100\n",
            "9096/9096 [==============================] - 8s 856us/sample - loss: 12.4372 - acc: 0.1889 - val_loss: 12.5937 - val_acc: 0.1741\n",
            "Epoch 47/100\n",
            "9096/9096 [==============================] - 8s 859us/sample - loss: 12.4372 - acc: 0.1889 - val_loss: 12.5937 - val_acc: 0.1741\n",
            "Epoch 48/100\n",
            "9096/9096 [==============================] - 8s 862us/sample - loss: 12.4372 - acc: 0.1889 - val_loss: 12.5937 - val_acc: 0.1741\n",
            "Epoch 49/100\n",
            "9096/9096 [==============================] - 8s 855us/sample - loss: 12.4372 - acc: 0.1889 - val_loss: 12.5937 - val_acc: 0.1741\n",
            "Epoch 50/100\n",
            "9096/9096 [==============================] - 8s 852us/sample - loss: 12.4372 - acc: 0.1889 - val_loss: 12.5937 - val_acc: 0.1741\n",
            "Epoch 51/100\n",
            "9096/9096 [==============================] - 8s 854us/sample - loss: 12.4372 - acc: 0.1889 - val_loss: 12.5937 - val_acc: 0.1741\n",
            "Epoch 52/100\n",
            "9096/9096 [==============================] - 8s 862us/sample - loss: 12.4372 - acc: 0.1889 - val_loss: 12.5937 - val_acc: 0.1741\n",
            "Epoch 53/100\n",
            "9096/9096 [==============================] - 8s 867us/sample - loss: 12.4372 - acc: 0.1889 - val_loss: 12.5937 - val_acc: 0.1741\n",
            "Epoch 54/100\n",
            "9096/9096 [==============================] - 8s 869us/sample - loss: 12.4372 - acc: 0.1889 - val_loss: 12.5937 - val_acc: 0.1741\n",
            "Epoch 55/100\n",
            "9096/9096 [==============================] - 8s 881us/sample - loss: 12.4372 - acc: 0.1889 - val_loss: 12.5937 - val_acc: 0.1741\n",
            "Epoch 56/100\n",
            "9096/9096 [==============================] - 8s 864us/sample - loss: 12.4372 - acc: 0.1889 - val_loss: 12.5937 - val_acc: 0.1741\n",
            "Epoch 57/100\n",
            "9096/9096 [==============================] - 8s 855us/sample - loss: 12.4372 - acc: 0.1889 - val_loss: 12.5937 - val_acc: 0.1741\n",
            "Epoch 58/100\n",
            "9096/9096 [==============================] - 8s 855us/sample - loss: 12.4372 - acc: 0.1889 - val_loss: 12.5937 - val_acc: 0.1741\n",
            "Epoch 59/100\n",
            "9096/9096 [==============================] - 8s 858us/sample - loss: 12.4372 - acc: 0.1889 - val_loss: 12.5937 - val_acc: 0.1741\n",
            "Epoch 60/100\n",
            "9096/9096 [==============================] - 8s 864us/sample - loss: 12.4372 - acc: 0.1889 - val_loss: 12.5937 - val_acc: 0.1741\n",
            "Epoch 61/100\n",
            "9096/9096 [==============================] - 8s 858us/sample - loss: 12.4372 - acc: 0.1889 - val_loss: 12.5937 - val_acc: 0.1741\n",
            "Epoch 62/100\n",
            "9096/9096 [==============================] - 8s 860us/sample - loss: 12.4372 - acc: 0.1889 - val_loss: 12.5937 - val_acc: 0.1741\n",
            "Epoch 63/100\n",
            "9096/9096 [==============================] - 8s 857us/sample - loss: 12.4372 - acc: 0.1889 - val_loss: 12.5937 - val_acc: 0.1741\n",
            "Epoch 64/100\n",
            "9096/9096 [==============================] - 8s 859us/sample - loss: 12.4372 - acc: 0.1889 - val_loss: 12.5937 - val_acc: 0.1741\n",
            "Epoch 65/100\n",
            "9096/9096 [==============================] - 8s 852us/sample - loss: 12.4372 - acc: 0.1889 - val_loss: 12.5937 - val_acc: 0.1741\n",
            "Epoch 66/100\n",
            "9096/9096 [==============================] - 8s 854us/sample - loss: 12.4372 - acc: 0.1889 - val_loss: 12.5937 - val_acc: 0.1741\n",
            "Epoch 67/100\n",
            "9096/9096 [==============================] - 8s 854us/sample - loss: 12.4372 - acc: 0.1889 - val_loss: 12.5937 - val_acc: 0.1741\n",
            "Epoch 68/100\n",
            "9096/9096 [==============================] - 8s 855us/sample - loss: 12.4372 - acc: 0.1889 - val_loss: 12.5937 - val_acc: 0.1741\n",
            "Epoch 69/100\n",
            "9096/9096 [==============================] - 8s 857us/sample - loss: 12.4372 - acc: 0.1889 - val_loss: 12.5937 - val_acc: 0.1741\n",
            "Epoch 70/100\n",
            "9096/9096 [==============================] - 8s 854us/sample - loss: 12.4372 - acc: 0.1889 - val_loss: 12.5937 - val_acc: 0.1741\n",
            "Epoch 71/100\n",
            "9096/9096 [==============================] - 8s 859us/sample - loss: 12.4372 - acc: 0.1889 - val_loss: 12.5937 - val_acc: 0.1741\n",
            "Epoch 72/100\n",
            "9096/9096 [==============================] - 8s 854us/sample - loss: 12.4372 - acc: 0.1889 - val_loss: 12.5937 - val_acc: 0.1741\n",
            "Epoch 73/100\n",
            "9096/9096 [==============================] - 8s 851us/sample - loss: 12.4372 - acc: 0.1889 - val_loss: 12.5937 - val_acc: 0.1741\n",
            "Epoch 74/100\n",
            "9096/9096 [==============================] - 8s 858us/sample - loss: 12.4372 - acc: 0.1889 - val_loss: 12.5937 - val_acc: 0.1741\n",
            "Epoch 75/100\n",
            "9096/9096 [==============================] - 8s 864us/sample - loss: 12.4372 - acc: 0.1889 - val_loss: 12.5937 - val_acc: 0.1741\n",
            "Epoch 76/100\n",
            "9096/9096 [==============================] - 8s 859us/sample - loss: 12.4372 - acc: 0.1889 - val_loss: 12.5937 - val_acc: 0.1741\n",
            "Epoch 77/100\n",
            "9096/9096 [==============================] - 8s 855us/sample - loss: 12.4372 - acc: 0.1889 - val_loss: 12.5937 - val_acc: 0.1741\n",
            "Epoch 78/100\n",
            "9096/9096 [==============================] - 8s 851us/sample - loss: 12.4372 - acc: 0.1889 - val_loss: 12.5937 - val_acc: 0.1741\n",
            "Epoch 79/100\n",
            "9096/9096 [==============================] - 8s 855us/sample - loss: 12.4372 - acc: 0.1889 - val_loss: 12.5937 - val_acc: 0.1741\n",
            "Epoch 80/100\n",
            "9096/9096 [==============================] - 8s 870us/sample - loss: 12.4372 - acc: 0.1889 - val_loss: 12.5937 - val_acc: 0.1741\n",
            "Epoch 81/100\n",
            "9096/9096 [==============================] - 8s 855us/sample - loss: 12.4372 - acc: 0.1889 - val_loss: 12.5937 - val_acc: 0.1741\n",
            "Epoch 82/100\n",
            "9096/9096 [==============================] - 8s 857us/sample - loss: 12.4372 - acc: 0.1889 - val_loss: 12.5937 - val_acc: 0.1741\n",
            "Epoch 83/100\n",
            "9096/9096 [==============================] - 8s 858us/sample - loss: 12.4372 - acc: 0.1889 - val_loss: 12.5937 - val_acc: 0.1741\n",
            "Epoch 84/100\n",
            "9096/9096 [==============================] - 8s 858us/sample - loss: 12.4372 - acc: 0.1889 - val_loss: 12.5937 - val_acc: 0.1741\n",
            "Epoch 85/100\n",
            "9096/9096 [==============================] - 8s 852us/sample - loss: 12.4372 - acc: 0.1889 - val_loss: 12.5937 - val_acc: 0.1741\n",
            "Epoch 86/100\n",
            "9096/9096 [==============================] - 8s 853us/sample - loss: 12.4372 - acc: 0.1889 - val_loss: 12.5937 - val_acc: 0.1741\n",
            "Epoch 87/100\n",
            "9096/9096 [==============================] - 8s 858us/sample - loss: 12.4372 - acc: 0.1889 - val_loss: 12.5937 - val_acc: 0.1741\n",
            "Epoch 88/100\n",
            "9096/9096 [==============================] - 8s 862us/sample - loss: 12.4372 - acc: 0.1889 - val_loss: 12.5937 - val_acc: 0.1741\n",
            "Epoch 89/100\n",
            "9096/9096 [==============================] - 8s 856us/sample - loss: 12.4372 - acc: 0.1889 - val_loss: 12.5937 - val_acc: 0.1741\n",
            "Epoch 90/100\n",
            "9096/9096 [==============================] - 8s 863us/sample - loss: 12.4372 - acc: 0.1889 - val_loss: 12.5937 - val_acc: 0.1741\n",
            "Epoch 91/100\n",
            "9096/9096 [==============================] - 8s 862us/sample - loss: 12.4372 - acc: 0.1889 - val_loss: 12.5937 - val_acc: 0.1741\n",
            "Epoch 92/100\n",
            "9096/9096 [==============================] - 8s 866us/sample - loss: 12.4372 - acc: 0.1889 - val_loss: 12.5937 - val_acc: 0.1741\n",
            "Epoch 93/100\n",
            "9096/9096 [==============================] - 8s 857us/sample - loss: 12.4372 - acc: 0.1889 - val_loss: 12.5937 - val_acc: 0.1741\n",
            "Epoch 94/100\n",
            "9096/9096 [==============================] - 8s 869us/sample - loss: 12.4372 - acc: 0.1889 - val_loss: 12.5937 - val_acc: 0.1741\n",
            "Epoch 95/100\n",
            "9096/9096 [==============================] - 8s 871us/sample - loss: 12.4372 - acc: 0.1889 - val_loss: 12.5937 - val_acc: 0.1741\n",
            "Epoch 96/100\n",
            "9096/9096 [==============================] - 8s 856us/sample - loss: 12.4372 - acc: 0.1889 - val_loss: 12.5937 - val_acc: 0.1741\n",
            "Epoch 97/100\n",
            "9096/9096 [==============================] - 8s 860us/sample - loss: 12.4372 - acc: 0.1889 - val_loss: 12.5937 - val_acc: 0.1741\n",
            "Epoch 98/100\n",
            "9096/9096 [==============================] - 8s 861us/sample - loss: 12.4372 - acc: 0.1889 - val_loss: 12.5937 - val_acc: 0.1741\n",
            "Epoch 99/100\n",
            "9096/9096 [==============================] - 8s 860us/sample - loss: 12.4372 - acc: 0.1889 - val_loss: 12.5937 - val_acc: 0.1741\n",
            "Epoch 100/100\n",
            "9096/9096 [==============================] - 8s 854us/sample - loss: 12.4372 - acc: 0.1889 - val_loss: 12.5937 - val_acc: 0.1741\n",
            "Acuracy 0.1741424802110818\n",
            "Macro precision_recall_fscore_support\n"
          ],
          "name": "stdout"
        },
        {
          "output_type": "stream",
          "text": [
            "/usr/local/lib/python3.6/dist-packages/sklearn/metrics/_classification.py:1272: UndefinedMetricWarning: Precision and F-score are ill-defined and being set to 0.0 in labels with no predicted samples. Use `zero_division` parameter to control this behavior.\n",
            "  _warn_prf(average, modifier, msg_start, len(result))\n"
          ],
          "name": "stderr"
        },
        {
          "output_type": "stream",
          "text": [
            "(0.0870712401055409, 0.5, 0.14831460674157304, None)\n",
            "Micro precision_recall_fscore_support\n",
            "(0.1741424802110818, 0.1741424802110818, 0.1741424802110818, None)\n",
            "Weighted precision_recall_fscore_support\n",
            "(0.030325603414067013, 0.1741424802110818, 0.05165574693901752, None)\n",
            "CPU times: user 23min 22s, sys: 18.5 s, total: 23min 41s\n",
            "Wall time: 13min 7s\n"
          ],
          "name": "stdout"
        }
      ]
    },
    {
      "cell_type": "markdown",
      "metadata": {
        "id": "RNtRed1R6Zn4"
      },
      "source": [
        "#### Model 7 : RELU + DROPOUT + ADAM"
      ]
    },
    {
      "cell_type": "code",
      "metadata": {
        "colab": {
          "base_uri": "https://localhost:8080/"
        },
        "id": "0u5ayQGh6qK7",
        "outputId": "9b61f5d3-2bc6-4d24-ff06-95c471a4acde"
      },
      "source": [
        "%%time\r\n",
        "\r\n",
        "# https://arxiv.org/pdf/1707.09725.pdf#page=95\r\n",
        "# for relu layers # he-initialization\r\n",
        "# If we sample weights from a normal distribution N(0,σ) we satisfy this condition with σ=√(2/(ni). \r\n",
        "# h1 =>  σ=√(2/(fan_in) = 0.0206  => N(0,σ) = N(0,0.0206)\r\n",
        "# h2 =>  σ=√(2/(fan_in) = 0.0358  => N(0,σ) = N(0,0.0358)\r\n",
        "# h3 =>  σ=√(2/(fan_in) = 0.0620  => N(0,σ) = N(0,0.0620)\r\n",
        "# out =>  σ=√(2/(fan_in+1) = 0.107  => N(0,σ) = N(0,0.107)\r\n",
        "\r\n",
        "model_relu = Sequential()\r\n",
        "model_relu.add(Dense(hidden_layer_1, activation='relu', input_shape=(input_dim,), kernel_initializer=RandomNormal(mean=0.0, stddev=0.0358, seed=None)))\r\n",
        "model_relu.add(Dropout(0.5))\r\n",
        "model_relu.add(Dense(hidden_layer_2, activation='relu', kernel_initializer=RandomNormal(mean=0.0, stddev=0.0358, seed=None)))\r\n",
        "model_relu.add(Dropout(0.5))\r\n",
        "model_relu.add(Dense(hidden_layer_3, activation='relu', kernel_initializer=RandomNormal(mean=0.0, stddev=0.0620, seed=None)))\r\n",
        "model_relu.add(Dropout(0.5))\r\n",
        "model_relu.add(Dense(1, activation='relu', kernel_initializer=RandomNormal(mean=0.0, stddev=0.107, seed=None)))\r\n",
        "\r\n",
        "model_relu.summary()\r\n",
        "\r\n",
        "model_relu.compile(optimizer='adam', loss='binary_crossentropy', metrics=['accuracy'])\r\n",
        "model_relu.fit(X_train, y_train, batch_size=batch_size, epochs=nb_epoch, verbose=1, validation_data=(X_test, y_test))\r\n",
        "\r\n",
        "y_pred = model_relu.predict(X_test)\r\n",
        "\r\n",
        "for i in range(len(y_pred)):\r\n",
        "  if y_pred[i][0] >= 0.5:\r\n",
        "    y_pred[i][0] = 1\r\n",
        "  else:\r\n",
        "    y_pred[i][0] = 0\r\n",
        "\r\n",
        "print(\"Acuracy\", accuracy_score(y_test, y_pred))\r\n",
        "print(\"Macro precision_recall_fscore_support\")\r\n",
        "print(precision_recall_fscore_support(y_test, y_pred, average='macro'))\r\n",
        "print(\"Micro precision_recall_fscore_support\")\r\n",
        "print(precision_recall_fscore_support(y_test, y_pred, average='micro'))\r\n",
        "print(\"Weighted precision_recall_fscore_support\")\r\n",
        "print(precision_recall_fscore_support(y_test, y_pred, average='weighted'))"
      ],
      "execution_count": 51,
      "outputs": [
        {
          "output_type": "stream",
          "text": [
            "Model: \"sequential_7\"\n",
            "_________________________________________________________________\n",
            "Layer (type)                 Output Shape              Param #   \n",
            "=================================================================\n",
            "dense_25 (Dense)             (None, 1560)              7299240   \n",
            "_________________________________________________________________\n",
            "dropout (Dropout)            (None, 1560)              0         \n",
            "_________________________________________________________________\n",
            "dense_26 (Dense)             (None, 519)               810159    \n",
            "_________________________________________________________________\n",
            "dropout_1 (Dropout)          (None, 519)               0         \n",
            "_________________________________________________________________\n",
            "dense_27 (Dense)             (None, 173)               89960     \n",
            "_________________________________________________________________\n",
            "dropout_2 (Dropout)          (None, 173)               0         \n",
            "_________________________________________________________________\n",
            "dense_28 (Dense)             (None, 1)                 174       \n",
            "=================================================================\n",
            "Total params: 8,199,533\n",
            "Trainable params: 8,199,533\n",
            "Non-trainable params: 0\n",
            "_________________________________________________________________\n",
            "Train on 9096 samples, validate on 2274 samples\n",
            "Epoch 1/100\n",
            "9096/9096 [==============================] - 9s 989us/sample - loss: 0.5825 - acc: 0.8040 - val_loss: 0.3490 - val_acc: 0.8448\n",
            "Epoch 2/100\n",
            "9096/9096 [==============================] - 8s 914us/sample - loss: 0.3633 - acc: 0.8871 - val_loss: 0.5386 - val_acc: 0.8940\n",
            "Epoch 3/100\n",
            "9096/9096 [==============================] - 8s 914us/sample - loss: 0.2546 - acc: 0.9336 - val_loss: 0.5610 - val_acc: 0.8817\n",
            "Epoch 4/100\n",
            "9096/9096 [==============================] - 8s 912us/sample - loss: 0.1928 - acc: 0.9620 - val_loss: 0.8625 - val_acc: 0.8931\n",
            "Epoch 5/100\n",
            "9096/9096 [==============================] - 8s 920us/sample - loss: 0.1626 - acc: 0.9750 - val_loss: 0.9322 - val_acc: 0.8861\n",
            "Epoch 6/100\n",
            "9096/9096 [==============================] - 8s 914us/sample - loss: 0.1553 - acc: 0.9825 - val_loss: 1.0999 - val_acc: 0.8945\n",
            "Epoch 7/100\n",
            "9096/9096 [==============================] - 8s 915us/sample - loss: 0.1252 - acc: 0.9876 - val_loss: 1.2006 - val_acc: 0.8923\n",
            "Epoch 8/100\n",
            "9096/9096 [==============================] - 8s 919us/sample - loss: 0.1129 - acc: 0.9903 - val_loss: 1.2214 - val_acc: 0.8852\n",
            "Epoch 9/100\n",
            "9096/9096 [==============================] - 8s 916us/sample - loss: 0.1158 - acc: 0.9890 - val_loss: 1.2405 - val_acc: 0.8953\n",
            "Epoch 10/100\n",
            "9096/9096 [==============================] - 8s 914us/sample - loss: 0.1134 - acc: 0.9901 - val_loss: 1.2015 - val_acc: 0.8839\n",
            "Epoch 11/100\n",
            "9096/9096 [==============================] - 8s 911us/sample - loss: 0.1114 - acc: 0.9913 - val_loss: 1.2965 - val_acc: 0.8896\n",
            "Epoch 12/100\n",
            "9096/9096 [==============================] - 8s 917us/sample - loss: 0.1098 - acc: 0.9914 - val_loss: 1.3215 - val_acc: 0.8870\n",
            "Epoch 13/100\n",
            "9096/9096 [==============================] - 8s 913us/sample - loss: 0.1048 - acc: 0.9924 - val_loss: 1.3090 - val_acc: 0.8857\n",
            "Epoch 14/100\n",
            "9096/9096 [==============================] - 8s 914us/sample - loss: 0.1026 - acc: 0.9927 - val_loss: 1.3235 - val_acc: 0.8857\n",
            "Epoch 15/100\n",
            "9096/9096 [==============================] - 8s 913us/sample - loss: 0.1007 - acc: 0.9926 - val_loss: 1.3818 - val_acc: 0.8830\n",
            "Epoch 16/100\n",
            "9096/9096 [==============================] - 8s 915us/sample - loss: 0.1002 - acc: 0.9931 - val_loss: 1.3951 - val_acc: 0.8857\n",
            "Epoch 17/100\n",
            "9096/9096 [==============================] - 8s 916us/sample - loss: 0.1015 - acc: 0.9932 - val_loss: 1.4532 - val_acc: 0.8848\n",
            "Epoch 18/100\n",
            "9096/9096 [==============================] - 8s 931us/sample - loss: 0.1015 - acc: 0.9929 - val_loss: 1.4064 - val_acc: 0.8892\n",
            "Epoch 19/100\n",
            "9096/9096 [==============================] - 8s 913us/sample - loss: 0.1027 - acc: 0.9926 - val_loss: 1.4095 - val_acc: 0.8848\n",
            "Epoch 20/100\n",
            "9096/9096 [==============================] - 8s 916us/sample - loss: 0.1038 - acc: 0.9925 - val_loss: 1.4017 - val_acc: 0.8879\n",
            "Epoch 21/100\n",
            "9096/9096 [==============================] - 8s 913us/sample - loss: 0.1037 - acc: 0.9925 - val_loss: 1.4123 - val_acc: 0.8843\n",
            "Epoch 22/100\n",
            "9096/9096 [==============================] - 8s 916us/sample - loss: 0.1016 - acc: 0.9926 - val_loss: 1.4467 - val_acc: 0.8896\n",
            "Epoch 23/100\n",
            "9096/9096 [==============================] - 8s 915us/sample - loss: 0.0984 - acc: 0.9927 - val_loss: 1.4915 - val_acc: 0.8839\n",
            "Epoch 24/100\n",
            "9096/9096 [==============================] - 8s 911us/sample - loss: 0.1031 - acc: 0.9927 - val_loss: 1.4536 - val_acc: 0.8865\n",
            "Epoch 25/100\n",
            "9096/9096 [==============================] - 8s 910us/sample - loss: 0.1278 - acc: 0.9894 - val_loss: 1.3985 - val_acc: 0.8892\n",
            "Epoch 26/100\n",
            "9096/9096 [==============================] - 8s 915us/sample - loss: 0.1454 - acc: 0.9858 - val_loss: 1.3906 - val_acc: 0.8861\n",
            "Epoch 27/100\n",
            "9096/9096 [==============================] - 8s 919us/sample - loss: 0.1255 - acc: 0.9885 - val_loss: 1.3025 - val_acc: 0.8953\n",
            "Epoch 28/100\n",
            "9096/9096 [==============================] - 8s 916us/sample - loss: 0.1118 - acc: 0.9900 - val_loss: 1.3030 - val_acc: 0.8980\n",
            "Epoch 29/100\n",
            "9096/9096 [==============================] - 8s 912us/sample - loss: 0.1064 - acc: 0.9909 - val_loss: 1.3365 - val_acc: 0.8839\n",
            "Epoch 30/100\n",
            "9096/9096 [==============================] - 8s 924us/sample - loss: 0.1006 - acc: 0.9929 - val_loss: 1.3861 - val_acc: 0.8940\n",
            "Epoch 31/100\n",
            "9096/9096 [==============================] - 8s 916us/sample - loss: 0.0948 - acc: 0.9932 - val_loss: 1.3943 - val_acc: 0.8914\n",
            "Epoch 32/100\n",
            "9096/9096 [==============================] - 9s 936us/sample - loss: 0.0965 - acc: 0.9934 - val_loss: 1.4372 - val_acc: 0.8918\n",
            "Epoch 33/100\n",
            "9096/9096 [==============================] - 8s 927us/sample - loss: 0.1084 - acc: 0.9922 - val_loss: 1.3932 - val_acc: 0.8914\n",
            "Epoch 34/100\n",
            "9096/9096 [==============================] - 8s 931us/sample - loss: 0.1162 - acc: 0.9916 - val_loss: 1.3469 - val_acc: 0.8905\n",
            "Epoch 35/100\n",
            "9096/9096 [==============================] - 8s 920us/sample - loss: 0.0995 - acc: 0.9933 - val_loss: 1.3988 - val_acc: 0.8918\n",
            "Epoch 36/100\n",
            "9096/9096 [==============================] - 8s 923us/sample - loss: 0.0977 - acc: 0.9932 - val_loss: 1.3654 - val_acc: 0.8923\n",
            "Epoch 37/100\n",
            "9096/9096 [==============================] - 8s 919us/sample - loss: 0.0963 - acc: 0.9933 - val_loss: 1.3777 - val_acc: 0.8927\n",
            "Epoch 38/100\n",
            "9096/9096 [==============================] - 8s 918us/sample - loss: 0.0988 - acc: 0.9934 - val_loss: 1.4045 - val_acc: 0.8909\n",
            "Epoch 39/100\n",
            "9096/9096 [==============================] - 8s 920us/sample - loss: 0.1001 - acc: 0.9929 - val_loss: 1.4843 - val_acc: 0.8879\n",
            "Epoch 40/100\n",
            "9096/9096 [==============================] - 8s 917us/sample - loss: 0.0970 - acc: 0.9935 - val_loss: 1.4422 - val_acc: 0.8958\n",
            "Epoch 41/100\n",
            "9096/9096 [==============================] - 8s 924us/sample - loss: 0.0942 - acc: 0.9936 - val_loss: 1.4250 - val_acc: 0.8949\n",
            "Epoch 42/100\n",
            "9096/9096 [==============================] - 8s 923us/sample - loss: 0.0952 - acc: 0.9937 - val_loss: 1.4083 - val_acc: 0.8927\n",
            "Epoch 43/100\n",
            "9096/9096 [==============================] - 8s 919us/sample - loss: 0.1008 - acc: 0.9932 - val_loss: 1.4453 - val_acc: 0.8887\n",
            "Epoch 44/100\n",
            "9096/9096 [==============================] - 8s 919us/sample - loss: 0.0955 - acc: 0.9936 - val_loss: 1.4502 - val_acc: 0.8923\n",
            "Epoch 45/100\n",
            "9096/9096 [==============================] - 8s 921us/sample - loss: 0.0955 - acc: 0.9935 - val_loss: 1.4496 - val_acc: 0.8927\n",
            "Epoch 46/100\n",
            "9096/9096 [==============================] - 8s 922us/sample - loss: 0.0970 - acc: 0.9936 - val_loss: 1.4622 - val_acc: 0.8927\n",
            "Epoch 47/100\n",
            "9096/9096 [==============================] - 8s 915us/sample - loss: 0.0957 - acc: 0.9933 - val_loss: 1.4353 - val_acc: 0.8909\n",
            "Epoch 48/100\n",
            "9096/9096 [==============================] - 8s 924us/sample - loss: 0.0992 - acc: 0.9934 - val_loss: 1.4791 - val_acc: 0.8892\n",
            "Epoch 49/100\n",
            "9096/9096 [==============================] - 8s 924us/sample - loss: 0.0988 - acc: 0.9934 - val_loss: 1.4272 - val_acc: 0.8945\n",
            "Epoch 50/100\n",
            "9096/9096 [==============================] - 8s 924us/sample - loss: 0.1009 - acc: 0.9931 - val_loss: 1.4234 - val_acc: 0.8936\n",
            "Epoch 51/100\n",
            "9096/9096 [==============================] - 8s 925us/sample - loss: 0.1022 - acc: 0.9932 - val_loss: 1.3997 - val_acc: 0.8945\n",
            "Epoch 52/100\n",
            "9096/9096 [==============================] - 8s 922us/sample - loss: 0.0969 - acc: 0.9936 - val_loss: 1.4419 - val_acc: 0.8892\n",
            "Epoch 53/100\n",
            "9096/9096 [==============================] - 8s 914us/sample - loss: 0.1006 - acc: 0.9934 - val_loss: 1.4337 - val_acc: 0.8918\n",
            "Epoch 54/100\n",
            "9096/9096 [==============================] - 8s 932us/sample - loss: 0.0970 - acc: 0.9934 - val_loss: 1.4657 - val_acc: 0.8901\n",
            "Epoch 55/100\n",
            "9096/9096 [==============================] - 8s 934us/sample - loss: 0.0954 - acc: 0.9936 - val_loss: 1.4418 - val_acc: 0.8879\n",
            "Epoch 56/100\n",
            "9096/9096 [==============================] - 8s 923us/sample - loss: 0.0990 - acc: 0.9934 - val_loss: 1.4378 - val_acc: 0.8909\n",
            "Epoch 57/100\n",
            "9096/9096 [==============================] - 8s 920us/sample - loss: 0.0953 - acc: 0.9936 - val_loss: 1.4742 - val_acc: 0.8852\n",
            "Epoch 58/100\n",
            "9096/9096 [==============================] - 8s 918us/sample - loss: 0.0987 - acc: 0.9935 - val_loss: 1.4627 - val_acc: 0.8940\n",
            "Epoch 59/100\n",
            "9096/9096 [==============================] - 8s 920us/sample - loss: 0.1000 - acc: 0.9935 - val_loss: 1.4901 - val_acc: 0.8905\n",
            "Epoch 60/100\n",
            "9096/9096 [==============================] - 8s 918us/sample - loss: 0.1003 - acc: 0.9933 - val_loss: 1.4564 - val_acc: 0.8918\n",
            "Epoch 61/100\n",
            "9096/9096 [==============================] - 8s 920us/sample - loss: 0.1001 - acc: 0.9935 - val_loss: 1.4485 - val_acc: 0.8923\n",
            "Epoch 62/100\n",
            "9096/9096 [==============================] - 8s 924us/sample - loss: 0.1025 - acc: 0.9930 - val_loss: 1.4491 - val_acc: 0.8958\n",
            "Epoch 63/100\n",
            "9096/9096 [==============================] - 8s 924us/sample - loss: 0.0973 - acc: 0.9934 - val_loss: 1.5028 - val_acc: 0.8896\n",
            "Epoch 64/100\n",
            "9096/9096 [==============================] - 8s 924us/sample - loss: 0.0976 - acc: 0.9933 - val_loss: 1.4237 - val_acc: 0.8936\n",
            "Epoch 65/100\n",
            "9096/9096 [==============================] - 8s 921us/sample - loss: 0.0988 - acc: 0.9932 - val_loss: 1.4729 - val_acc: 0.8927\n",
            "Epoch 66/100\n",
            "9096/9096 [==============================] - 8s 918us/sample - loss: 0.0994 - acc: 0.9932 - val_loss: 1.4531 - val_acc: 0.8923\n",
            "Epoch 67/100\n",
            "9096/9096 [==============================] - 8s 918us/sample - loss: 0.1008 - acc: 0.9932 - val_loss: 1.4718 - val_acc: 0.8936\n",
            "Epoch 68/100\n",
            "9096/9096 [==============================] - 8s 920us/sample - loss: 0.0988 - acc: 0.9933 - val_loss: 1.4982 - val_acc: 0.8914\n",
            "Epoch 69/100\n",
            "9096/9096 [==============================] - 8s 916us/sample - loss: 0.0984 - acc: 0.9935 - val_loss: 1.4707 - val_acc: 0.8927\n",
            "Epoch 70/100\n",
            "9096/9096 [==============================] - 8s 933us/sample - loss: 0.0985 - acc: 0.9936 - val_loss: 1.5168 - val_acc: 0.8887\n",
            "Epoch 71/100\n",
            "9096/9096 [==============================] - 9s 939us/sample - loss: 0.1046 - acc: 0.9927 - val_loss: 1.4547 - val_acc: 0.8953\n",
            "Epoch 72/100\n",
            "9096/9096 [==============================] - 8s 930us/sample - loss: 0.1075 - acc: 0.9926 - val_loss: 1.4540 - val_acc: 0.8936\n",
            "Epoch 73/100\n",
            "9096/9096 [==============================] - 8s 915us/sample - loss: 0.1083 - acc: 0.9926 - val_loss: 1.4603 - val_acc: 0.8870\n",
            "Epoch 74/100\n",
            "9096/9096 [==============================] - 8s 915us/sample - loss: 0.1150 - acc: 0.9901 - val_loss: 1.4581 - val_acc: 0.8945\n",
            "Epoch 75/100\n",
            "9096/9096 [==============================] - 8s 918us/sample - loss: 0.1133 - acc: 0.9915 - val_loss: 1.5481 - val_acc: 0.8887\n",
            "Epoch 76/100\n",
            "9096/9096 [==============================] - 8s 918us/sample - loss: 0.1117 - acc: 0.9922 - val_loss: 1.5162 - val_acc: 0.8901\n",
            "Epoch 77/100\n",
            "9096/9096 [==============================] - 8s 920us/sample - loss: 0.1087 - acc: 0.9923 - val_loss: 1.5031 - val_acc: 0.8940\n",
            "Epoch 78/100\n",
            "9096/9096 [==============================] - 8s 920us/sample - loss: 0.1101 - acc: 0.9922 - val_loss: 1.5451 - val_acc: 0.8892\n",
            "Epoch 79/100\n",
            "9096/9096 [==============================] - 8s 922us/sample - loss: 0.1066 - acc: 0.9924 - val_loss: 1.5196 - val_acc: 0.8843\n",
            "Epoch 80/100\n",
            "9096/9096 [==============================] - 8s 922us/sample - loss: 0.1180 - acc: 0.9914 - val_loss: 1.6891 - val_acc: 0.8769\n",
            "Epoch 81/100\n",
            "9096/9096 [==============================] - 8s 916us/sample - loss: 0.1110 - acc: 0.9915 - val_loss: 1.5257 - val_acc: 0.8883\n",
            "Epoch 82/100\n",
            "9096/9096 [==============================] - 8s 922us/sample - loss: 0.1130 - acc: 0.9916 - val_loss: 1.5430 - val_acc: 0.8817\n",
            "Epoch 83/100\n",
            "9096/9096 [==============================] - 8s 919us/sample - loss: 0.1115 - acc: 0.9923 - val_loss: 1.5067 - val_acc: 0.8883\n",
            "Epoch 84/100\n",
            "9096/9096 [==============================] - 8s 916us/sample - loss: 0.1110 - acc: 0.9920 - val_loss: 1.5055 - val_acc: 0.8865\n",
            "Epoch 85/100\n",
            "9096/9096 [==============================] - 8s 918us/sample - loss: 0.1075 - acc: 0.9918 - val_loss: 1.5371 - val_acc: 0.8843\n",
            "Epoch 86/100\n",
            "9096/9096 [==============================] - 8s 927us/sample - loss: 0.1015 - acc: 0.9931 - val_loss: 1.5970 - val_acc: 0.8826\n",
            "Epoch 87/100\n",
            "9096/9096 [==============================] - 8s 921us/sample - loss: 0.1030 - acc: 0.9927 - val_loss: 1.5347 - val_acc: 0.8865\n",
            "Epoch 88/100\n",
            "9096/9096 [==============================] - 8s 915us/sample - loss: 0.0999 - acc: 0.9927 - val_loss: 1.5390 - val_acc: 0.8830\n",
            "Epoch 89/100\n",
            "9096/9096 [==============================] - 8s 922us/sample - loss: 0.0972 - acc: 0.9934 - val_loss: 1.5913 - val_acc: 0.8830\n",
            "Epoch 90/100\n",
            "9096/9096 [==============================] - 8s 921us/sample - loss: 0.0960 - acc: 0.9932 - val_loss: 1.5408 - val_acc: 0.8874\n",
            "Epoch 91/100\n",
            "9096/9096 [==============================] - 9s 946us/sample - loss: 0.1015 - acc: 0.9922 - val_loss: 1.4650 - val_acc: 0.8923\n",
            "Epoch 92/100\n",
            "9096/9096 [==============================] - 8s 921us/sample - loss: 0.1199 - acc: 0.9909 - val_loss: 1.4347 - val_acc: 0.8896\n",
            "Epoch 93/100\n",
            "9096/9096 [==============================] - 8s 924us/sample - loss: 0.1108 - acc: 0.9920 - val_loss: 1.4182 - val_acc: 0.8923\n",
            "Epoch 94/100\n",
            "9096/9096 [==============================] - 8s 925us/sample - loss: 0.0982 - acc: 0.9930 - val_loss: 1.4429 - val_acc: 0.8830\n",
            "Epoch 95/100\n",
            "9096/9096 [==============================] - 8s 921us/sample - loss: 0.0977 - acc: 0.9932 - val_loss: 1.4302 - val_acc: 0.8931\n",
            "Epoch 96/100\n",
            "9096/9096 [==============================] - 8s 920us/sample - loss: 0.1039 - acc: 0.9932 - val_loss: 1.4718 - val_acc: 0.8896\n",
            "Epoch 97/100\n",
            "9096/9096 [==============================] - 8s 916us/sample - loss: 0.1008 - acc: 0.9931 - val_loss: 1.4747 - val_acc: 0.8887\n",
            "Epoch 98/100\n",
            "9096/9096 [==============================] - 8s 919us/sample - loss: 0.1009 - acc: 0.9931 - val_loss: 1.5022 - val_acc: 0.8852\n",
            "Epoch 99/100\n",
            "9096/9096 [==============================] - 8s 923us/sample - loss: 0.1007 - acc: 0.9932 - val_loss: 1.4993 - val_acc: 0.8883\n",
            "Epoch 100/100\n",
            "9096/9096 [==============================] - 8s 924us/sample - loss: 0.0972 - acc: 0.9935 - val_loss: 1.4661 - val_acc: 0.8923\n",
            "Acuracy 0.8922603342128408\n",
            "Macro precision_recall_fscore_support\n",
            "(0.8305137372509601, 0.7683746409784749, 0.7938872415636498, None)\n",
            "Micro precision_recall_fscore_support\n",
            "(0.8922603342128408, 0.8922603342128408, 0.8922603342128408, None)\n",
            "Weighted precision_recall_fscore_support\n",
            "(0.8856393135747597, 0.8922603342128408, 0.8866873200525747, None)\n",
            "CPU times: user 25min 8s, sys: 16.6 s, total: 25min 25s\n",
            "Wall time: 14min 1s\n"
          ],
          "name": "stdout"
        }
      ]
    },
    {
      "cell_type": "markdown",
      "metadata": {
        "id": "GLqqGHUD6byp"
      },
      "source": [
        "#### Model 8 : RELU + DROPOUT + SGD"
      ]
    },
    {
      "cell_type": "code",
      "metadata": {
        "id": "NPtih0oQE1JJ",
        "colab": {
          "base_uri": "https://localhost:8080/"
        },
        "collapsed": true,
        "outputId": "430db6b7-4dbf-484e-dd77-aedfbc0139dc"
      },
      "source": [
        "%%time\r\n",
        "\r\n",
        "# https://arxiv.org/pdf/1707.09725.pdf#page=95\r\n",
        "# for relu layers # he-initialization\r\n",
        "# If we sample weights from a normal distribution N(0,σ) we satisfy this condition with σ=√(2/(ni). \r\n",
        "# h1 =>  σ=√(2/(fan_in) = 0.0206  => N(0,σ) = N(0,0.0206)\r\n",
        "# h2 =>  σ=√(2/(fan_in) = 0.0358  => N(0,σ) = N(0,0.0358)\r\n",
        "# h3 =>  σ=√(2/(fan_in) = 0.0620  => N(0,σ) = N(0,0.0620)\r\n",
        "# out =>  σ=√(2/(fan_in+1) = 0.107  => N(0,σ) = N(0,0.107)\r\n",
        "\r\n",
        "model_relu = Sequential()\r\n",
        "model_relu.add(Dense(hidden_layer_1, activation='relu', input_shape=(input_dim,), kernel_initializer=RandomNormal(mean=0.0, stddev=0.0358, seed=None)))\r\n",
        "model_relu.add(Dropout(0.5))\r\n",
        "model_relu.add(Dense(hidden_layer_2, activation='relu', kernel_initializer=RandomNormal(mean=0.0, stddev=0.0358, seed=None)))\r\n",
        "model_relu.add(Dropout(0.5))\r\n",
        "model_relu.add(Dense(hidden_layer_3, activation='relu', kernel_initializer=RandomNormal(mean=0.0, stddev=0.0620, seed=None)))\r\n",
        "model_relu.add(Dropout(0.5))\r\n",
        "model_relu.add(Dense(1, activation='relu', kernel_initializer=RandomNormal(mean=0.0, stddev=0.107, seed=None)))\r\n",
        "\r\n",
        "model_relu.summary()\r\n",
        "\r\n",
        "model_relu.compile(optimizer='sgd', loss='binary_crossentropy', metrics=['accuracy'])\r\n",
        "model_relu.fit(X_train, y_train, batch_size=batch_size, epochs=nb_epoch, verbose=1, validation_data=(X_test, y_test))\r\n",
        "\r\n",
        "y_pred = model_relu.predict(X_test)\r\n",
        "\r\n",
        "for i in range(len(y_pred)):\r\n",
        "  if y_pred[i][0] >= 0.5:\r\n",
        "    y_pred[i][0] = 1\r\n",
        "  else:\r\n",
        "    y_pred[i][0] = 0\r\n",
        "\r\n",
        "print(\"Acuracy\", accuracy_score(y_test, y_pred))\r\n",
        "print(\"Macro precision_recall_fscore_support\")\r\n",
        "print(precision_recall_fscore_support(y_test, y_pred, average='macro'))\r\n",
        "print(\"Micro precision_recall_fscore_support\")\r\n",
        "print(precision_recall_fscore_support(y_test, y_pred, average='micro'))\r\n",
        "print(\"Weighted precision_recall_fscore_support\")\r\n",
        "print(precision_recall_fscore_support(y_test, y_pred, average='weighted'))"
      ],
      "execution_count": 52,
      "outputs": [
        {
          "output_type": "stream",
          "text": [
            "Model: \"sequential_8\"\n",
            "_________________________________________________________________\n",
            "Layer (type)                 Output Shape              Param #   \n",
            "=================================================================\n",
            "dense_29 (Dense)             (None, 1560)              7299240   \n",
            "_________________________________________________________________\n",
            "dropout_3 (Dropout)          (None, 1560)              0         \n",
            "_________________________________________________________________\n",
            "dense_30 (Dense)             (None, 519)               810159    \n",
            "_________________________________________________________________\n",
            "dropout_4 (Dropout)          (None, 519)               0         \n",
            "_________________________________________________________________\n",
            "dense_31 (Dense)             (None, 173)               89960     \n",
            "_________________________________________________________________\n",
            "dropout_5 (Dropout)          (None, 173)               0         \n",
            "_________________________________________________________________\n",
            "dense_32 (Dense)             (None, 1)                 174       \n",
            "=================================================================\n",
            "Total params: 8,199,533\n",
            "Trainable params: 8,199,533\n",
            "Non-trainable params: 0\n",
            "_________________________________________________________________\n",
            "Train on 9096 samples, validate on 2274 samples\n",
            "Epoch 1/100\n",
            "9096/9096 [==============================] - 8s 900us/sample - loss: 0.5987 - acc: 0.8068 - val_loss: 0.6232 - val_acc: 0.8254\n",
            "Epoch 2/100\n",
            "9096/9096 [==============================] - 8s 857us/sample - loss: 0.5736 - acc: 0.7438 - val_loss: 0.4674 - val_acc: 0.8259\n",
            "Epoch 3/100\n",
            "9096/9096 [==============================] - 8s 870us/sample - loss: 0.5172 - acc: 0.8108 - val_loss: 0.4651 - val_acc: 0.8259\n",
            "Epoch 4/100\n",
            "9096/9096 [==============================] - 8s 875us/sample - loss: 12.1710 - acc: 0.2032 - val_loss: 12.5937 - val_acc: 0.1741\n",
            "Epoch 5/100\n",
            "9096/9096 [==============================] - 8s 863us/sample - loss: 12.4372 - acc: 0.1889 - val_loss: 12.5937 - val_acc: 0.1741\n",
            "Epoch 6/100\n",
            "9096/9096 [==============================] - 8s 861us/sample - loss: 12.4372 - acc: 0.1889 - val_loss: 12.5937 - val_acc: 0.1741\n",
            "Epoch 7/100\n",
            "9096/9096 [==============================] - 8s 862us/sample - loss: 12.4372 - acc: 0.1889 - val_loss: 12.5937 - val_acc: 0.1741\n",
            "Epoch 8/100\n",
            "9096/9096 [==============================] - 8s 866us/sample - loss: 12.4355 - acc: 0.1890 - val_loss: 12.5937 - val_acc: 0.1741\n",
            "Epoch 9/100\n",
            "9096/9096 [==============================] - 8s 876us/sample - loss: 12.4372 - acc: 0.1889 - val_loss: 12.5937 - val_acc: 0.1741\n",
            "Epoch 10/100\n",
            "9096/9096 [==============================] - 8s 863us/sample - loss: 12.4372 - acc: 0.1889 - val_loss: 12.5937 - val_acc: 0.1741\n",
            "Epoch 11/100\n",
            "9096/9096 [==============================] - 8s 857us/sample - loss: 12.4372 - acc: 0.1889 - val_loss: 12.5937 - val_acc: 0.1741\n",
            "Epoch 12/100\n",
            "9096/9096 [==============================] - 8s 859us/sample - loss: 12.4372 - acc: 0.1889 - val_loss: 12.5937 - val_acc: 0.1741\n",
            "Epoch 13/100\n",
            "9096/9096 [==============================] - 8s 858us/sample - loss: 12.4372 - acc: 0.1889 - val_loss: 12.5937 - val_acc: 0.1741\n",
            "Epoch 14/100\n",
            "9096/9096 [==============================] - 8s 860us/sample - loss: 12.4372 - acc: 0.1889 - val_loss: 12.5937 - val_acc: 0.1741\n",
            "Epoch 15/100\n",
            "9096/9096 [==============================] - 8s 859us/sample - loss: 12.4372 - acc: 0.1889 - val_loss: 12.5937 - val_acc: 0.1741\n",
            "Epoch 16/100\n",
            "9096/9096 [==============================] - 8s 858us/sample - loss: 12.4372 - acc: 0.1889 - val_loss: 12.5937 - val_acc: 0.1741\n",
            "Epoch 17/100\n",
            "9096/9096 [==============================] - 8s 857us/sample - loss: 12.4372 - acc: 0.1889 - val_loss: 12.5937 - val_acc: 0.1741\n",
            "Epoch 18/100\n",
            "9096/9096 [==============================] - 8s 864us/sample - loss: 12.4372 - acc: 0.1889 - val_loss: 12.5937 - val_acc: 0.1741\n",
            "Epoch 19/100\n",
            "9096/9096 [==============================] - 8s 856us/sample - loss: 12.4372 - acc: 0.1889 - val_loss: 12.5937 - val_acc: 0.1741\n",
            "Epoch 20/100\n",
            "9096/9096 [==============================] - 8s 861us/sample - loss: 12.4372 - acc: 0.1889 - val_loss: 12.5937 - val_acc: 0.1741\n",
            "Epoch 21/100\n",
            "9096/9096 [==============================] - 8s 859us/sample - loss: 12.4372 - acc: 0.1889 - val_loss: 12.5937 - val_acc: 0.1741\n",
            "Epoch 22/100\n",
            "9096/9096 [==============================] - 8s 863us/sample - loss: 12.4372 - acc: 0.1889 - val_loss: 12.5937 - val_acc: 0.1741\n",
            "Epoch 23/100\n",
            "9096/9096 [==============================] - 8s 860us/sample - loss: 12.4372 - acc: 0.1889 - val_loss: 12.5937 - val_acc: 0.1741\n",
            "Epoch 24/100\n",
            "9096/9096 [==============================] - 8s 860us/sample - loss: 12.4372 - acc: 0.1889 - val_loss: 12.5937 - val_acc: 0.1741\n",
            "Epoch 25/100\n",
            "9096/9096 [==============================] - 8s 858us/sample - loss: 12.4372 - acc: 0.1889 - val_loss: 12.5937 - val_acc: 0.1741\n",
            "Epoch 26/100\n",
            "9096/9096 [==============================] - 8s 861us/sample - loss: 12.4372 - acc: 0.1889 - val_loss: 12.5937 - val_acc: 0.1741\n",
            "Epoch 27/100\n",
            "9096/9096 [==============================] - 8s 861us/sample - loss: 12.4372 - acc: 0.1889 - val_loss: 12.5937 - val_acc: 0.1741\n",
            "Epoch 28/100\n",
            "9096/9096 [==============================] - 8s 860us/sample - loss: 12.4372 - acc: 0.1889 - val_loss: 12.5937 - val_acc: 0.1741\n",
            "Epoch 29/100\n",
            "9096/9096 [==============================] - 8s 872us/sample - loss: 12.4372 - acc: 0.1889 - val_loss: 12.5937 - val_acc: 0.1741\n",
            "Epoch 30/100\n",
            "9096/9096 [==============================] - 8s 870us/sample - loss: 12.4372 - acc: 0.1889 - val_loss: 12.5937 - val_acc: 0.1741\n",
            "Epoch 31/100\n",
            "9096/9096 [==============================] - 8s 860us/sample - loss: 12.4372 - acc: 0.1889 - val_loss: 12.5937 - val_acc: 0.1741\n",
            "Epoch 32/100\n",
            "9096/9096 [==============================] - 8s 859us/sample - loss: 12.4372 - acc: 0.1889 - val_loss: 12.5937 - val_acc: 0.1741\n",
            "Epoch 33/100\n",
            "9096/9096 [==============================] - 8s 862us/sample - loss: 12.4372 - acc: 0.1889 - val_loss: 12.5937 - val_acc: 0.1741\n",
            "Epoch 34/100\n",
            "9096/9096 [==============================] - 8s 865us/sample - loss: 12.4372 - acc: 0.1889 - val_loss: 12.5937 - val_acc: 0.1741\n",
            "Epoch 35/100\n",
            "9096/9096 [==============================] - 8s 864us/sample - loss: 12.4372 - acc: 0.1889 - val_loss: 12.5937 - val_acc: 0.1741\n",
            "Epoch 36/100\n",
            "9096/9096 [==============================] - 8s 864us/sample - loss: 12.4372 - acc: 0.1889 - val_loss: 12.5937 - val_acc: 0.1741\n",
            "Epoch 37/100\n",
            "9096/9096 [==============================] - 8s 863us/sample - loss: 12.4372 - acc: 0.1889 - val_loss: 12.5937 - val_acc: 0.1741\n",
            "Epoch 38/100\n",
            "9096/9096 [==============================] - 8s 867us/sample - loss: 12.4372 - acc: 0.1889 - val_loss: 12.5937 - val_acc: 0.1741\n",
            "Epoch 39/100\n",
            "9096/9096 [==============================] - 8s 865us/sample - loss: 12.4372 - acc: 0.1889 - val_loss: 12.5937 - val_acc: 0.1741\n",
            "Epoch 40/100\n",
            "9096/9096 [==============================] - 8s 855us/sample - loss: 12.4372 - acc: 0.1889 - val_loss: 12.5937 - val_acc: 0.1741\n",
            "Epoch 41/100\n",
            "9096/9096 [==============================] - 8s 860us/sample - loss: 12.4372 - acc: 0.1889 - val_loss: 12.5937 - val_acc: 0.1741\n",
            "Epoch 42/100\n",
            "9096/9096 [==============================] - 8s 858us/sample - loss: 12.4372 - acc: 0.1889 - val_loss: 12.5937 - val_acc: 0.1741\n",
            "Epoch 43/100\n",
            "9096/9096 [==============================] - 8s 860us/sample - loss: 12.4372 - acc: 0.1889 - val_loss: 12.5937 - val_acc: 0.1741\n",
            "Epoch 44/100\n",
            "9096/9096 [==============================] - 8s 856us/sample - loss: 12.4372 - acc: 0.1889 - val_loss: 12.5937 - val_acc: 0.1741\n",
            "Epoch 45/100\n",
            "9096/9096 [==============================] - 8s 862us/sample - loss: 12.4372 - acc: 0.1889 - val_loss: 12.5937 - val_acc: 0.1741\n",
            "Epoch 46/100\n",
            "9096/9096 [==============================] - 8s 865us/sample - loss: 12.4372 - acc: 0.1889 - val_loss: 12.5937 - val_acc: 0.1741\n",
            "Epoch 47/100\n",
            "9096/9096 [==============================] - 8s 861us/sample - loss: 12.4372 - acc: 0.1889 - val_loss: 12.5937 - val_acc: 0.1741\n",
            "Epoch 48/100\n",
            "9096/9096 [==============================] - 8s 862us/sample - loss: 12.4372 - acc: 0.1889 - val_loss: 12.5937 - val_acc: 0.1741\n",
            "Epoch 49/100\n",
            "9096/9096 [==============================] - 8s 878us/sample - loss: 12.4356 - acc: 0.1889 - val_loss: 12.5937 - val_acc: 0.1741\n",
            "Epoch 50/100\n",
            "9096/9096 [==============================] - 8s 875us/sample - loss: 12.4372 - acc: 0.1889 - val_loss: 12.5937 - val_acc: 0.1741\n",
            "Epoch 51/100\n",
            "9096/9096 [==============================] - 8s 870us/sample - loss: 12.4372 - acc: 0.1889 - val_loss: 12.5937 - val_acc: 0.1741\n",
            "Epoch 52/100\n",
            "9096/9096 [==============================] - 8s 859us/sample - loss: 12.4372 - acc: 0.1889 - val_loss: 12.5937 - val_acc: 0.1741\n",
            "Epoch 53/100\n",
            "9096/9096 [==============================] - 8s 865us/sample - loss: 12.4372 - acc: 0.1889 - val_loss: 12.5937 - val_acc: 0.1741\n",
            "Epoch 54/100\n",
            "9096/9096 [==============================] - 8s 862us/sample - loss: 12.4372 - acc: 0.1889 - val_loss: 12.5937 - val_acc: 0.1741\n",
            "Epoch 55/100\n",
            "9096/9096 [==============================] - 8s 863us/sample - loss: 12.4372 - acc: 0.1889 - val_loss: 12.5937 - val_acc: 0.1741\n",
            "Epoch 56/100\n",
            "9096/9096 [==============================] - 8s 856us/sample - loss: 12.4372 - acc: 0.1889 - val_loss: 12.5937 - val_acc: 0.1741\n",
            "Epoch 57/100\n",
            "9096/9096 [==============================] - 8s 857us/sample - loss: 12.4372 - acc: 0.1889 - val_loss: 12.5937 - val_acc: 0.1741\n",
            "Epoch 58/100\n",
            "9096/9096 [==============================] - 8s 862us/sample - loss: 12.4372 - acc: 0.1889 - val_loss: 12.5937 - val_acc: 0.1741\n",
            "Epoch 59/100\n",
            "9096/9096 [==============================] - 8s 861us/sample - loss: 12.4372 - acc: 0.1889 - val_loss: 12.5937 - val_acc: 0.1741\n",
            "Epoch 60/100\n",
            "9096/9096 [==============================] - 8s 865us/sample - loss: 12.4372 - acc: 0.1889 - val_loss: 12.5937 - val_acc: 0.1741\n",
            "Epoch 61/100\n",
            "9096/9096 [==============================] - 8s 861us/sample - loss: 12.4372 - acc: 0.1889 - val_loss: 12.5937 - val_acc: 0.1741\n",
            "Epoch 62/100\n",
            "9096/9096 [==============================] - 8s 861us/sample - loss: 12.4372 - acc: 0.1889 - val_loss: 12.5937 - val_acc: 0.1741\n",
            "Epoch 63/100\n",
            "9096/9096 [==============================] - 8s 859us/sample - loss: 12.4372 - acc: 0.1889 - val_loss: 12.5937 - val_acc: 0.1741\n",
            "Epoch 64/100\n",
            "9096/9096 [==============================] - 8s 862us/sample - loss: 12.4372 - acc: 0.1889 - val_loss: 12.5937 - val_acc: 0.1741\n",
            "Epoch 65/100\n",
            "9096/9096 [==============================] - 8s 862us/sample - loss: 12.4372 - acc: 0.1889 - val_loss: 12.5937 - val_acc: 0.1741\n",
            "Epoch 66/100\n",
            "9096/9096 [==============================] - 8s 867us/sample - loss: 12.4372 - acc: 0.1889 - val_loss: 12.5937 - val_acc: 0.1741\n",
            "Epoch 67/100\n",
            "9096/9096 [==============================] - 8s 863us/sample - loss: 12.4372 - acc: 0.1889 - val_loss: 12.5937 - val_acc: 0.1741\n",
            "Epoch 68/100\n",
            "9096/9096 [==============================] - 8s 884us/sample - loss: 12.4372 - acc: 0.1889 - val_loss: 12.5937 - val_acc: 0.1741\n",
            "Epoch 69/100\n",
            "9096/9096 [==============================] - 8s 869us/sample - loss: 12.4372 - acc: 0.1889 - val_loss: 12.5937 - val_acc: 0.1741\n",
            "Epoch 70/100\n",
            "9096/9096 [==============================] - 8s 864us/sample - loss: 12.4372 - acc: 0.1889 - val_loss: 12.5937 - val_acc: 0.1741\n",
            "Epoch 71/100\n",
            "9096/9096 [==============================] - 8s 861us/sample - loss: 12.4372 - acc: 0.1889 - val_loss: 12.5937 - val_acc: 0.1741\n",
            "Epoch 72/100\n",
            "9096/9096 [==============================] - 8s 861us/sample - loss: 12.4372 - acc: 0.1889 - val_loss: 12.5937 - val_acc: 0.1741\n",
            "Epoch 73/100\n",
            "9096/9096 [==============================] - 8s 865us/sample - loss: 12.4372 - acc: 0.1889 - val_loss: 12.5937 - val_acc: 0.1741\n",
            "Epoch 74/100\n",
            "9096/9096 [==============================] - 8s 867us/sample - loss: 12.4372 - acc: 0.1889 - val_loss: 12.5937 - val_acc: 0.1741\n",
            "Epoch 75/100\n",
            "9096/9096 [==============================] - 8s 866us/sample - loss: 12.4372 - acc: 0.1889 - val_loss: 12.5937 - val_acc: 0.1741\n",
            "Epoch 76/100\n",
            "9096/9096 [==============================] - 8s 868us/sample - loss: 12.4372 - acc: 0.1889 - val_loss: 12.5937 - val_acc: 0.1741\n",
            "Epoch 77/100\n",
            "9096/9096 [==============================] - 8s 866us/sample - loss: 12.4372 - acc: 0.1889 - val_loss: 12.5937 - val_acc: 0.1741\n",
            "Epoch 78/100\n",
            "9096/9096 [==============================] - 8s 866us/sample - loss: 12.4372 - acc: 0.1889 - val_loss: 12.5937 - val_acc: 0.1741\n",
            "Epoch 79/100\n",
            "9096/9096 [==============================] - 8s 864us/sample - loss: 12.4372 - acc: 0.1889 - val_loss: 12.5937 - val_acc: 0.1741\n",
            "Epoch 80/100\n",
            "9096/9096 [==============================] - 8s 862us/sample - loss: 12.4372 - acc: 0.1889 - val_loss: 12.5937 - val_acc: 0.1741\n",
            "Epoch 81/100\n",
            "9096/9096 [==============================] - 8s 865us/sample - loss: 12.4372 - acc: 0.1889 - val_loss: 12.5937 - val_acc: 0.1741\n",
            "Epoch 82/100\n",
            "9096/9096 [==============================] - 8s 863us/sample - loss: 12.4372 - acc: 0.1889 - val_loss: 12.5937 - val_acc: 0.1741\n",
            "Epoch 83/100\n",
            "9096/9096 [==============================] - 8s 863us/sample - loss: 12.4372 - acc: 0.1889 - val_loss: 12.5937 - val_acc: 0.1741\n",
            "Epoch 84/100\n",
            "9096/9096 [==============================] - 8s 866us/sample - loss: 12.4372 - acc: 0.1889 - val_loss: 12.5937 - val_acc: 0.1741\n",
            "Epoch 85/100\n",
            "9096/9096 [==============================] - 8s 863us/sample - loss: 12.4372 - acc: 0.1889 - val_loss: 12.5937 - val_acc: 0.1741\n",
            "Epoch 86/100\n",
            "9096/9096 [==============================] - 8s 860us/sample - loss: 12.4372 - acc: 0.1889 - val_loss: 12.5937 - val_acc: 0.1741\n",
            "Epoch 87/100\n",
            "9096/9096 [==============================] - 8s 858us/sample - loss: 12.4355 - acc: 0.1890 - val_loss: 12.5937 - val_acc: 0.1741\n",
            "Epoch 88/100\n",
            "9096/9096 [==============================] - 8s 867us/sample - loss: 12.4372 - acc: 0.1889 - val_loss: 12.5937 - val_acc: 0.1741\n",
            "Epoch 89/100\n",
            "9096/9096 [==============================] - 8s 871us/sample - loss: 12.4372 - acc: 0.1889 - val_loss: 12.5937 - val_acc: 0.1741\n",
            "Epoch 90/100\n",
            "9096/9096 [==============================] - 8s 869us/sample - loss: 12.4372 - acc: 0.1889 - val_loss: 12.5937 - val_acc: 0.1741\n",
            "Epoch 91/100\n",
            "9096/9096 [==============================] - 8s 874us/sample - loss: 12.4372 - acc: 0.1889 - val_loss: 12.5937 - val_acc: 0.1741\n",
            "Epoch 92/100\n",
            "9096/9096 [==============================] - 8s 869us/sample - loss: 12.4372 - acc: 0.1889 - val_loss: 12.5937 - val_acc: 0.1741\n",
            "Epoch 93/100\n",
            "9096/9096 [==============================] - 8s 868us/sample - loss: 12.4372 - acc: 0.1889 - val_loss: 12.5937 - val_acc: 0.1741\n",
            "Epoch 94/100\n",
            "9096/9096 [==============================] - 8s 869us/sample - loss: 12.4372 - acc: 0.1889 - val_loss: 12.5937 - val_acc: 0.1741\n",
            "Epoch 95/100\n",
            "9096/9096 [==============================] - 8s 861us/sample - loss: 12.4372 - acc: 0.1889 - val_loss: 12.5937 - val_acc: 0.1741\n",
            "Epoch 96/100\n",
            "9096/9096 [==============================] - 8s 866us/sample - loss: 12.4372 - acc: 0.1889 - val_loss: 12.5937 - val_acc: 0.1741\n",
            "Epoch 97/100\n",
            "9096/9096 [==============================] - 8s 870us/sample - loss: 12.4372 - acc: 0.1889 - val_loss: 12.5937 - val_acc: 0.1741\n",
            "Epoch 98/100\n",
            "9096/9096 [==============================] - 8s 865us/sample - loss: 12.4372 - acc: 0.1889 - val_loss: 12.5937 - val_acc: 0.1741\n",
            "Epoch 99/100\n",
            "9096/9096 [==============================] - 8s 870us/sample - loss: 12.4372 - acc: 0.1889 - val_loss: 12.5937 - val_acc: 0.1741\n",
            "Epoch 100/100\n",
            "9096/9096 [==============================] - 8s 861us/sample - loss: 12.4372 - acc: 0.1889 - val_loss: 12.5937 - val_acc: 0.1741\n",
            "Acuracy 0.1741424802110818\n",
            "Macro precision_recall_fscore_support\n"
          ],
          "name": "stdout"
        },
        {
          "output_type": "stream",
          "text": [
            "/usr/local/lib/python3.6/dist-packages/sklearn/metrics/_classification.py:1272: UndefinedMetricWarning: Precision and F-score are ill-defined and being set to 0.0 in labels with no predicted samples. Use `zero_division` parameter to control this behavior.\n",
            "  _warn_prf(average, modifier, msg_start, len(result))\n"
          ],
          "name": "stderr"
        },
        {
          "output_type": "stream",
          "text": [
            "(0.0870712401055409, 0.5, 0.14831460674157304, None)\n",
            "Micro precision_recall_fscore_support\n",
            "(0.1741424802110818, 0.1741424802110818, 0.1741424802110818, None)\n",
            "Weighted precision_recall_fscore_support\n",
            "(0.030325603414067013, 0.1741424802110818, 0.05165574693901752, None)\n",
            "CPU times: user 23min 24s, sys: 17.7 s, total: 23min 41s\n",
            "Wall time: 13min 9s\n"
          ],
          "name": "stdout"
        }
      ]
    },
    {
      "cell_type": "markdown",
      "metadata": {
        "id": "Ow1MWDRQ8h13"
      },
      "source": [
        "## Results"
      ]
    },
    {
      "cell_type": "markdown",
      "metadata": {
        "id": "6Kb6wkSv6GhW"
      },
      "source": [
        "![image.png](data:image/png;base64,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)"
      ]
    },
    {
      "cell_type": "markdown",
      "metadata": {
        "id": "5iut12__8oaY"
      },
      "source": [
        "## Conclusion<br>\r\n",
        "\r\n",
        "1. Deep Learning Models are easy to overfit and underfit.<br>\r\n",
        "2. Do not underestimate the power of Machine Learning techniques.<br>\r\n",
        "3. Relu and Adam with Dropout proved to best as expected.<br>\r\n",
        "4. SVM is still the best as far as accuracy and training time is concerned. \r\n",
        "\r\n"
      ]
    }
  ]
}